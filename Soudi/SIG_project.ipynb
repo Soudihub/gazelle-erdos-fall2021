{
 "cells": [
  {
   "cell_type": "code",
   "execution_count": 1,
   "metadata": {},
   "outputs": [],
   "source": [
    "import numpy as np\n",
    "import pandas as pd\n",
    "import matplotlib.pyplot as plt\n",
    "import seaborn as sns\n",
    "sns.set_style('darkgrid')\n",
    "import requests"
   ]
  },
  {
   "cell_type": "code",
   "execution_count": 7,
   "metadata": {},
   "outputs": [],
   "source": [
    "from bs4 import BeautifulSoup"
   ]
  },
  {
   "cell_type": "code",
   "execution_count": 85,
   "metadata": {},
   "outputs": [],
   "source": [
    "from IPython.display import IFrame, HTML"
   ]
  },
  {
   "cell_type": "code",
   "execution_count": 2,
   "metadata": {},
   "outputs": [],
   "source": [
    "req = requests.get('https://stockaholics.net/forums/stock-market-today.2/')"
   ]
  },
  {
   "cell_type": "code",
   "execution_count": null,
   "metadata": {},
   "outputs": [],
   "source": [
    "page = req.text"
   ]
  },
  {
   "cell_type": "code",
   "execution_count": 8,
   "metadata": {},
   "outputs": [],
   "source": [
    "soup = BeautifulSoup(page, 'html.parser')"
   ]
  },
  {
   "cell_type": "code",
   "execution_count": 20,
   "metadata": {},
   "outputs": [
    {
     "data": {
      "text/plain": [
       "1145"
      ]
     },
     "execution_count": 20,
     "metadata": {},
     "output_type": "execute_result"
    }
   ],
   "source": [
    "len(soup.findAll(list))"
   ]
  },
  {
   "cell_type": "code",
   "execution_count": 29,
   "metadata": {},
   "outputs": [],
   "source": [
    "lists = soup.findAll('li' , {'class':'discussionListItem visible'})"
   ]
  },
  {
   "cell_type": "code",
   "execution_count": 129,
   "metadata": {},
   "outputs": [],
   "source": [
    "# This part gathers the link of the posts in the first page along the number of views and replies each post had \n",
    "ids = []\n",
    "Links = []\n",
    "replies = []\n",
    "views = []\n",
    "for li in lists:\n",
    "    ids.append(li.get('id'))\n",
    "    ref = li.findAll('h3')\n",
    "    Links.append(ref[0].find('a').get('href'))\n",
    "    dls = li.findAll('dl')\n",
    "    reply = dls[0].find('dd').get_text()\n",
    "    view = dls[1].find('dd').get_text()\n",
    "    replies.append(reply)\n",
    "    views.append(view)\n",
    "    "
   ]
  },
  {
   "cell_type": "code",
   "execution_count": null,
   "metadata": {},
   "outputs": [],
   "source": [
    "for link in Links:\n",
    "    req = requests.get('https://stockaholics.net/'+str(Link))\n",
    "    page = req.text\n",
    "    soup = BeautifulSoup(page, 'html.parser')\n",
    "    \n",
    "    \n",
    "    "
   ]
  },
  {
   "cell_type": "code",
   "execution_count": 135,
   "metadata": {},
   "outputs": [],
   "source": [
    "req_trader = requests.get('https://www.traderji.com/community/forums/day-trading.110/')"
   ]
  },
  {
   "cell_type": "code",
   "execution_count": 137,
   "metadata": {},
   "outputs": [],
   "source": [
    "page_trader = req_trader.text"
   ]
  },
  {
   "cell_type": "code",
   "execution_count": 138,
   "metadata": {},
   "outputs": [],
   "source": [
    "soup_trader = BeautifulSoup(page_trader, 'html.parser')"
   ]
  },
  {
   "cell_type": "code",
   "execution_count": 245,
   "metadata": {},
   "outputs": [],
   "source": [
    "# Here I am finding links of the first page of Traderjis\n",
    "post_containers = soup_trader.findAll('div', {'class':'structItem-cell structItem-cell--main'})\n",
    "titles = []\n",
    "times = []\n",
    "last_time = []\n",
    "refs = []\n",
    "replies = []\n",
    "views = []\n",
    "for post_container in post_containers:\n",
    "    #Here I get the titles\n",
    "    title_container = post_container.find('div', {'class':'structItem-title'})\n",
    "    titles.append(title_container.find('a').text)\n",
    "    #Here I get the links to each post\n",
    "    refs.append(title_container.find('a').get('href'))\n",
    "    #here I get the date it was first posted\n",
    "    time_time_container = post_container.findAll('li', {'class':'structItem-startDate'})\n",
    "    time_container = time_time_container[0].find('a')\n",
    "    times.append(time_container.find('time').get('title'))\n",
    "\n",
    "#here I get number of replies and views\n",
    "rev_rep_container = soup_trader.findAll('div',{'class':'structItem-cell structItem-cell--meta'})\n",
    "\n",
    "for rev_rep in rev_rep_container:\n",
    "    revAndrep = rev_rep.findAll('dd')\n",
    "    replies.append(revAndrep[0].text)\n",
    "    views.append(revAndrep[1].text)\n",
    "    \n",
    "# Here I find the last day a post was active\n",
    "last_times = soup_trader.findAll('div',{'class':'structItem-cell structItem-cell--latest'})\n",
    "for time in last_times:\n",
    "    last_time.append(time.find('a').find('time').text)\n",
    "    \n",
    "\n"
   ]
  },
  {
   "cell_type": "code",
   "execution_count": 247,
   "metadata": {},
   "outputs": [],
   "source": []
  },
  {
   "cell_type": "code",
   "execution_count": null,
   "metadata": {},
   "outputs": [],
   "source": []
  },
  {
   "cell_type": "code",
   "execution_count": 232,
   "metadata": {},
   "outputs": [],
   "source": [
    "last_time = soup_trader.findAll('div',{'class':'structItem-cell structItem-cell--latest'})"
   ]
  },
  {
   "cell_type": "code",
   "execution_count": 242,
   "metadata": {},
   "outputs": [
    {
     "data": {
      "text/plain": [
       "<time class=\"structItem-latestDate u-dt\" data-date-string=\"Aug 28, 2021\" data-time=\"1630167470\" data-time-string=\"9:47 PM\" datetime=\"2021-08-28T21:47:50+0530\" dir=\"auto\" title=\"Aug 28, 2021 at 9:47 PM\">Aug 28, 2021</time>"
      ]
     },
     "execution_count": 242,
     "metadata": {},
     "output_type": "execute_result"
    }
   ],
   "source": [
    "tt = last_time[0].find('a').find('time')\n",
    "tt"
   ]
  },
  {
   "cell_type": "code",
   "execution_count": 243,
   "metadata": {},
   "outputs": [
    {
     "data": {
      "text/plain": [
       "'Aug 28, 2021'"
      ]
     },
     "execution_count": 243,
     "metadata": {},
     "output_type": "execute_result"
    }
   ],
   "source": [
    "tt.text"
   ]
  },
  {
   "cell_type": "code",
   "execution_count": 210,
   "metadata": {},
   "outputs": [
    {
     "data": {
      "text/plain": [
       "'/community/threads/how-to-trade-with-an-oscillator.30182/'"
      ]
     },
     "execution_count": 210,
     "metadata": {},
     "output_type": "execute_result"
    }
   ],
   "source": [
    "t.find('a').get('href')"
   ]
  },
  {
   "cell_type": "code",
   "execution_count": 201,
   "metadata": {},
   "outputs": [
    {
     "data": {
      "text/plain": [
       "<a href=\"/community/threads/how-to-trade-with-an-oscillator.30182/\" rel=\"nofollow\"><time class=\"u-dt\" data-date-string=\"Jun 27, 2009\" data-time=\"1246076669\" data-time-string=\"9:54 AM\" datetime=\"2009-06-27T09:54:29+0530\" dir=\"auto\" title=\"Jun 27, 2009 at 9:54 AM\">Jun 27, 2009</time></a>"
      ]
     },
     "execution_count": 201,
     "metadata": {},
     "output_type": "execute_result"
    }
   ],
   "source": []
  },
  {
   "cell_type": "code",
   "execution_count": 202,
   "metadata": {},
   "outputs": [
    {
     "data": {
      "text/plain": [
       "'Jun 27, 2009 at 9:54 AM'"
      ]
     },
     "execution_count": 202,
     "metadata": {},
     "output_type": "execute_result"
    }
   ],
   "source": []
  },
  {
   "cell_type": "code",
   "execution_count": 62,
   "metadata": {},
   "outputs": [],
   "source": [
    "Ref = lists[2].findAll('h3')"
   ]
  },
  {
   "cell_type": "code",
   "execution_count": 80,
   "metadata": {},
   "outputs": [],
   "source": [
    "Link = Ref[0].find('a').get('href')"
   ]
  },
  {
   "cell_type": "code",
   "execution_count": 81,
   "metadata": {},
   "outputs": [],
   "source": [
    "req = requests.get('https://stockaholics.net/'+str(Link))"
   ]
  },
  {
   "cell_type": "code",
   "execution_count": 123,
   "metadata": {},
   "outputs": [
    {
     "data": {
      "text/plain": [
       "[<dl class=\"major\"><dt>Replies:</dt> <dd>10</dd></dl>,\n",
       " <dl class=\"minor\"><dt>Views:</dt> <dd>2,109</dd></dl>,\n",
       " <dl class=\"lastPostInfo\">\n",
       " <a class=\"avatar Av20s\" data-avatarhtml=\"true\" href=\"members/stockjock-e.20/\"><img alt=\"StockJock-e\" height=\"48\" src=\"data/avatars/s/0/20.jpg?1531677476\" width=\"48\"/></a>\n",
       " <dt><a class=\"username\" dir=\"auto\" href=\"members/stockjock-e.20/\">StockJock-e</a></dt>\n",
       " <dd class=\"muted\"><a class=\"dateTime\">\n",
       " <abbr class=\"DateTime\" data-datestring=\"Oct 19, 2021\" data-diff=\"203965\" data-time=\"1634656560\" data-timestring=\"11:16 AM\">Oct 19, 2021 at 11:16 AM</abbr>\n",
       " </a></dd>\n",
       " </dl>]"
      ]
     },
     "execution_count": 123,
     "metadata": {},
     "output_type": "execute_result"
    }
   ],
   "source": [
    "dls = lists[2].findAll('dl')\n",
    "dls\n"
   ]
  },
  {
   "cell_type": "code",
   "execution_count": 128,
   "metadata": {},
   "outputs": [
    {
     "data": {
      "text/plain": [
       "<dd>10</dd>"
      ]
     },
     "execution_count": 128,
     "metadata": {},
     "output_type": "execute_result"
    }
   ],
   "source": [
    "dls[0].find('dd')"
   ]
  },
  {
   "cell_type": "code",
   "execution_count": 90,
   "metadata": {},
   "outputs": [
    {
     "data": {
      "text/plain": [
       "<li class=\"discussionListItem visible\" data-author=\"StockJock-e\" id=\"thread-4935\">\n",
       "<div class=\"listBlock posterAvatar\">\n",
       "<span class=\"avatarContainer\">\n",
       "<a class=\"avatar Av20s\" data-avatarhtml=\"true\" href=\"members/stockjock-e.20/\"><img alt=\"StockJock-e\" height=\"48\" src=\"data/avatars/s/0/20.jpg?1531677476\" width=\"48\"/></a>\n",
       "</span>\n",
       "</div>\n",
       "<div class=\"listBlock main\">\n",
       "<div class=\"titleText\">\n",
       "<h3 class=\"title\">\n",
       "<a class=\"PreviewTooltip\" data-previewurl=\"threads/anniversary-of-the-1987-crash.4935/preview\" href=\"threads/anniversary-of-the-1987-crash.4935/\" title=\"\">anniversary of the 1987 crash</a>\n",
       "</h3>\n",
       "<div class=\"secondRow\">\n",
       "<div class=\"posterDate muted\">\n",
       "<a class=\"username\" dir=\"auto\" href=\"members/stockjock-e.20/\" title=\"Thread starter\">StockJock-e</a><span class=\"startDate\">,\n",
       "\t\t\t\t\t<a class=\"faint\">\n",
       "<span class=\"DateTime\" title=\"\">Oct 19, 2017</span>\n",
       "</a></span>\n",
       "</div>\n",
       "<div class=\"controls faint\">\n",
       "</div>\n",
       "</div>\n",
       "</div>\n",
       "</div>\n",
       "<div class=\"listBlock stats pairsJustified\" title=\"Members who liked the first message: 1\">\n",
       "<dl class=\"major\"><dt>Replies:</dt> <dd>10</dd></dl>\n",
       "<dl class=\"minor\"><dt>Views:</dt> <dd>2,109</dd></dl>\n",
       "</div>\n",
       "<div class=\"listBlock lastPost\">\n",
       "<dl class=\"lastPostInfo\">\n",
       "<a class=\"avatar Av20s\" data-avatarhtml=\"true\" href=\"members/stockjock-e.20/\"><img alt=\"StockJock-e\" height=\"48\" src=\"data/avatars/s/0/20.jpg?1531677476\" width=\"48\"/></a>\n",
       "<dt><a class=\"username\" dir=\"auto\" href=\"members/stockjock-e.20/\">StockJock-e</a></dt>\n",
       "<dd class=\"muted\"><a class=\"dateTime\">\n",
       "<abbr class=\"DateTime\" data-datestring=\"Oct 19, 2021\" data-diff=\"203965\" data-time=\"1634656560\" data-timestring=\"11:16 AM\">Oct 19, 2021 at 11:16 AM</abbr>\n",
       "</a></dd>\n",
       "</dl>\n",
       "</div>\n",
       "</li>"
      ]
     },
     "execution_count": 90,
     "metadata": {},
     "output_type": "execute_result"
    }
   ],
   "source": [
    "lists[2]"
   ]
  },
  {
   "cell_type": "code",
   "execution_count": 248,
   "metadata": {},
   "outputs": [],
   "source": [
    "import nltk"
   ]
  },
  {
   "cell_type": "code",
   "execution_count": 249,
   "metadata": {},
   "outputs": [],
   "source": [
    "from nltk.tokenize import sent_tokenize, word_tokenize"
   ]
  },
  {
   "cell_type": "code",
   "execution_count": 263,
   "metadata": {},
   "outputs": [],
   "source": [
    "from nltk.stem import PorterStemmer"
   ]
  },
  {
   "cell_type": "code",
   "execution_count": 253,
   "metadata": {},
   "outputs": [],
   "source": [
    "from nltk.corpus import stopwords"
   ]
  },
  {
   "cell_type": "code",
   "execution_count": 274,
   "metadata": {},
   "outputs": [],
   "source": [
    "example_text = 'Hello there, how are you doing? the weather is great and python is doly.'"
   ]
  },
  {
   "cell_type": "code",
   "execution_count": 254,
   "metadata": {},
   "outputs": [],
   "source": [
    "stop_words = set(stopwords.words('english'))"
   ]
  },
  {
   "cell_type": "code",
   "execution_count": 255,
   "metadata": {},
   "outputs": [
    {
     "name": "stdout",
     "output_type": "stream",
     "text": [
      "{\"hasn't\", 'couldn', 'not', 'both', 'their', 'him', 'into', 'that', 'too', 'few', \"couldn't\", 'once', 'above', 'be', 'in', 'will', 'weren', 'he', 'does', 'who', 'until', 'against', 'whom', 'are', 'did', \"should've\", 'how', 'up', \"shan't\", 'myself', 'with', 'before', 'when', 'if', \"you'll\", 'yourself', 'below', 'more', 'at', 'ma', \"needn't\", 'to', 'this', \"don't\", 'what', 'which', 'between', 'after', 'his', 'shouldn', 'ain', 'themselves', 'where', 'wouldn', 'here', 'doing', \"isn't\", 'our', 'through', 'just', 'doesn', 'yourselves', 'we', 'only', 'o', 'i', 'nor', \"wouldn't\", 'do', \"didn't\", 'these', \"mightn't\", \"mustn't\", 'didn', \"weren't\", 'as', 'hasn', 'for', 't', 'it', 'me', 'having', 'she', 'why', 're', 'any', 'aren', 'theirs', 've', 'some', 'off', \"doesn't\", 'being', 'no', 'very', 'haven', 'your', 'you', 'each', 'other', 'should', 'mustn', 'ourselves', 'needn', 'd', 'was', 'because', 'on', \"you're\", 'out', 'have', 'can', 'isn', 'by', 'mightn', 'an', 'while', 'were', 'y', 'shan', 'itself', 'again', \"won't\", 'same', 'down', 's', 'than', 'all', \"that'll\", 'had', 'now', 'during', \"haven't\", 'has', \"she's\", 'my', 'and', 'but', 'under', 'its', 'don', 'ours', 'over', \"wasn't\", 'am', 'own', \"shouldn't\", 'yours', \"you've\", 'further', 'her', 'won', 'm', 'there', \"you'd\", 'the', 'is', 'about', 'himself', 'so', 'such', \"aren't\", 'or', 'herself', 'them', 'wasn', 'll', 'those', 'of', 'been', 'a', 'hers', 'from', 'then', \"hadn't\", 'they', 'hadn', \"it's\", 'most'}\n"
     ]
    }
   ],
   "source": [
    "print(stop_words)"
   ]
  },
  {
   "cell_type": "code",
   "execution_count": 275,
   "metadata": {},
   "outputs": [],
   "source": [
    "words = word_tokenize(example_text)"
   ]
  },
  {
   "cell_type": "code",
   "execution_count": 266,
   "metadata": {},
   "outputs": [],
   "source": [
    "ps = PorterStemmer()"
   ]
  },
  {
   "cell_type": "code",
   "execution_count": 261,
   "metadata": {},
   "outputs": [],
   "source": [
    "filtered_sentence = [w for w in words if not w in stop_words]"
   ]
  },
  {
   "cell_type": "code",
   "execution_count": 262,
   "metadata": {},
   "outputs": [
    {
     "data": {
      "text/plain": [
       "['Hello', ',', '?', 'weather', 'great', 'python', 'awsome', '.']"
      ]
     },
     "execution_count": 262,
     "metadata": {},
     "output_type": "execute_result"
    }
   ],
   "source": [
    "filtered_sentence"
   ]
  },
  {
   "cell_type": "code",
   "execution_count": 276,
   "metadata": {},
   "outputs": [
    {
     "name": "stdout",
     "output_type": "stream",
     "text": [
      "hello\n",
      "there\n",
      ",\n",
      "how\n",
      "are\n",
      "you\n",
      "do\n",
      "?\n",
      "the\n",
      "weather\n",
      "is\n",
      "great\n",
      "and\n",
      "python\n",
      "is\n",
      "doli\n",
      ".\n"
     ]
    }
   ],
   "source": [
    "for w in words:\n",
    "    print(ps.stem(w))"
   ]
  },
  {
   "cell_type": "code",
   "execution_count": null,
   "metadata": {},
   "outputs": [],
   "source": []
  }
 ],
 "metadata": {
  "kernelspec": {
   "display_name": "Python 3",
   "language": "python",
   "name": "python3"
  },
  "language_info": {
   "codemirror_mode": {
    "name": "ipython",
    "version": 3
   },
   "file_extension": ".py",
   "mimetype": "text/x-python",
   "name": "python",
   "nbconvert_exporter": "python",
   "pygments_lexer": "ipython3",
   "version": "3.8.5"
  }
 },
 "nbformat": 4,
 "nbformat_minor": 2
}
