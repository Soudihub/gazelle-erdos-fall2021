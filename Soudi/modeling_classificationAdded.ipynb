{
 "cells": [
  {
   "cell_type": "code",
   "execution_count": 1,
   "metadata": {},
   "outputs": [],
   "source": [
    "import numpy as np\n",
    "import pandas as pd\n",
    "import matplotlib.pyplot as plt\n",
    "import seaborn as sns\n",
    "sns.set_style('darkgrid')\n",
    "import requests\n",
    "import sys\n",
    "from pandas.plotting import register_matplotlib_converters\n",
    "register_matplotlib_converters()\n",
    "import ast\n",
    "import random\n",
    "from nltk.tokenize import sent_tokenize, word_tokenize\n",
    "from nltk.probability import FreqDist\n",
    "from nltk.corpus import stopwords\n",
    "from nltk.stem import PorterStemmer\n",
    "from string import punctuation\n",
    "import nltk\n",
    "from nltk.text import Text\n",
    "from datetime import datetime, timedelta"
   ]
  },
  {
   "cell_type": "code",
   "execution_count": 2,
   "metadata": {},
   "outputs": [],
   "source": [
    "df_24 = pd.read_csv('d:/Machine_Learning/Erdoes_Fall/project/PatData/After24hours.csv', index_col = False)"
   ]
  },
  {
   "cell_type": "code",
   "execution_count": 3,
   "metadata": {},
   "outputs": [
    {
     "data": {
      "text/html": [
       "<div>\n",
       "<style scoped>\n",
       "    .dataframe tbody tr th:only-of-type {\n",
       "        vertical-align: middle;\n",
       "    }\n",
       "\n",
       "    .dataframe tbody tr th {\n",
       "        vertical-align: top;\n",
       "    }\n",
       "\n",
       "    .dataframe thead th {\n",
       "        text-align: right;\n",
       "    }\n",
       "</style>\n",
       "<table border=\"1\" class=\"dataframe\">\n",
       "  <thead>\n",
       "    <tr style=\"text-align: right;\">\n",
       "      <th></th>\n",
       "      <th>post_id</th>\n",
       "      <th>active_track</th>\n",
       "      <th>title</th>\n",
       "      <th>comment_url</th>\n",
       "      <th>link_url</th>\n",
       "      <th>flair</th>\n",
       "      <th>submit_time</th>\n",
       "      <th>rising_val</th>\n",
       "      <th>hot_val</th>\n",
       "      <th>username</th>\n",
       "      <th>...</th>\n",
       "      <th>redditor_for</th>\n",
       "      <th>upvotes</th>\n",
       "      <th>upvote_percent</th>\n",
       "      <th>num_comments</th>\n",
       "      <th>submission_id</th>\n",
       "      <th>upvotes_24</th>\n",
       "      <th>comment_after_1hour</th>\n",
       "      <th>total_number_comments</th>\n",
       "      <th>hot_val_24</th>\n",
       "      <th>upvote_perc_24</th>\n",
       "    </tr>\n",
       "  </thead>\n",
       "  <tbody>\n",
       "    <tr>\n",
       "      <td>0</td>\n",
       "      <td>2</td>\n",
       "      <td>No</td>\n",
       "      <td>China Evergrande Ends Talks on Hopson Deal, As...</td>\n",
       "      <td>https://old.reddit.com/r/wallstreetbets/commen...</td>\n",
       "      <td>https://www.bloomberg.com/news/articles/2021-1...</td>\n",
       "      <td>News</td>\n",
       "      <td>\"2021-10-20T15:25:08</td>\n",
       "      <td>9</td>\n",
       "      <td>70</td>\n",
       "      <td>AppyWappy</td>\n",
       "      <td>...</td>\n",
       "      <td>1618.662336</td>\n",
       "      <td>2</td>\n",
       "      <td>75</td>\n",
       "      <td>9</td>\n",
       "      <td>qc3dwu</td>\n",
       "      <td>8</td>\n",
       "      <td>11</td>\n",
       "      <td>15</td>\n",
       "      <td>999</td>\n",
       "      <td>71</td>\n",
       "    </tr>\n",
       "    <tr>\n",
       "      <td>1</td>\n",
       "      <td>3</td>\n",
       "      <td>No</td>\n",
       "      <td>Impact of Federal Legalization on TLRY</td>\n",
       "      <td>https://old.reddit.com/r/wallstreetbets/commen...</td>\n",
       "      <td>https://old.reddit.com/r/wallstreetbets/commen...</td>\n",
       "      <td>DD</td>\n",
       "      <td>\"2021-10-20T15:24:28</td>\n",
       "      <td>4</td>\n",
       "      <td>91</td>\n",
       "      <td>MichKOG</td>\n",
       "      <td>...</td>\n",
       "      <td>1861.732471</td>\n",
       "      <td>1</td>\n",
       "      <td>53</td>\n",
       "      <td>18</td>\n",
       "      <td>qc3de5</td>\n",
       "      <td>20</td>\n",
       "      <td>28</td>\n",
       "      <td>80</td>\n",
       "      <td>999</td>\n",
       "      <td>59</td>\n",
       "    </tr>\n",
       "    <tr>\n",
       "      <td>2</td>\n",
       "      <td>4</td>\n",
       "      <td>No</td>\n",
       "      <td>Novavax $NVAX is being investigated after big ...</td>\n",
       "      <td>https://old.reddit.com/r/wallstreetbets/commen...</td>\n",
       "      <td>https://www.globenewswire.com/news-release/202...</td>\n",
       "      <td>News</td>\n",
       "      <td>\"2021-10-20T15:09:17</td>\n",
       "      <td>5</td>\n",
       "      <td>49</td>\n",
       "      <td>johnboycutter</td>\n",
       "      <td>...</td>\n",
       "      <td>2034.134827</td>\n",
       "      <td>5</td>\n",
       "      <td>78</td>\n",
       "      <td>10</td>\n",
       "      <td>qc30zw</td>\n",
       "      <td>20</td>\n",
       "      <td>10</td>\n",
       "      <td>13</td>\n",
       "      <td>999</td>\n",
       "      <td>84</td>\n",
       "    </tr>\n",
       "    <tr>\n",
       "      <td>3</td>\n",
       "      <td>5</td>\n",
       "      <td>No</td>\n",
       "      <td>I suggested this few weeks ago and I was ridic...</td>\n",
       "      <td>https://old.reddit.com/r/wallstreetbets/commen...</td>\n",
       "      <td>https://i.redd.it/4oj1aea3emu71.jpg</td>\n",
       "      <td>Gain</td>\n",
       "      <td>\"2021-10-20T15:01:54</td>\n",
       "      <td>2</td>\n",
       "      <td>24</td>\n",
       "      <td>MgKx</td>\n",
       "      <td>...</td>\n",
       "      <td>1497.069590</td>\n",
       "      <td>20</td>\n",
       "      <td>81</td>\n",
       "      <td>12</td>\n",
       "      <td>qc2uxo</td>\n",
       "      <td>76</td>\n",
       "      <td>14</td>\n",
       "      <td>30</td>\n",
       "      <td>88</td>\n",
       "      <td>80</td>\n",
       "    </tr>\n",
       "    <tr>\n",
       "      <td>4</td>\n",
       "      <td>6</td>\n",
       "      <td>No</td>\n",
       "      <td>WISHtards today...</td>\n",
       "      <td>https://old.reddit.com/r/wallstreetbets/commen...</td>\n",
       "      <td>https://i.redd.it/6mv5z7cctmu71.jpg</td>\n",
       "      <td>Meme</td>\n",
       "      <td>\"2021-10-20T16:27:23</td>\n",
       "      <td>99</td>\n",
       "      <td>22</td>\n",
       "      <td>Janto_2021</td>\n",
       "      <td>...</td>\n",
       "      <td>336.027425</td>\n",
       "      <td>20</td>\n",
       "      <td>92</td>\n",
       "      <td>3</td>\n",
       "      <td>qc4rq4</td>\n",
       "      <td>32171</td>\n",
       "      <td>63</td>\n",
       "      <td>598</td>\n",
       "      <td>7</td>\n",
       "      <td>92</td>\n",
       "    </tr>\n",
       "  </tbody>\n",
       "</table>\n",
       "<p>5 rows × 22 columns</p>\n",
       "</div>"
      ],
      "text/plain": [
       "   post_id active_track                                              title  \\\n",
       "0        2           No  China Evergrande Ends Talks on Hopson Deal, As...   \n",
       "1        3           No             Impact of Federal Legalization on TLRY   \n",
       "2        4           No  Novavax $NVAX is being investigated after big ...   \n",
       "3        5           No  I suggested this few weeks ago and I was ridic...   \n",
       "4        6           No                                 WISHtards today...   \n",
       "\n",
       "                                         comment_url  \\\n",
       "0  https://old.reddit.com/r/wallstreetbets/commen...   \n",
       "1  https://old.reddit.com/r/wallstreetbets/commen...   \n",
       "2  https://old.reddit.com/r/wallstreetbets/commen...   \n",
       "3  https://old.reddit.com/r/wallstreetbets/commen...   \n",
       "4  https://old.reddit.com/r/wallstreetbets/commen...   \n",
       "\n",
       "                                            link_url flair  \\\n",
       "0  https://www.bloomberg.com/news/articles/2021-1...  News   \n",
       "1  https://old.reddit.com/r/wallstreetbets/commen...    DD   \n",
       "2  https://www.globenewswire.com/news-release/202...  News   \n",
       "3                https://i.redd.it/4oj1aea3emu71.jpg  Gain   \n",
       "4                https://i.redd.it/6mv5z7cctmu71.jpg  Meme   \n",
       "\n",
       "            submit_time  rising_val  hot_val       username  ...  \\\n",
       "0  \"2021-10-20T15:25:08           9       70      AppyWappy  ...   \n",
       "1  \"2021-10-20T15:24:28           4       91        MichKOG  ...   \n",
       "2  \"2021-10-20T15:09:17           5       49  johnboycutter  ...   \n",
       "3  \"2021-10-20T15:01:54           2       24           MgKx  ...   \n",
       "4  \"2021-10-20T16:27:23          99       22     Janto_2021  ...   \n",
       "\n",
       "   redditor_for  upvotes  upvote_percent  num_comments  submission_id  \\\n",
       "0   1618.662336        2              75             9         qc3dwu   \n",
       "1   1861.732471        1              53            18         qc3de5   \n",
       "2   2034.134827        5              78            10         qc30zw   \n",
       "3   1497.069590       20              81            12         qc2uxo   \n",
       "4    336.027425       20              92             3         qc4rq4   \n",
       "\n",
       "   upvotes_24 comment_after_1hour  total_number_comments  hot_val_24  \\\n",
       "0           8                  11                     15         999   \n",
       "1          20                  28                     80         999   \n",
       "2          20                  10                     13         999   \n",
       "3          76                  14                     30          88   \n",
       "4       32171                  63                    598           7   \n",
       "\n",
       "   upvote_perc_24  \n",
       "0              71  \n",
       "1              59  \n",
       "2              84  \n",
       "3              80  \n",
       "4              92  \n",
       "\n",
       "[5 rows x 22 columns]"
      ]
     },
     "execution_count": 3,
     "metadata": {},
     "output_type": "execute_result"
    }
   ],
   "source": [
    "df_24.head()"
   ]
  },
  {
   "cell_type": "code",
   "execution_count": 5,
   "metadata": {},
   "outputs": [],
   "source": [
    "from sklearn.model_selection import train_test_split"
   ]
  },
  {
   "cell_type": "code",
   "execution_count": 13,
   "metadata": {},
   "outputs": [],
   "source": [
    "def rmse(true, prediction):\n",
    "    return np.sqrt(np.sum(np.power(true-prediction,2))/len(true))"
   ]
  },
  {
   "cell_type": "code",
   "execution_count": 6,
   "metadata": {},
   "outputs": [],
   "source": [
    "from sklearn.linear_model import LinearRegression"
   ]
  },
  {
   "cell_type": "code",
   "execution_count": 10,
   "metadata": {},
   "outputs": [],
   "source": [
    "from sklearn.metrics import mean_squared_error"
   ]
  },
  {
   "cell_type": "code",
   "execution_count": 7,
   "metadata": {},
   "outputs": [],
   "source": [
    "df_train, df_test = train_test_split(df_24.copy(), test_size = 0.2, shuffle = True, random_state = 253)"
   ]
  },
  {
   "cell_type": "code",
   "execution_count": 17,
   "metadata": {},
   "outputs": [
    {
     "data": {
      "text/html": [
       "<div>\n",
       "<style scoped>\n",
       "    .dataframe tbody tr th:only-of-type {\n",
       "        vertical-align: middle;\n",
       "    }\n",
       "\n",
       "    .dataframe tbody tr th {\n",
       "        vertical-align: top;\n",
       "    }\n",
       "\n",
       "    .dataframe thead th {\n",
       "        text-align: right;\n",
       "    }\n",
       "</style>\n",
       "<table border=\"1\" class=\"dataframe\">\n",
       "  <thead>\n",
       "    <tr style=\"text-align: right;\">\n",
       "      <th></th>\n",
       "      <th>post_id</th>\n",
       "      <th>active_track</th>\n",
       "      <th>title</th>\n",
       "      <th>comment_url</th>\n",
       "      <th>link_url</th>\n",
       "      <th>flair</th>\n",
       "      <th>submit_time</th>\n",
       "      <th>rising_val</th>\n",
       "      <th>hot_val</th>\n",
       "      <th>username</th>\n",
       "      <th>...</th>\n",
       "      <th>Earnings_Thread</th>\n",
       "      <th>Gain</th>\n",
       "      <th>Loss</th>\n",
       "      <th>Meme</th>\n",
       "      <th>Modes</th>\n",
       "      <th>News</th>\n",
       "      <th>Shitpost</th>\n",
       "      <th>Technical_Analysis</th>\n",
       "      <th>Weekend_Discussion</th>\n",
       "      <th>Yolo</th>\n",
       "    </tr>\n",
       "  </thead>\n",
       "  <tbody>\n",
       "    <tr>\n",
       "      <td>1079</td>\n",
       "      <td>1314</td>\n",
       "      <td>No</td>\n",
       "      <td>SIRI YOLO</td>\n",
       "      <td>https://old.reddit.com/r/wallstreetbets/commen...</td>\n",
       "      <td>https://i.redd.it/cwq9kmed28w71.png</td>\n",
       "      <td>YOLO</td>\n",
       "      <td>\"2021-10-28T17:02:55</td>\n",
       "      <td>11</td>\n",
       "      <td>80</td>\n",
       "      <td>tosshop</td>\n",
       "      <td>...</td>\n",
       "      <td>0</td>\n",
       "      <td>0</td>\n",
       "      <td>0</td>\n",
       "      <td>0</td>\n",
       "      <td>0</td>\n",
       "      <td>0</td>\n",
       "      <td>0</td>\n",
       "      <td>0</td>\n",
       "      <td>0</td>\n",
       "      <td>1</td>\n",
       "    </tr>\n",
       "    <tr>\n",
       "      <td>1113</td>\n",
       "      <td>1356</td>\n",
       "      <td>No</td>\n",
       "      <td>All in on earnings with my life savings.</td>\n",
       "      <td>https://old.reddit.com/r/wallstreetbets/commen...</td>\n",
       "      <td>https://i.redd.it/9z46p84nu8w71.jpg</td>\n",
       "      <td>YOLO</td>\n",
       "      <td>\"2021-10-28T19:38:01</td>\n",
       "      <td>99</td>\n",
       "      <td>101</td>\n",
       "      <td>CablesOnCables</td>\n",
       "      <td>...</td>\n",
       "      <td>0</td>\n",
       "      <td>0</td>\n",
       "      <td>0</td>\n",
       "      <td>0</td>\n",
       "      <td>0</td>\n",
       "      <td>0</td>\n",
       "      <td>0</td>\n",
       "      <td>0</td>\n",
       "      <td>0</td>\n",
       "      <td>1</td>\n",
       "    </tr>\n",
       "    <tr>\n",
       "      <td>2980</td>\n",
       "      <td>3551</td>\n",
       "      <td>No</td>\n",
       "      <td>But it said option!!</td>\n",
       "      <td>https://old.reddit.com/r/wallstreetbets/commen...</td>\n",
       "      <td>https://i.redd.it/9onrug9zwyy71.jpg</td>\n",
       "      <td>Meme</td>\n",
       "      <td>\"2021-11-11T13:25:43</td>\n",
       "      <td>5</td>\n",
       "      <td>999</td>\n",
       "      <td>No-Watercress9930</td>\n",
       "      <td>...</td>\n",
       "      <td>0</td>\n",
       "      <td>0</td>\n",
       "      <td>0</td>\n",
       "      <td>1</td>\n",
       "      <td>0</td>\n",
       "      <td>0</td>\n",
       "      <td>0</td>\n",
       "      <td>0</td>\n",
       "      <td>0</td>\n",
       "      <td>0</td>\n",
       "    </tr>\n",
       "    <tr>\n",
       "      <td>2566</td>\n",
       "      <td>3062</td>\n",
       "      <td>No</td>\n",
       "      <td>nevermind</td>\n",
       "      <td>https://old.reddit.com/r/wallstreetbets/commen...</td>\n",
       "      <td>https://twitter.com/business/status/1457828518...</td>\n",
       "      <td>News</td>\n",
       "      <td>\"2021-11-09T13:04:14</td>\n",
       "      <td>99</td>\n",
       "      <td>100</td>\n",
       "      <td>Grits_N_Gravy_23</td>\n",
       "      <td>...</td>\n",
       "      <td>0</td>\n",
       "      <td>0</td>\n",
       "      <td>0</td>\n",
       "      <td>0</td>\n",
       "      <td>0</td>\n",
       "      <td>1</td>\n",
       "      <td>0</td>\n",
       "      <td>0</td>\n",
       "      <td>0</td>\n",
       "      <td>0</td>\n",
       "    </tr>\n",
       "    <tr>\n",
       "      <td>2241</td>\n",
       "      <td>2666</td>\n",
       "      <td>No</td>\n",
       "      <td>Twenty-twenty, twenty-four hours to go. Til Im...</td>\n",
       "      <td>https://old.reddit.com/r/wallstreetbets/commen...</td>\n",
       "      <td>https://i.redd.it/t9vzshd8f6y71.png</td>\n",
       "      <td>YOLO</td>\n",
       "      <td>\"2021-11-07T13:36:31</td>\n",
       "      <td>99</td>\n",
       "      <td>42</td>\n",
       "      <td>Impossible-Panda4496</td>\n",
       "      <td>...</td>\n",
       "      <td>0</td>\n",
       "      <td>0</td>\n",
       "      <td>0</td>\n",
       "      <td>0</td>\n",
       "      <td>0</td>\n",
       "      <td>0</td>\n",
       "      <td>0</td>\n",
       "      <td>0</td>\n",
       "      <td>0</td>\n",
       "      <td>1</td>\n",
       "    </tr>\n",
       "  </tbody>\n",
       "</table>\n",
       "<p>5 rows × 35 columns</p>\n",
       "</div>"
      ],
      "text/plain": [
       "      post_id active_track                                              title  \\\n",
       "1079     1314           No                                          SIRI YOLO   \n",
       "1113     1356           No           All in on earnings with my life savings.   \n",
       "2980     3551           No                               But it said option!!   \n",
       "2566     3062           No                                          nevermind   \n",
       "2241     2666           No  Twenty-twenty, twenty-four hours to go. Til Im...   \n",
       "\n",
       "                                            comment_url  \\\n",
       "1079  https://old.reddit.com/r/wallstreetbets/commen...   \n",
       "1113  https://old.reddit.com/r/wallstreetbets/commen...   \n",
       "2980  https://old.reddit.com/r/wallstreetbets/commen...   \n",
       "2566  https://old.reddit.com/r/wallstreetbets/commen...   \n",
       "2241  https://old.reddit.com/r/wallstreetbets/commen...   \n",
       "\n",
       "                                               link_url flair  \\\n",
       "1079                https://i.redd.it/cwq9kmed28w71.png  YOLO   \n",
       "1113                https://i.redd.it/9z46p84nu8w71.jpg  YOLO   \n",
       "2980                https://i.redd.it/9onrug9zwyy71.jpg  Meme   \n",
       "2566  https://twitter.com/business/status/1457828518...  News   \n",
       "2241                https://i.redd.it/t9vzshd8f6y71.png  YOLO   \n",
       "\n",
       "               submit_time  rising_val  hot_val              username  ...  \\\n",
       "1079  \"2021-10-28T17:02:55          11       80               tosshop  ...   \n",
       "1113  \"2021-10-28T19:38:01          99      101        CablesOnCables  ...   \n",
       "2980  \"2021-11-11T13:25:43           5      999     No-Watercress9930  ...   \n",
       "2566  \"2021-11-09T13:04:14          99      100      Grits_N_Gravy_23  ...   \n",
       "2241  \"2021-11-07T13:36:31          99       42  Impossible-Panda4496  ...   \n",
       "\n",
       "      Earnings_Thread  Gain  Loss  Meme  Modes  News Shitpost  \\\n",
       "1079                0     0     0     0      0     0        0   \n",
       "1113                0     0     0     0      0     0        0   \n",
       "2980                0     0     0     1      0     0        0   \n",
       "2566                0     0     0     0      0     1        0   \n",
       "2241                0     0     0     0      0     0        0   \n",
       "\n",
       "      Technical_Analysis  Weekend_Discussion  Yolo  \n",
       "1079                   0                   0     1  \n",
       "1113                   0                   0     1  \n",
       "2980                   0                   0     0  \n",
       "2566                   0                   0     0  \n",
       "2241                   0                   0     1  \n",
       "\n",
       "[5 rows x 35 columns]"
      ]
     },
     "execution_count": 17,
     "metadata": {},
     "output_type": "execute_result"
    }
   ],
   "source": [
    "df_train.head()"
   ]
  },
  {
   "cell_type": "code",
   "execution_count": 4,
   "metadata": {},
   "outputs": [],
   "source": [
    "selected_features = ['rising_val', 'hot_val','post_karma',\n",
    "                    'comment_karma', 'redditor_for','upvotes','upvote_percent','num_comments']"
   ]
  },
  {
   "cell_type": "code",
   "execution_count": 14,
   "metadata": {},
   "outputs": [
    {
     "data": {
      "text/plain": [
       "2928.139299991693"
      ]
     },
     "execution_count": 14,
     "metadata": {},
     "output_type": "execute_result"
    }
   ],
   "source": [
    "# This is a quick test how linear regression performs\n",
    "LR = LinearRegression(copy_X = True)\n",
    "LR.fit(df_train[selected_features], df_train['upvotes_24'])\n",
    "predicted = LR.predict(df_train[selected_features])\n",
    "rmse(predicted ,df_train['upvotes_24'])"
   ]
  },
  {
   "cell_type": "code",
   "execution_count": 16,
   "metadata": {},
   "outputs": [],
   "source": [
    "df_train[['DD','Daily_Discussion','Discussion','Earnings_Thread','Gain','Loss','Meme',\n",
    "       'Modes','News','Shitpost','Technical_Analysis','Weekend_Discussion','Yolo']] = pd.get_dummies(df_train.flair)[['DD', 'Daily Discussion', 'Discussion', 'Earnings Thread', 'Gain',\n",
    "       'Loss', 'Meme', 'Mods', 'News', 'Shitpost',\n",
    "       'Technical Analysis', 'Weekend Discussion', 'YOLO']].copy()"
   ]
  },
  {
   "cell_type": "code",
   "execution_count": 18,
   "metadata": {},
   "outputs": [],
   "source": [
    "def powerset_no_empty(s):\n",
    "    power_set = []\n",
    "    x = len(s)\n",
    "    for i in range(1 << x):\n",
    "        power_set.append([s[j] for j in range(x) if (i & (1 << j))])\n",
    "            \n",
    "    return power_set[1:]"
   ]
  },
  {
   "cell_type": "code",
   "execution_count": 32,
   "metadata": {},
   "outputs": [],
   "source": [
    "non_categorical = powerset_no_empty(['rising_val', 'hot_val','post_karma',\n",
    "                    'comment_karma', 'redditor_for','upvotes','num_comments'])"
   ]
  },
  {
   "cell_type": "code",
   "execution_count": 34,
   "metadata": {},
   "outputs": [],
   "source": [
    "#this part gives you all possible combinations\n",
    "cat = pd.Series([['DD', 'Daily_Discussion',\n",
    "       'Discussion', 'Gain', 'Loss', 'Meme', 'Modes',\n",
    "       'News','Technical_Analysis', 'Weekend_Discussion', 'Yolo']])\n",
    "models = pd.Series(non_categorical).append(cat, ignore_index = True)\n",
    "all_models = models.append(pd.Series(['baseline']), ignore_index = True)"
   ]
  },
  {
   "cell_type": "code",
   "execution_count": 36,
   "metadata": {},
   "outputs": [],
   "source": [
    "from sklearn.model_selection import KFold\n",
    "from sklearn.base import clone"
   ]
  },
  {
   "cell_type": "code",
   "execution_count": 37,
   "metadata": {},
   "outputs": [],
   "source": [
    "kf = KFold(10)"
   ]
  },
  {
   "cell_type": "code",
   "execution_count": 44,
   "metadata": {},
   "outputs": [],
   "source": [
    "# Here I run a cross validation to select best model\n",
    "LR_MSEs = np.empty((10,len(all_models)))\n",
    "reg = LinearRegression(copy_X = True)\n",
    "i = 0\n",
    "# Perform CV\n",
    "for train_index, test_index in kf.split(df_train):\n",
    "    # Get the cv train test split\n",
    "    df_train_train = df_train.iloc[train_index]\n",
    "    df_holdout = df_train.iloc[test_index]\n",
    "    # For each possible model\n",
    "    for j in range(len(all_models)):\n",
    "        # Cloning the regression makes a fresh regression \n",
    "        if all_models[j] == \"baseline\":\n",
    "            df_train_train_mean = df_train_train['upvotes_24'].mean()\n",
    "            pred = df_train_train_mean*np.ones(len(df_holdout['upvotes_24']))\n",
    "            LR_MSEs[i,j] = rmse(df_holdout['upvotes_24'], pred)\n",
    "        else:\n",
    "            # model for each run\n",
    "            clone_reg = clone(reg)\n",
    "\n",
    "            # fit the model\n",
    "            clone_reg.fit(df_train_train[all_models[j]], df_train_train['upvotes_24'])\n",
    "            \n",
    "            pred = clone_reg.predict(df_holdout[all_models[j]])\n",
    "        \n",
    "            LR_MSEs[i,j] = rmse(df_holdout['upvotes_24'], pred)\n",
    "    i = i + 1"
   ]
  },
  {
   "cell_type": "code",
   "execution_count": 47,
   "metadata": {},
   "outputs": [
    {
     "data": {
      "text/plain": [
       "['rising_val', 'hot_val', 'upvotes', 'num_comments']"
      ]
     },
     "execution_count": 47,
     "metadata": {},
     "output_type": "execute_result"
    }
   ],
   "source": [
    "all_models[np.argmin(np.mean(LR_MSEs, axis = 0))]"
   ]
  },
  {
   "cell_type": "code",
   "execution_count": 53,
   "metadata": {},
   "outputs": [
    {
     "name": "stdout",
     "output_type": "stream",
     "text": [
      "the mrse with a model having rising_val, hot_val, upvotes,num_comments is: 2847.6078373340233\n"
     ]
    }
   ],
   "source": [
    "print('the mrse with a model having rising_val, hot_val, upvotes,num_comments is:' ,\n",
    "      np.mean(LR_MSEs, axis = 0)[np.argmin(np.mean(LR_MSEs, axis = 0))])"
   ]
  },
  {
   "cell_type": "markdown",
   "metadata": {},
   "source": [
    "# KNeighbors model"
   ]
  },
  {
   "cell_type": "code",
   "execution_count": 55,
   "metadata": {},
   "outputs": [],
   "source": [
    "from sklearn.neighbors import KNeighborsRegressor"
   ]
  },
  {
   "cell_type": "code",
   "execution_count": 57,
   "metadata": {},
   "outputs": [
    {
     "data": {
      "text/plain": [
       "Index(['post_id', 'active_track', 'title', 'comment_url', 'link_url', 'flair',\n",
       "       'submit_time', 'rising_val', 'hot_val', 'username', 'post_karma',\n",
       "       'comment_karma', 'redditor_for', 'upvotes', 'upvote_percent',\n",
       "       'num_comments', 'submission_id', 'upvotes_24', 'comment_after_1hour',\n",
       "       'total_number_comments', 'hot_val_24', 'upvote_perc_24', 'DD',\n",
       "       'Daily_Discussion', 'Discussion', 'Earnings_Thread', 'Gain', 'Loss',\n",
       "       'Meme', 'Modes', 'News', 'Shitpost', 'Technical_Analysis',\n",
       "       'Weekend_Discussion', 'Yolo'],\n",
       "      dtype='object')"
      ]
     },
     "execution_count": 57,
     "metadata": {},
     "output_type": "execute_result"
    }
   ],
   "source": [
    "df_train.columns"
   ]
  },
  {
   "cell_type": "code",
   "execution_count": 104,
   "metadata": {},
   "outputs": [
    {
     "data": {
      "text/plain": [
       "2496.57597543092"
      ]
     },
     "execution_count": 104,
     "metadata": {},
     "output_type": "execute_result"
    }
   ],
   "source": [
    "# quick test to see the trend how KNN may work\n",
    "KNN = KNeighborsRegressor(4)\n",
    "KNN.fit(df_train[RF_features], df_train['upvotes_24'])\n",
    "KNN_predicted = KNN.predict(df_train[RF_features])\n",
    "rmse(KNN_predicted, df_train['upvotes_24'])"
   ]
  },
  {
   "cell_type": "code",
   "execution_count": 111,
   "metadata": {},
   "outputs": [],
   "source": [
    "# Here I run a cross validation to select best number of neighbors\n",
    "n_neighbors = range(3,50)\n",
    "KNN_MSEs = np.empty((10,len(n_neighbors)))\n",
    "\n",
    "i = 0\n",
    "# Perform CV\n",
    "for train_index, test_index in kf.split(df_train):\n",
    "    # Get the cv train test split\n",
    "    df_train_train = df_train.iloc[train_index]\n",
    "    df_holdout = df_train.iloc[test_index]\n",
    "    # For each possible model\n",
    "    j = 0\n",
    "    for neighbor in n_neighbors:\n",
    "            # model for each run\n",
    "        \n",
    "\n",
    "            # fit the model\n",
    "        KNN = KNeighborsRegressor(neighbor)\n",
    "\n",
    "            # fit the model\n",
    "        KNN.fit(df_train_train[['rising_val', 'hot_val', 'upvotes', 'num_comments']], df_train_train['upvotes_24'])\n",
    "            \n",
    "        pred = KNN.predict(df_holdout[['rising_val', 'hot_val', 'upvotes', 'num_comments']])\n",
    "        \n",
    "        KNN_MSEs[i,j] = rmse(df_holdout['upvotes_24'], pred)\n",
    "        j = j + 1\n",
    "    i = i + 1"
   ]
  },
  {
   "cell_type": "code",
   "execution_count": 112,
   "metadata": {},
   "outputs": [
    {
     "data": {
      "text/plain": [
       "array([3237.06590353, 3113.97841755, 3042.45266848, 3040.92431463,\n",
       "       2999.04165201, 2988.29430756, 2932.55729554, 2913.1069075 ,\n",
       "       2909.32913326, 2898.16737404, 2884.58718794, 2888.93132022,\n",
       "       2881.33999945, 2878.44130255, 2879.68842249, 2878.77963824,\n",
       "       2876.35435424, 2876.38588423, 2880.80448409, 2882.83018833,\n",
       "       2886.44016127, 2888.54717545, 2883.80073547, 2885.21775118,\n",
       "       2883.59115714, 2875.82983477, 2875.7744321 , 2868.41082707,\n",
       "       2865.79334052, 2868.78001976, 2873.02358838, 2876.48457979,\n",
       "       2864.96436701, 2857.75509337, 2858.05112876, 2862.50572644,\n",
       "       2867.18935799, 2869.74853887, 2866.67694577, 2870.53975579,\n",
       "       2870.30095192, 2875.39350177, 2867.82551137, 2872.44233786,\n",
       "       2872.9732199 , 2872.3868158 , 2869.93997201])"
      ]
     },
     "execution_count": 112,
     "metadata": {},
     "output_type": "execute_result"
    }
   ],
   "source": [
    "np.mean(KNN_MSEs, axis = 0)"
   ]
  },
  {
   "cell_type": "code",
   "execution_count": null,
   "metadata": {},
   "outputs": [],
   "source": [
    "# Random Forest "
   ]
  },
  {
   "cell_type": "code",
   "execution_count": 76,
   "metadata": {},
   "outputs": [],
   "source": [
    "from sklearn.ensemble import RandomForestRegressor"
   ]
  },
  {
   "cell_type": "code",
   "execution_count": 89,
   "metadata": {},
   "outputs": [],
   "source": [
    "RF_features = ['rising_val', 'hot_val','post_karma',\n",
    "       'comment_karma', 'redditor_for', 'upvotes',\n",
    "       'num_comments','total_number_comments','DD',\n",
    "       'Daily_Discussion', 'Discussion', 'Earnings_Thread', 'Gain', 'Loss',\n",
    "       'Meme', 'Modes', 'News', 'Shitpost', 'Technical_Analysis',\n",
    "       'Weekend_Discussion', 'Yolo']\n",
    "max_depths = range(3,20)\n",
    "MSE_RF = np.zeros((10,len(max_depths)))\n",
    "score_RF = np.zeros((10,len(max_depths)))\n",
    "i = 0\n",
    "for train_index, test_index in kf.split(df_train):\n",
    "     # Get the cv train test split\n",
    "    df_train_train = df_train.iloc[train_index]\n",
    "    df_holdout = df_train.iloc[test_index]\n",
    "    # For each possible model\n",
    "    j = 0\n",
    "    for max_depth in max_depths:\n",
    "        # Cloning the regression makes a fresh regression \n",
    "    \n",
    "         # model for each run\n",
    "        RF = RandomForestRegressor(max_depth = max_depth)\n",
    "\n",
    "            # fit the model\n",
    "        RF.fit(df_train_train[selected_features], df_train_train['upvotes_24'])\n",
    "            \n",
    "        pred = RF.predict(df_holdout[selected_features])\n",
    "        \n",
    "        MSE_RF[i,j] = rmse(df_holdout['upvotes_24'], pred)\n",
    "        score_RF[i,j] = RF.score(df_holdout[selected_features], df_holdout['upvotes_24'])\n",
    "        j = j + 1\n",
    "    i = i + 1"
   ]
  },
  {
   "cell_type": "code",
   "execution_count": 91,
   "metadata": {},
   "outputs": [
    {
     "data": {
      "text/plain": [
       "array([2851.37382109, 2847.14725371, 2875.2474018 , 2871.15385698,\n",
       "       2918.37170008, 2920.80264132, 2930.07086684, 2929.4025424 ,\n",
       "       2908.69321451, 2955.02351423, 2952.23636423, 2901.98167067,\n",
       "       2911.77899626, 2946.75996277, 2932.04884284, 2956.01488438,\n",
       "       2965.60358857])"
      ]
     },
     "execution_count": 91,
     "metadata": {},
     "output_type": "execute_result"
    }
   ],
   "source": [
    "np.mean(MSE_RF, axis = 0)"
   ]
  },
  {
   "cell_type": "code",
   "execution_count": 92,
   "metadata": {},
   "outputs": [
    {
     "data": {
      "text/plain": [
       "array([0.22824448, 0.22748188, 0.2089909 , 0.20754826, 0.17797075,\n",
       "       0.18034387, 0.17025741, 0.17257042, 0.18348355, 0.15634638,\n",
       "       0.1557646 , 0.1908415 , 0.18782759, 0.15826885, 0.16674442,\n",
       "       0.15129741, 0.15223891])"
      ]
     },
     "execution_count": 92,
     "metadata": {},
     "output_type": "execute_result"
    }
   ],
   "source": [
    "np.mean(score_RF, axis = 0)"
   ]
  },
  {
   "cell_type": "code",
   "execution_count": 113,
   "metadata": {},
   "outputs": [],
   "source": [
    "#Here I use a support vector machine"
   ]
  },
  {
   "cell_type": "code",
   "execution_count": 114,
   "metadata": {},
   "outputs": [],
   "source": [
    "from sklearn.svm import SVR"
   ]
  },
  {
   "cell_type": "code",
   "execution_count": 129,
   "metadata": {},
   "outputs": [
    {
     "data": {
      "text/plain": [
       "3444.793743282137"
      ]
     },
     "execution_count": 129,
     "metadata": {},
     "output_type": "execute_result"
    }
   ],
   "source": [
    "# a quick test how SVR is on our data\n",
    "svr_model = SVR(C = 1)\n",
    "svr_model.fit(df_train[RF_features], df_train['upvotes_24'])\n",
    "svr_predicted = svr_model.predict(df_train[RF_features])\n",
    "rmse(svr_predicted, df_train['upvotes_24'])"
   ]
  },
  {
   "cell_type": "code",
   "execution_count": 131,
   "metadata": {},
   "outputs": [],
   "source": [
    "# Here I use cross validation to find the best epsilon\n",
    "kf = KFold(10, shuffle=True, random_state=124)\n",
    "\n",
    "eps = [0,0.00001,.0001,.001,.01,.1,1,2,3,4,5,6,7,8,9,10,25,50]\n",
    "\n",
    "cv_mses_svr = np.zeros((10, len(eps)))\n",
    "\n",
    "i = 0 \n",
    "for train_index, test_index in kf.split(df_train):\n",
    "    df_train_train = df_train.iloc[train_index]\n",
    "    df_holdout = df_train.iloc[test_index]\n",
    "    for j in range(len(eps)):\n",
    "        svr = SVR(epsilon=eps[j], max_iter=100000)\n",
    "        svr.fit(df_train_train[selected_features], df_train_train['upvotes_24'])\n",
    "        pred = svr.predict(df_holdout[selected_features])\n",
    "        cv_mses_svr[i,j] = rmse(df_holdout['upvotes_24'], pred)\n",
    "    i = i + 1"
   ]
  },
  {
   "cell_type": "code",
   "execution_count": 133,
   "metadata": {},
   "outputs": [
    {
     "data": {
      "text/plain": [
       "array([3251.68474591, 3251.68473413, 3251.68473155, 3251.68469108,\n",
       "       3251.68446073, 3251.68436128, 3251.66534332, 3251.63382788,\n",
       "       3251.60153562, 3251.61468919, 3251.59333925, 3251.51011183,\n",
       "       3251.46612256, 3251.37727511, 3251.30143089, 3251.23060672,\n",
       "       3249.65846411, 3245.82921644])"
      ]
     },
     "execution_count": 133,
     "metadata": {},
     "output_type": "execute_result"
    }
   ],
   "source": [
    "np.mean(cv_mses_svr, axis = 0)"
   ]
  },
  {
   "cell_type": "code",
   "execution_count": 160,
   "metadata": {},
   "outputs": [
    {
     "data": {
      "text/plain": [
       "['rising_val',\n",
       " 'hot_val',\n",
       " 'post_karma',\n",
       " 'comment_karma',\n",
       " 'redditor_for',\n",
       " 'upvotes',\n",
       " 'num_comments',\n",
       " 'total_number_comments',\n",
       " 'DD',\n",
       " 'Daily_Discussion',\n",
       " 'Discussion',\n",
       " 'Earnings_Thread',\n",
       " 'Gain',\n",
       " 'Loss',\n",
       " 'Meme',\n",
       " 'Modes',\n",
       " 'News',\n",
       " 'Shitpost',\n",
       " 'Technical_Analysis',\n",
       " 'Weekend_Discussion',\n",
       " 'Yolo']"
      ]
     },
     "execution_count": 160,
     "metadata": {},
     "output_type": "execute_result"
    }
   ],
   "source": [
    "RF_features"
   ]
  },
  {
   "cell_type": "markdown",
   "metadata": {},
   "source": [
    "# Classification"
   ]
  },
  {
   "cell_type": "code",
   "execution_count": 163,
   "metadata": {},
   "outputs": [
    {
     "data": {
      "text/html": [
       "<div>\n",
       "<style scoped>\n",
       "    .dataframe tbody tr th:only-of-type {\n",
       "        vertical-align: middle;\n",
       "    }\n",
       "\n",
       "    .dataframe tbody tr th {\n",
       "        vertical-align: top;\n",
       "    }\n",
       "\n",
       "    .dataframe thead th {\n",
       "        text-align: right;\n",
       "    }\n",
       "</style>\n",
       "<table border=\"1\" class=\"dataframe\">\n",
       "  <thead>\n",
       "    <tr style=\"text-align: right;\">\n",
       "      <th></th>\n",
       "      <th>post_id</th>\n",
       "      <th>rising_val</th>\n",
       "      <th>hot_val</th>\n",
       "      <th>post_karma</th>\n",
       "      <th>comment_karma</th>\n",
       "      <th>redditor_for</th>\n",
       "      <th>upvotes</th>\n",
       "      <th>upvote_percent</th>\n",
       "      <th>num_comments</th>\n",
       "      <th>upvotes_24</th>\n",
       "      <th>comment_after_1hour</th>\n",
       "      <th>total_number_comments</th>\n",
       "      <th>hot_val_24</th>\n",
       "      <th>upvote_perc_24</th>\n",
       "      <th>popularity</th>\n",
       "    </tr>\n",
       "  </thead>\n",
       "  <tbody>\n",
       "    <tr>\n",
       "      <td>count</td>\n",
       "      <td>3370.000000</td>\n",
       "      <td>3370.000000</td>\n",
       "      <td>3370.000000</td>\n",
       "      <td>3.370000e+03</td>\n",
       "      <td>3.370000e+03</td>\n",
       "      <td>3370.000000</td>\n",
       "      <td>3370.000000</td>\n",
       "      <td>3370.000000</td>\n",
       "      <td>3370.000000</td>\n",
       "      <td>3370.000000</td>\n",
       "      <td>3370.000000</td>\n",
       "      <td>3370.000000</td>\n",
       "      <td>3370.000000</td>\n",
       "      <td>3370.000000</td>\n",
       "      <td>3370.000000</td>\n",
       "    </tr>\n",
       "    <tr>\n",
       "      <td>mean</td>\n",
       "      <td>2017.166172</td>\n",
       "      <td>50.570920</td>\n",
       "      <td>267.467953</td>\n",
       "      <td>2.264207e+04</td>\n",
       "      <td>1.226498e+04</td>\n",
       "      <td>981.826142</td>\n",
       "      <td>11.573887</td>\n",
       "      <td>84.202077</td>\n",
       "      <td>10.723145</td>\n",
       "      <td>684.966469</td>\n",
       "      <td>28.279228</td>\n",
       "      <td>197.908309</td>\n",
       "      <td>755.710089</td>\n",
       "      <td>81.894659</td>\n",
       "      <td>0.109199</td>\n",
       "    </tr>\n",
       "    <tr>\n",
       "      <td>std</td>\n",
       "      <td>1153.744744</td>\n",
       "      <td>47.396008</td>\n",
       "      <td>392.727394</td>\n",
       "      <td>1.099730e+05</td>\n",
       "      <td>6.720501e+04</td>\n",
       "      <td>1024.714747</td>\n",
       "      <td>15.504651</td>\n",
       "      <td>16.615529</td>\n",
       "      <td>54.190945</td>\n",
       "      <td>3650.494367</td>\n",
       "      <td>164.805523</td>\n",
       "      <td>1333.317200</td>\n",
       "      <td>412.724506</td>\n",
       "      <td>14.831753</td>\n",
       "      <td>0.311935</td>\n",
       "    </tr>\n",
       "    <tr>\n",
       "      <td>min</td>\n",
       "      <td>2.000000</td>\n",
       "      <td>0.000000</td>\n",
       "      <td>0.000000</td>\n",
       "      <td>1.000000e+00</td>\n",
       "      <td>-1.000000e+02</td>\n",
       "      <td>9.278449</td>\n",
       "      <td>0.000000</td>\n",
       "      <td>7.000000</td>\n",
       "      <td>0.000000</td>\n",
       "      <td>0.000000</td>\n",
       "      <td>0.000000</td>\n",
       "      <td>0.000000</td>\n",
       "      <td>0.000000</td>\n",
       "      <td>10.000000</td>\n",
       "      <td>0.000000</td>\n",
       "    </tr>\n",
       "    <tr>\n",
       "      <td>25%</td>\n",
       "      <td>1017.250000</td>\n",
       "      <td>3.000000</td>\n",
       "      <td>44.000000</td>\n",
       "      <td>7.200000e+01</td>\n",
       "      <td>8.425000e+01</td>\n",
       "      <td>275.887546</td>\n",
       "      <td>3.000000</td>\n",
       "      <td>75.000000</td>\n",
       "      <td>3.000000</td>\n",
       "      <td>12.000000</td>\n",
       "      <td>5.000000</td>\n",
       "      <td>8.000000</td>\n",
       "      <td>100.000000</td>\n",
       "      <td>75.000000</td>\n",
       "      <td>0.000000</td>\n",
       "    </tr>\n",
       "    <tr>\n",
       "      <td>50%</td>\n",
       "      <td>2024.500000</td>\n",
       "      <td>19.000000</td>\n",
       "      <td>69.000000</td>\n",
       "      <td>7.065000e+02</td>\n",
       "      <td>8.660000e+02</td>\n",
       "      <td>477.123270</td>\n",
       "      <td>7.000000</td>\n",
       "      <td>89.000000</td>\n",
       "      <td>5.000000</td>\n",
       "      <td>34.000000</td>\n",
       "      <td>10.000000</td>\n",
       "      <td>19.000000</td>\n",
       "      <td>999.000000</td>\n",
       "      <td>86.000000</td>\n",
       "      <td>0.000000</td>\n",
       "    </tr>\n",
       "    <tr>\n",
       "      <td>75%</td>\n",
       "      <td>3006.750000</td>\n",
       "      <td>99.000000</td>\n",
       "      <td>98.000000</td>\n",
       "      <td>5.555250e+03</td>\n",
       "      <td>5.262000e+03</td>\n",
       "      <td>1466.435481</td>\n",
       "      <td>14.000000</td>\n",
       "      <td>100.000000</td>\n",
       "      <td>8.000000</td>\n",
       "      <td>133.000000</td>\n",
       "      <td>18.000000</td>\n",
       "      <td>50.000000</td>\n",
       "      <td>999.000000</td>\n",
       "      <td>92.000000</td>\n",
       "      <td>0.000000</td>\n",
       "    </tr>\n",
       "    <tr>\n",
       "      <td>max</td>\n",
       "      <td>4037.000000</td>\n",
       "      <td>99.000000</td>\n",
       "      <td>999.000000</td>\n",
       "      <td>1.409321e+06</td>\n",
       "      <td>2.133322e+06</td>\n",
       "      <td>5877.725987</td>\n",
       "      <td>234.000000</td>\n",
       "      <td>100.000000</td>\n",
       "      <td>1392.000000</td>\n",
       "      <td>77558.000000</td>\n",
       "      <td>3290.000000</td>\n",
       "      <td>18737.000000</td>\n",
       "      <td>999.000000</td>\n",
       "      <td>100.000000</td>\n",
       "      <td>1.000000</td>\n",
       "    </tr>\n",
       "  </tbody>\n",
       "</table>\n",
       "</div>"
      ],
      "text/plain": [
       "           post_id   rising_val      hot_val    post_karma  comment_karma  \\\n",
       "count  3370.000000  3370.000000  3370.000000  3.370000e+03   3.370000e+03   \n",
       "mean   2017.166172    50.570920   267.467953  2.264207e+04   1.226498e+04   \n",
       "std    1153.744744    47.396008   392.727394  1.099730e+05   6.720501e+04   \n",
       "min       2.000000     0.000000     0.000000  1.000000e+00  -1.000000e+02   \n",
       "25%    1017.250000     3.000000    44.000000  7.200000e+01   8.425000e+01   \n",
       "50%    2024.500000    19.000000    69.000000  7.065000e+02   8.660000e+02   \n",
       "75%    3006.750000    99.000000    98.000000  5.555250e+03   5.262000e+03   \n",
       "max    4037.000000    99.000000   999.000000  1.409321e+06   2.133322e+06   \n",
       "\n",
       "       redditor_for      upvotes  upvote_percent  num_comments    upvotes_24  \\\n",
       "count   3370.000000  3370.000000     3370.000000   3370.000000   3370.000000   \n",
       "mean     981.826142    11.573887       84.202077     10.723145    684.966469   \n",
       "std     1024.714747    15.504651       16.615529     54.190945   3650.494367   \n",
       "min        9.278449     0.000000        7.000000      0.000000      0.000000   \n",
       "25%      275.887546     3.000000       75.000000      3.000000     12.000000   \n",
       "50%      477.123270     7.000000       89.000000      5.000000     34.000000   \n",
       "75%     1466.435481    14.000000      100.000000      8.000000    133.000000   \n",
       "max     5877.725987   234.000000      100.000000   1392.000000  77558.000000   \n",
       "\n",
       "       comment_after_1hour  total_number_comments   hot_val_24  \\\n",
       "count          3370.000000            3370.000000  3370.000000   \n",
       "mean             28.279228             197.908309   755.710089   \n",
       "std             164.805523            1333.317200   412.724506   \n",
       "min               0.000000               0.000000     0.000000   \n",
       "25%               5.000000               8.000000   100.000000   \n",
       "50%              10.000000              19.000000   999.000000   \n",
       "75%              18.000000              50.000000   999.000000   \n",
       "max            3290.000000           18737.000000   999.000000   \n",
       "\n",
       "       upvote_perc_24   popularity  \n",
       "count     3370.000000  3370.000000  \n",
       "mean        81.894659     0.109199  \n",
       "std         14.831753     0.311935  \n",
       "min         10.000000     0.000000  \n",
       "25%         75.000000     0.000000  \n",
       "50%         86.000000     0.000000  \n",
       "75%         92.000000     0.000000  \n",
       "max        100.000000     1.000000  "
      ]
     },
     "execution_count": 163,
     "metadata": {},
     "output_type": "execute_result"
    }
   ],
   "source": [
    "df_24.describe()"
   ]
  },
  {
   "cell_type": "markdown",
   "metadata": {},
   "source": [
    "the mean value for the upvotes_24 is 684. I will consider any post with less than 684 upvotes after 24h unpopular and\n",
    "more than that popular"
   ]
  },
  {
   "cell_type": "code",
   "execution_count": 142,
   "metadata": {},
   "outputs": [
    {
     "data": {
      "text/plain": [
       "368"
      ]
     },
     "execution_count": 142,
     "metadata": {},
     "output_type": "execute_result"
    }
   ],
   "source": [
    "(df_24.upvotes_24[df_24.upvotes_24 >= 684])"
   ]
  },
  {
   "cell_type": "code",
   "execution_count": 141,
   "metadata": {},
   "outputs": [
    {
     "data": {
      "text/plain": [
       "3002"
      ]
     },
     "execution_count": 141,
     "metadata": {},
     "output_type": "execute_result"
    }
   ],
   "source": [
    "(df_24.upvotes_24[df_24.upvotes_24 < 684])"
   ]
  },
  {
   "cell_type": "code",
   "execution_count": 155,
   "metadata": {},
   "outputs": [],
   "source": [
    "df_24.loc[df_24.upvotes_24 >= 684, 'popularity'] = 1\n",
    "df_24.loc[df_24.upvotes_24 < 684, 'popularity'] = 0"
   ]
  },
  {
   "cell_type": "markdown",
   "metadata": {},
   "source": [
    "# define the train test split with stratify = 'popularity'"
   ]
  },
  {
   "cell_type": "code",
   "execution_count": 165,
   "metadata": {},
   "outputs": [],
   "source": [
    "df_train, df_test = train_test_split(df_24, test_size = 0.2, stratify = df_24['popularity'])"
   ]
  },
  {
   "cell_type": "code",
   "execution_count": 170,
   "metadata": {},
   "outputs": [
    {
     "data": {
      "text/html": [
       "<div>\n",
       "<style scoped>\n",
       "    .dataframe tbody tr th:only-of-type {\n",
       "        vertical-align: middle;\n",
       "    }\n",
       "\n",
       "    .dataframe tbody tr th {\n",
       "        vertical-align: top;\n",
       "    }\n",
       "\n",
       "    .dataframe thead th {\n",
       "        text-align: right;\n",
       "    }\n",
       "</style>\n",
       "<table border=\"1\" class=\"dataframe\">\n",
       "  <thead>\n",
       "    <tr style=\"text-align: right;\">\n",
       "      <th></th>\n",
       "      <th>post_id</th>\n",
       "      <th>active_track</th>\n",
       "      <th>title</th>\n",
       "      <th>comment_url</th>\n",
       "      <th>link_url</th>\n",
       "      <th>flair</th>\n",
       "      <th>submit_time</th>\n",
       "      <th>rising_val</th>\n",
       "      <th>hot_val</th>\n",
       "      <th>username</th>\n",
       "      <th>...</th>\n",
       "      <th>Earnings_Thread</th>\n",
       "      <th>Gain</th>\n",
       "      <th>Loss</th>\n",
       "      <th>Meme</th>\n",
       "      <th>Modes</th>\n",
       "      <th>News</th>\n",
       "      <th>Shitpost</th>\n",
       "      <th>Technical_Analysis</th>\n",
       "      <th>Weekend_Discussion</th>\n",
       "      <th>Yolo</th>\n",
       "    </tr>\n",
       "  </thead>\n",
       "  <tbody>\n",
       "    <tr>\n",
       "      <td>334</td>\n",
       "      <td>407</td>\n",
       "      <td>No</td>\n",
       "      <td>$MVIS ROUND 2 , SI% near 20</td>\n",
       "      <td>https://old.reddit.com/r/wallstreetbets/commen...</td>\n",
       "      <td>https://old.reddit.com/r/wallstreetbets/commen...</td>\n",
       "      <td>Discussion</td>\n",
       "      <td>\"2021-10-22T20:56:57</td>\n",
       "      <td>99</td>\n",
       "      <td>76</td>\n",
       "      <td>Runner20mph</td>\n",
       "      <td>...</td>\n",
       "      <td>0</td>\n",
       "      <td>0</td>\n",
       "      <td>0</td>\n",
       "      <td>0</td>\n",
       "      <td>0</td>\n",
       "      <td>0</td>\n",
       "      <td>0</td>\n",
       "      <td>0</td>\n",
       "      <td>0</td>\n",
       "      <td>0</td>\n",
       "    </tr>\n",
       "    <tr>\n",
       "      <td>2535</td>\n",
       "      <td>3018</td>\n",
       "      <td>No</td>\n",
       "      <td>$50k to $700k in a year 🚀</td>\n",
       "      <td>https://old.reddit.com/r/wallstreetbets/commen...</td>\n",
       "      <td>https://i.redd.it/pvlt547coiy71.jpg</td>\n",
       "      <td>Gain</td>\n",
       "      <td>\"2021-11-09T06:48:46</td>\n",
       "      <td>0</td>\n",
       "      <td>28</td>\n",
       "      <td>kbbqking</td>\n",
       "      <td>...</td>\n",
       "      <td>0</td>\n",
       "      <td>1</td>\n",
       "      <td>0</td>\n",
       "      <td>0</td>\n",
       "      <td>0</td>\n",
       "      <td>0</td>\n",
       "      <td>0</td>\n",
       "      <td>0</td>\n",
       "      <td>0</td>\n",
       "      <td>0</td>\n",
       "    </tr>\n",
       "    <tr>\n",
       "      <td>1083</td>\n",
       "      <td>1319</td>\n",
       "      <td>No</td>\n",
       "      <td>GME spikes once every 2-3 months?</td>\n",
       "      <td>https://old.reddit.com/r/wallstreetbets/commen...</td>\n",
       "      <td>https://old.reddit.com/r/wallstreetbets/commen...</td>\n",
       "      <td>Discussion</td>\n",
       "      <td>\"2021-10-28T17:38:09</td>\n",
       "      <td>99</td>\n",
       "      <td>999</td>\n",
       "      <td>realaccountforsure</td>\n",
       "      <td>...</td>\n",
       "      <td>0</td>\n",
       "      <td>0</td>\n",
       "      <td>0</td>\n",
       "      <td>0</td>\n",
       "      <td>0</td>\n",
       "      <td>0</td>\n",
       "      <td>0</td>\n",
       "      <td>0</td>\n",
       "      <td>0</td>\n",
       "      <td>0</td>\n",
       "    </tr>\n",
       "    <tr>\n",
       "      <td>890</td>\n",
       "      <td>1074</td>\n",
       "      <td>No</td>\n",
       "      <td>Daily Discussion Thread for October 27, 2021</td>\n",
       "      <td>https://old.reddit.com/r/wallstreetbets/commen...</td>\n",
       "      <td>https://old.reddit.com/r/wallstreetbets/commen...</td>\n",
       "      <td>Daily Discussion</td>\n",
       "      <td>\"2021-10-27T10:00:22</td>\n",
       "      <td>99</td>\n",
       "      <td>0</td>\n",
       "      <td>OPINION_IS_UNPOPULAR</td>\n",
       "      <td>...</td>\n",
       "      <td>0</td>\n",
       "      <td>0</td>\n",
       "      <td>0</td>\n",
       "      <td>0</td>\n",
       "      <td>0</td>\n",
       "      <td>0</td>\n",
       "      <td>0</td>\n",
       "      <td>0</td>\n",
       "      <td>0</td>\n",
       "      <td>0</td>\n",
       "    </tr>\n",
       "    <tr>\n",
       "      <td>2686</td>\n",
       "      <td>3198</td>\n",
       "      <td>No</td>\n",
       "      <td>Looking for An F... Or M as miracle.</td>\n",
       "      <td>https://old.reddit.com/r/wallstreetbets/commen...</td>\n",
       "      <td>https://i.redd.it/4werxzx0xmy71.jpg</td>\n",
       "      <td>Loss</td>\n",
       "      <td>\"2021-11-09T21:04:35</td>\n",
       "      <td>5</td>\n",
       "      <td>77</td>\n",
       "      <td>_STIFFL3R_</td>\n",
       "      <td>...</td>\n",
       "      <td>0</td>\n",
       "      <td>0</td>\n",
       "      <td>1</td>\n",
       "      <td>0</td>\n",
       "      <td>0</td>\n",
       "      <td>0</td>\n",
       "      <td>0</td>\n",
       "      <td>0</td>\n",
       "      <td>0</td>\n",
       "      <td>0</td>\n",
       "    </tr>\n",
       "  </tbody>\n",
       "</table>\n",
       "<p>5 rows × 36 columns</p>\n",
       "</div>"
      ],
      "text/plain": [
       "      post_id active_track                                         title  \\\n",
       "334       407           No                   $MVIS ROUND 2 , SI% near 20   \n",
       "2535     3018           No                     $50k to $700k in a year 🚀   \n",
       "1083     1319           No             GME spikes once every 2-3 months?   \n",
       "890      1074           No  Daily Discussion Thread for October 27, 2021   \n",
       "2686     3198           No          Looking for An F... Or M as miracle.   \n",
       "\n",
       "                                            comment_url  \\\n",
       "334   https://old.reddit.com/r/wallstreetbets/commen...   \n",
       "2535  https://old.reddit.com/r/wallstreetbets/commen...   \n",
       "1083  https://old.reddit.com/r/wallstreetbets/commen...   \n",
       "890   https://old.reddit.com/r/wallstreetbets/commen...   \n",
       "2686  https://old.reddit.com/r/wallstreetbets/commen...   \n",
       "\n",
       "                                               link_url             flair  \\\n",
       "334   https://old.reddit.com/r/wallstreetbets/commen...        Discussion   \n",
       "2535                https://i.redd.it/pvlt547coiy71.jpg              Gain   \n",
       "1083  https://old.reddit.com/r/wallstreetbets/commen...        Discussion   \n",
       "890   https://old.reddit.com/r/wallstreetbets/commen...  Daily Discussion   \n",
       "2686                https://i.redd.it/4werxzx0xmy71.jpg              Loss   \n",
       "\n",
       "               submit_time  rising_val  hot_val              username  ...  \\\n",
       "334   \"2021-10-22T20:56:57          99       76           Runner20mph  ...   \n",
       "2535  \"2021-11-09T06:48:46           0       28              kbbqking  ...   \n",
       "1083  \"2021-10-28T17:38:09          99      999    realaccountforsure  ...   \n",
       "890   \"2021-10-27T10:00:22          99        0  OPINION_IS_UNPOPULAR  ...   \n",
       "2686  \"2021-11-09T21:04:35           5       77            _STIFFL3R_  ...   \n",
       "\n",
       "      Earnings_Thread  Gain  Loss  Meme  Modes  News Shitpost  \\\n",
       "334                 0     0     0     0      0     0        0   \n",
       "2535                0     1     0     0      0     0        0   \n",
       "1083                0     0     0     0      0     0        0   \n",
       "890                 0     0     0     0      0     0        0   \n",
       "2686                0     0     1     0      0     0        0   \n",
       "\n",
       "      Technical_Analysis  Weekend_Discussion  Yolo  \n",
       "334                    0                   0     0  \n",
       "2535                   0                   0     0  \n",
       "1083                   0                   0     0  \n",
       "890                    0                   0     0  \n",
       "2686                   0                   0     0  \n",
       "\n",
       "[5 rows x 36 columns]"
      ]
     },
     "execution_count": 170,
     "metadata": {},
     "output_type": "execute_result"
    }
   ],
   "source": [
    "df_train.head()"
   ]
  },
  {
   "cell_type": "code",
   "execution_count": 169,
   "metadata": {},
   "outputs": [
    {
     "name": "stderr",
     "output_type": "stream",
     "text": [
      "D:\\Anaconda\\lib\\site-packages\\pandas\\core\\frame.py:3494: SettingWithCopyWarning: \n",
      "A value is trying to be set on a copy of a slice from a DataFrame.\n",
      "Try using .loc[row_indexer,col_indexer] = value instead\n",
      "\n",
      "See the caveats in the documentation: http://pandas.pydata.org/pandas-docs/stable/user_guide/indexing.html#returning-a-view-versus-a-copy\n",
      "  self[k1] = value[k2]\n"
     ]
    }
   ],
   "source": [
    "# Here I one_hot_encode it\n",
    "df_train[['DD','Daily_Discussion','Discussion','Earnings_Thread','Gain','Loss','Meme',\n",
    "       'Modes','News','Shitpost','Technical_Analysis','Weekend_Discussion','Yolo']] = pd.get_dummies(df_train.flair)[['DD', 'Daily Discussion', 'Discussion', 'Earnings Thread', 'Gain',\n",
    "       'Loss', 'Meme', 'Mods', 'News', 'Shitpost',\n",
    "       'Technical Analysis', 'Weekend Discussion', 'YOLO']].copy()\n"
   ]
  },
  {
   "cell_type": "code",
   "execution_count": 412,
   "metadata": {},
   "outputs": [
    {
     "data": {
      "text/plain": [
       "<seaborn.axisgrid.PairGrid at 0x1b059b40f48>"
      ]
     },
     "execution_count": 412,
     "metadata": {},
     "output_type": "execute_result"
    },
    {
     "data": {
      "image/png": "[encoded data removed]",
      "text/plain": [
       "<Figure size 771.625x720 with 20 Axes>"
      ]
     },
     "metadata": {
      "needs_background": "light"
     },
     "output_type": "display_data"
    }
   ],
   "source": [
    "sns.pairplot(df_train, vars = ['Meme', 'hot_val','upvotes','num_comments'], hue = 'popularity')"
   ]
  },
  {
   "cell_type": "markdown",
   "metadata": {},
   "source": [
    "# First a KNeighborsClassifier"
   ]
  },
  {
   "cell_type": "code",
   "execution_count": 158,
   "metadata": {},
   "outputs": [],
   "source": [
    "from sklearn.neighbors import KNeighborsClassifier"
   ]
  },
  {
   "cell_type": "code",
   "execution_count": 378,
   "metadata": {},
   "outputs": [],
   "source": [
    "from sklearn.metrics import accuracy_score, roc_auc_score, roc_curve, confusion_matrix"
   ]
  },
  {
   "cell_type": "code",
   "execution_count": 175,
   "metadata": {},
   "outputs": [
    {
     "data": {
      "text/plain": [
       "0    2402\n",
       "1     294\n",
       "Name: popularity, dtype: int64"
      ]
     },
     "execution_count": 175,
     "metadata": {},
     "output_type": "execute_result"
    }
   ],
   "source": [
    "df_train.popularity.value_counts()"
   ]
  },
  {
   "cell_type": "code",
   "execution_count": 424,
   "metadata": {},
   "outputs": [],
   "source": [
    "# a quick test how it works\n",
    "features = ['hot_val','upvotes','DD','Daily_Discussion','Gain','Loss','Meme',\n",
    "       'Modes','News','Technical_Analysis','Weekend_Discussion','Discussion','Yolo']\n",
    "KNN_clf = KNeighborsClassifier(n_neighbors = 5)\n",
    "KNN_clf.fit(df_train[features], df_train['popularity'])\n",
    "#KNN_predicted = KNN_clf.predict(df_train[features])\n",
    "accu = accuracy_score(KNN_clf.predict(df_train[features]), df_train['popularity'])\n",
    "roc_value = roc_auc_score(df_train['popularity'],KNN_clf.predict_proba(df_train[features])[:,1] )\n",
    "fprs, tprs, thresholds = roc_curve(df_train['popularity'],KNN_clf.predict_proba(df_train[features])[:,1] )"
   ]
  },
  {
   "cell_type": "code",
   "execution_count": 425,
   "metadata": {},
   "outputs": [
    {
     "data": {
      "text/plain": [
       "0.957468832662124"
      ]
     },
     "execution_count": 425,
     "metadata": {},
     "output_type": "execute_result"
    }
   ],
   "source": [
    "roc_value"
   ]
  },
  {
   "cell_type": "code",
   "execution_count": 429,
   "metadata": {},
   "outputs": [
    {
     "data": {
      "image/png": "[encoded data removed]",
      "text/plain": [
       "<Figure size 432x360 with 1 Axes>"
      ]
     },
     "metadata": {
      "needs_background": "light"
     },
     "output_type": "display_data"
    }
   ],
   "source": [
    "plt.figure(figsize = (6,5))\n",
    "plt.plot(fprs, tprs)\n",
    "plt.xlabel('False Positive Rate', fontsize = 14)\n",
    "plt.ylabel('True Positive Rate', fontsize = 14)\n",
    "#plt.savefig()\n",
    "plt.show()"
   ]
  },
  {
   "cell_type": "code",
   "execution_count": 183,
   "metadata": {},
   "outputs": [],
   "source": [
    "def powerset_no_empty(s):\n",
    "    power_set = []\n",
    "    x = len(s)\n",
    "    for i in range(1 << x):\n",
    "        power_set.append([s[j] for j in range(x) if (i & (1 << j))])\n",
    "            \n",
    "    return power_set[1:]"
   ]
  },
  {
   "cell_type": "code",
   "execution_count": 228,
   "metadata": {},
   "outputs": [],
   "source": [
    "non_categorical = powerset_no_empty(['rising_val', 'hot_val','post_karma','comment_karma', 'redditor_for','num_comments','upvotes'])"
   ]
  },
  {
   "cell_type": "code",
   "execution_count": 234,
   "metadata": {},
   "outputs": [],
   "source": [
    "#this part gives you all possible combinations without categorical variable\n",
    "\n",
    "all_models = pd.Series(non_categorical).append(pd.Series(['baseline']), ignore_index = True)"
   ]
  },
  {
   "cell_type": "code",
   "execution_count": 240,
   "metadata": {},
   "outputs": [
    {
     "data": {
      "text/plain": [
       "'baseline'"
      ]
     },
     "execution_count": 240,
     "metadata": {},
     "output_type": "execute_result"
    }
   ],
   "source": [
    "all_models[127]"
   ]
  },
  {
   "cell_type": "code",
   "execution_count": 186,
   "metadata": {},
   "outputs": [],
   "source": [
    "from sklearn.model_selection import StratifiedKFold"
   ]
  },
  {
   "cell_type": "code",
   "execution_count": 223,
   "metadata": {},
   "outputs": [
    {
     "data": {
      "text/plain": [
       "Index(['post_id', 'active_track', 'title', 'comment_url', 'link_url', 'flair',\n",
       "       'submit_time', 'rising_val', 'hot_val', 'username', 'post_karma',\n",
       "       'comment_karma', 'redditor_for', 'upvotes', 'upvote_percent',\n",
       "       'num_comments', 'submission_id', 'upvotes_24', 'comment_after_1hour',\n",
       "       'total_number_comments', 'hot_val_24', 'upvote_perc_24', 'popularity',\n",
       "       'DD', 'Daily_Discussion', 'Discussion', 'Earnings_Thread', 'Gain',\n",
       "       'Loss', 'Meme', 'Modes', 'News', 'Shitpost', 'Technical_Analysis',\n",
       "       'Weekend_Discussion', 'Yolo'],\n",
       "      dtype='object')"
      ]
     },
     "execution_count": 223,
     "metadata": {},
     "output_type": "execute_result"
    }
   ],
   "source": [
    "df_train.columns"
   ]
  },
  {
   "cell_type": "code",
   "execution_count": 241,
   "metadata": {},
   "outputs": [],
   "source": [
    "# Here I run a cross validation to select best model\n",
    "features = ['post_id', 'active_track', 'title', 'comment_url', 'link_url', 'flair',\n",
    "       'submit_time', 'rising_val', 'hot_val', 'username', 'post_karma',\n",
    "       'comment_karma', 'redditor_for', 'upvotes', 'upvote_percent',\n",
    "       'num_comments', 'submission_id', 'upvotes_24', 'comment_after_1hour',\n",
    "       'total_number_comments', 'hot_val_24', 'upvote_perc_24',\n",
    "       'DD', 'Daily_Discussion', 'Discussion', 'Earnings_Thread', 'Gain',\n",
    "       'Loss', 'Meme', 'Modes', 'News', 'Shitpost', 'Technical_Analysis',\n",
    "       'Weekend_Discussion', 'Yolo']\n",
    "kf = StratifiedKFold(10)\n",
    "cv_accuracy_KNN = np.empty((10,len(all_models)))\n",
    "clf = KNeighborsClassifier(5)\n",
    "i = 0\n",
    "# Perform CV\n",
    "for train_index, test_index in kf.split(df_train[features],df_train['popularity']):\n",
    "    # Get the cv train test split\n",
    "    df_train_train = df_train.iloc[train_index]\n",
    "    df_holdout = df_train.iloc[test_index]\n",
    "    # For each possible model\n",
    "    for j in range(len(all_models)):\n",
    "        # Cloning the regression makes a fresh regression \n",
    "        if all_models[j] == \"baseline\":\n",
    "            cv_accuracy_KNN[i,j] = 0.5\n",
    "        else:\n",
    "            # model for each run\n",
    "            clone_clf = clone(clf)\n",
    "\n",
    "            # fit the model\n",
    "            clone_clf.fit(df_train_train[all_models[j]], df_train_train['popularity'])\n",
    "            \n",
    "            pred = clone_clf.predict(df_holdout[all_models[j]])\n",
    "        \n",
    "            cv_accuracy_KNN[i,j] = accuracy_score(df_holdout['popularity'], pred)\n",
    "    i = i + 1"
   ]
  },
  {
   "cell_type": "code",
   "execution_count": 244,
   "metadata": {},
   "outputs": [
    {
     "data": {
      "text/plain": [
       "['hot_val', 'upvotes']"
      ]
     },
     "execution_count": 244,
     "metadata": {},
     "output_type": "execute_result"
    }
   ],
   "source": [
    "all_models[np.argmax(np.mean(cv_accuracy_KNN, axis = 0))]"
   ]
  },
  {
   "cell_type": "code",
   "execution_count": 370,
   "metadata": {},
   "outputs": [],
   "source": [
    "selected_features = ['hot_val','upvotes','DD','Daily_Discussion','Discussion','Gain','Loss','Meme',\n",
    "       'Modes','News','Technical_Analysis','Weekend_Discussion','Yolo']"
   ]
  },
  {
   "cell_type": "code",
   "execution_count": 306,
   "metadata": {},
   "outputs": [],
   "source": [
    "# Here I run a cross validation to select best number of neighbors\n",
    "features = ['post_id', 'active_track', 'title', 'comment_url', 'link_url', 'flair',\n",
    "       'submit_time', 'rising_val', 'hot_val', 'username', 'post_karma',\n",
    "       'comment_karma', 'redditor_for', 'upvotes', 'upvote_percent',\n",
    "       'num_comments', 'submission_id', 'upvotes_24', 'comment_after_1hour',\n",
    "       'total_number_comments', 'hot_val_24', 'upvote_perc_24',\n",
    "       'DD', 'Daily_Discussion', 'Discussion', 'Earnings_Thread', 'Gain',\n",
    "       'Loss', 'Meme', 'Modes', 'News', 'Shitpost', 'Technical_Analysis',\n",
    "       'Weekend_Discussion', 'Yolo']\n",
    "n_neighbors = range(3,50)\n",
    "KNN_accuracy = np.empty((10,len(n_neighbors)))\n",
    "kf = StratifiedKFold(10)\n",
    "#KNN_roc = p.empty((10,len(n_neighbors)))\n",
    "i = 0\n",
    "# Perform CV\n",
    "for train_index, test_index in kf.split(df_train[features],df_train['popularity']):\n",
    "    # Get the cv train test split\n",
    "    df_train_train = df_train.iloc[train_index]\n",
    "    df_holdout = df_train.iloc[test_index]\n",
    "    # For each possible model\n",
    "    j = 0\n",
    "    for neighbor in n_neighbors:\n",
    "            # model for each run\n",
    "        \n",
    "\n",
    "            # fit the model\n",
    "        KNN = KNeighborsClassifier(neighbor)\n",
    "\n",
    "            # fit the model\n",
    "        KNN.fit(df_train_train[selected_features], df_train_train['popularity'])\n",
    "            \n",
    "        pred = KNN.predict(df_holdout[selected_features])\n",
    "        \n",
    "        KNN_accuracy[i,j] = accuracy_score(df_holdout['popularity'], pred)\n",
    "        #KNN_roc[i,j] = accuray_score(df_holdout['popularity'], pred)\n",
    "        j = j + 1\n",
    "    i = i + 1"
   ]
  },
  {
   "cell_type": "code",
   "execution_count": 307,
   "metadata": {},
   "outputs": [
    {
     "data": {
      "text/plain": [
       "array([0.90132314, 0.90502685, 0.90762633, 0.90763046, 0.9057786 ,\n",
       "       0.90763459, 0.90466336, 0.91023406, 0.90689522, 0.91023682,\n",
       "       0.91060856, 0.91097756, 0.91023682, 0.90986369, 0.90838359,\n",
       "       0.91023269, 0.90948919, 0.90948644, 0.90911882, 0.90911882,\n",
       "       0.91097343, 0.90985956, 0.91097205, 0.91023269, 0.9109748 ,\n",
       "       0.91060443, 0.91097205, 0.91022993, 0.91208316, 0.91245766,\n",
       "       0.9139419 , 0.91282666, 0.91245629, 0.91245629, 0.91356877,\n",
       "       0.9131984 , 0.9131984 , 0.9128239 , 0.91171279, 0.91356464,\n",
       "       0.91282528, 0.91282666, 0.91245629, 0.91245904, 0.91245629,\n",
       "       0.91394052, 0.9131984 ])"
      ]
     },
     "execution_count": 307,
     "metadata": {},
     "output_type": "execute_result"
    }
   ],
   "source": [
    "np.mean(KNN_accuracy, axis = 0)"
   ]
  },
  {
   "cell_type": "code",
   "execution_count": 308,
   "metadata": {},
   "outputs": [
    {
     "name": "stdout",
     "output_type": "stream",
     "text": [
      "best KNN model has 33 number of neighbors\n"
     ]
    }
   ],
   "source": [
    "print('best KNN model has {} number of neighbors'.format(n_neighbors[np.argmax(np.mean(KNN_accuracy, axis = 0))]))"
   ]
  },
  {
   "cell_type": "code",
   "execution_count": 251,
   "metadata": {},
   "outputs": [],
   "source": [
    "from sklearn.linear_model import LogisticRegression"
   ]
  },
  {
   "cell_type": "markdown",
   "metadata": {},
   "source": [
    "# SVM classifier"
   ]
  },
  {
   "cell_type": "code",
   "execution_count": 310,
   "metadata": {},
   "outputs": [],
   "source": [
    "from sklearn.svm import SVC"
   ]
  },
  {
   "cell_type": "code",
   "execution_count": 320,
   "metadata": {},
   "outputs": [
    {
     "data": {
      "text/plain": [
       "0.896513353115727"
      ]
     },
     "execution_count": 320,
     "metadata": {},
     "output_type": "execute_result"
    }
   ],
   "source": [
    "clf = SVC(C=1)\n",
    "clf.fit(df_train[selected_features], df_train['popularity'])\n",
    "pred = clf.predict(df_train[selected_features])\n",
    "accuracy_score(df_train['popularity'], pred)"
   ]
  },
  {
   "cell_type": "code",
   "execution_count": 329,
   "metadata": {},
   "outputs": [],
   "source": [
    "# Here I run a cross validation to select best number of neighbors\n",
    "\n",
    "C_values = [0.001,0.01,0.1,1,10,20,50,60,80,100]\n",
    "cv_svc_accuracy = np.empty((10,len(C_values)))\n",
    "kf = StratifiedKFold(10)\n",
    "#KNN_roc = p.empty((10,len(n_neighbors)))\n",
    "i = 0\n",
    "# Perform CV\n",
    "for train_index, test_index in kf.split(df_train[selected_features],df_train['popularity']):\n",
    "    # Get the cv train test split\n",
    "    df_train_train = df_train.iloc[train_index]\n",
    "    df_holdout = df_train.iloc[test_index]\n",
    "    # For each possible model\n",
    "    j = 0\n",
    "    for C in C_values:\n",
    "     \n",
    "            # fit the model\n",
    "        svc_clf = SVC(C = C)\n",
    "\n",
    "            # fit the model\n",
    "        svc_clf.fit(df_train_train[selected_features], df_train_train['popularity'])\n",
    "            \n",
    "        pred = svc_clf.predict(df_holdout[selected_features])\n",
    "        \n",
    "        cv_svc_accuracy[i,j] = accuracy_score(df_holdout['popularity'], pred)\n",
    "        #KNN_roc[i,j] = accuray_score(df_holdout['popularity'], pred)\n",
    "        j = j + 1\n",
    "    i = i + 1"
   ]
  },
  {
   "cell_type": "code",
   "execution_count": 330,
   "metadata": {},
   "outputs": [
    {
     "data": {
      "text/plain": [
       "array([0.8909514 , 0.8909514 , 0.8909514 , 0.89539997, 0.90022029,\n",
       "       0.90059204, 0.90503649, 0.90429575, 0.90503649, 0.90466474])"
      ]
     },
     "execution_count": 330,
     "metadata": {},
     "output_type": "execute_result"
    }
   ],
   "source": [
    "np.mean(cv_svc_accuracy, axis = 0)"
   ]
  },
  {
   "cell_type": "code",
   "execution_count": 331,
   "metadata": {},
   "outputs": [
    {
     "data": {
      "text/plain": [
       "50"
      ]
     },
     "execution_count": 331,
     "metadata": {},
     "output_type": "execute_result"
    }
   ],
   "source": [
    "C_values[np.argmax(np.mean(cv_svc_accuracy, axis = 0))]"
   ]
  },
  {
   "cell_type": "markdown",
   "metadata": {},
   "source": [
    "# Decision Tree and Random Forest"
   ]
  },
  {
   "cell_type": "code",
   "execution_count": 328,
   "metadata": {},
   "outputs": [],
   "source": [
    "from sklearn.ensemble import RandomForestClassifier\n",
    "from sklearn.tree import DecisionTreeClassifier"
   ]
  },
  {
   "cell_type": "code",
   "execution_count": 333,
   "metadata": {},
   "outputs": [],
   "source": [
    "# with cross validation I will find the depth\n",
    "\n",
    "depths = range(1,31)\n",
    "cv_DT_accuracy = np.zeros((10, len(depths)))\n",
    "kf = StratifiedKFold(10)\n",
    "#KNN_roc = p.empty((10,len(n_neighbors)))\n",
    "i = 0\n",
    "# Perform CV\n",
    "for train_index, test_index in kf.split(df_train[features],df_train['popularity']):\n",
    "    # Get the cv train test split\n",
    "    df_train_train = df_train.iloc[train_index]\n",
    "    df_holdout = df_train.iloc[test_index]\n",
    "    # For each possible model\n",
    "    j = 0\n",
    "    for depth in depths:\n",
    "     \n",
    "            # fit the model\n",
    "        tree = DecisionTreeClassifier(max_depth=depth)\n",
    "\n",
    "            # fit the model\n",
    "        tree.fit(df_train_train[selected_features], df_train_train['popularity'])\n",
    "            \n",
    "        pred = tree.predict(df_holdout[selected_features])\n",
    "        \n",
    "        cv_DT_accuracy[i,j] = accuracy_score(df_holdout['popularity'], pred)\n",
    "        #KNN_roc[i,j] = accuray_score(df_holdout['popularity'], pred)\n",
    "        j = j + 1\n",
    "    i = i + 1"
   ]
  },
  {
   "cell_type": "code",
   "execution_count": 334,
   "metadata": {},
   "outputs": [
    {
     "data": {
      "text/plain": [
       "array([0.8909514 , 0.9109748 , 0.91023269, 0.90800771, 0.90837946,\n",
       "       0.90503511, 0.90281151, 0.89761118, 0.89427922, 0.88982239,\n",
       "       0.88796778, 0.88463858, 0.87944513, 0.8798155 , 0.87907201,\n",
       "       0.88167149, 0.87462481, 0.87647666, 0.8753628 , 0.87462619,\n",
       "       0.87574005, 0.87462619, 0.87536417, 0.87425306, 0.88018725,\n",
       "       0.87685116, 0.87573592, 0.87722566, 0.87685254, 0.87351095])"
      ]
     },
     "execution_count": 334,
     "metadata": {},
     "output_type": "execute_result"
    }
   ],
   "source": [
    "np.mean(cv_DT_accuracy, axis=0)"
   ]
  },
  {
   "cell_type": "code",
   "execution_count": 336,
   "metadata": {},
   "outputs": [
    {
     "name": "stdout",
     "output_type": "stream",
     "text": [
      "the best decision tree has a depth value of 2\n"
     ]
    }
   ],
   "source": [
    "print('the best decision tree has a depth value of {}'.format(depths[np.argmax(np.mean(cv_DT_accuracy, axis=0))]))"
   ]
  },
  {
   "cell_type": "code",
   "execution_count": 337,
   "metadata": {
    "scrolled": false
   },
   "outputs": [
    {
     "data": {
      "image/png": "[encoded data removed]",
      "text/plain": [
       "<Figure size 720x576 with 1 Axes>"
      ]
     },
     "metadata": {
      "needs_background": "light"
     },
     "output_type": "display_data"
    }
   ],
   "source": [
    "plt.figure(figsize=(10,8))\n",
    "\n",
    "\n",
    "plt.plot(depths, 100*np.mean(cv_DT_accuracy, axis=0), '-o')\n",
    "\n",
    "plt.xlabel(\"Maximum Depth\", fontsize=18)\n",
    "plt.ylabel(\"Accuracy\", fontsize=18)\n",
    "\n",
    "plt.yticks(fontsize=14)\n",
    "plt.xticks(depths,fontsize=14)\n",
    "\n",
    "plt.show()\n"
   ]
  },
  {
   "cell_type": "code",
   "execution_count": 410,
   "metadata": {},
   "outputs": [],
   "source": [
    "tree_clf = DecisionTreeClassifier(max_depth = 2)\n",
    "tree_clf.fit(df_train[selected_features], df_train['popularity'])\n",
    "pred = tree_clf.predict_proba(df_train[selected_features])[:,1]\n",
    "fprs, tprs, thresholds = roc_curve(df_train['popularity'],pred)\n",
    "conf_mat = confusion_matrix(1 *(pred >= 0.5), df_train['popularity'])"
   ]
  },
  {
   "cell_type": "code",
   "execution_count": 411,
   "metadata": {},
   "outputs": [
    {
     "data": {
      "text/plain": [
       "array([[2344,  175],\n",
       "       [  58,  119]], dtype=int64)"
      ]
     },
     "execution_count": 411,
     "metadata": {},
     "output_type": "execute_result"
    }
   ],
   "source": [
    "conf_mat"
   ]
  },
  {
   "cell_type": "code",
   "execution_count": 345,
   "metadata": {},
   "outputs": [],
   "source": [
    "# with cross validation I will find number of trees for the random forest\n",
    "\n",
    "num_of_trees = [5,10, 50, 100, 250, 500, 1000]\n",
    "cv_RF_accuracy = np.zeros((10, len(num_of_trees)))\n",
    "kf = StratifiedKFold(10)\n",
    "#KNN_roc = p.empty((10,len(n_neighbors)))\n",
    "i = 0\n",
    "# Perform CV\n",
    "for train_index, test_index in kf.split(df_train[features],df_train['popularity']):\n",
    "    # Get the cv train test split\n",
    "    df_train_train = df_train.iloc[train_index]\n",
    "    df_holdout = df_train.iloc[test_index]\n",
    "    # For each possible model\n",
    "    j = 0\n",
    "    for num_trees in num_of_trees:\n",
    "     \n",
    "            # fit the model\n",
    "        RF = RandomForestClassifier(max_depth=2, n_estimators = num_trees)\n",
    "\n",
    "            # fit the model\n",
    "        RF.fit(df_train_train[selected_features], df_train_train['popularity'])\n",
    "            \n",
    "        pred = RF.predict(df_holdout[selected_features])\n",
    "        \n",
    "        cv_RF_accuracy[i,j] = accuracy_score(df_holdout['popularity'], pred)\n",
    "        #KNN_roc[i,j] = accuray_score(df_holdout['popularity'], pred)\n",
    "        j = j + 1\n",
    "    i = i + 1"
   ]
  },
  {
   "cell_type": "code",
   "execution_count": 346,
   "metadata": {},
   "outputs": [
    {
     "data": {
      "text/plain": [
       "array([0.90022305, 0.89057965, 0.8909514 , 0.88946441, 0.8909514 ,\n",
       "       0.8909514 , 0.8909514 ])"
      ]
     },
     "execution_count": 346,
     "metadata": {},
     "output_type": "execute_result"
    }
   ],
   "source": [
    "np.mean(cv_RF_accuracy, axis = 0)"
   ]
  },
  {
   "cell_type": "markdown",
   "metadata": {},
   "source": [
    "seems that DecisionTreeClassifier performs better than the RandomForestClassifier"
   ]
  },
  {
   "cell_type": "markdown",
   "metadata": {},
   "source": [
    "# Logistic Regression"
   ]
  },
  {
   "cell_type": "code",
   "execution_count": 348,
   "metadata": {},
   "outputs": [],
   "source": [
    "\n",
    "# Here I run a cross validation to select best number of neighbors\n",
    "\n",
    "C_values = [0.001,0.01,0.1,1,10,20,50,60,80,100]\n",
    "cv_Log_accuracy = np.empty((10,len(C_values)))\n",
    "kf = StratifiedKFold(10)\n",
    "#KNN_roc = p.empty((10,len(n_neighbors)))\n",
    "i = 0\n",
    "# Perform CV\n",
    "for train_index, test_index in kf.split(df_train[selected_features],df_train['popularity']):\n",
    "    # Get the cv train test split\n",
    "    df_train_train = df_train.iloc[train_index]\n",
    "    df_holdout = df_train.iloc[test_index]\n",
    "    # For each possible model\n",
    "    j = 0\n",
    "    for C in C_values:\n",
    "     \n",
    "            # fit the model\n",
    "        log_clf = LogisticRegression(C = C, max_iter = 100000)\n",
    "\n",
    "            # fit the model\n",
    "        log_clf.fit(df_train_train[selected_features], df_train_train['popularity'])\n",
    "            \n",
    "        pred = log_clf.predict(df_holdout[selected_features])\n",
    "        \n",
    "        cv_Log_accuracy[i,j] = accuracy_score(df_holdout['popularity'], pred)\n",
    "        #KNN_roc[i,j] = accuray_score(df_holdout['popularity'], pred)\n",
    "        j = j + 1\n",
    "    i = i + 1\n"
   ]
  },
  {
   "cell_type": "code",
   "execution_count": 349,
   "metadata": {},
   "outputs": [
    {
     "data": {
      "text/plain": [
       "array([0.9109693 , 0.91208041, 0.91245215, 0.91171004, 0.91245078,\n",
       "       0.91245078, 0.91245078, 0.91245078, 0.91245078, 0.91245078])"
      ]
     },
     "execution_count": 349,
     "metadata": {},
     "output_type": "execute_result"
    }
   ],
   "source": [
    "np.mean(cv_Log_accuracy, axis = 0)"
   ]
  },
  {
   "cell_type": "markdown",
   "metadata": {},
   "source": [
    "It seems that C = 0.1 is the best value with accuracy of 0.9124"
   ]
  },
  {
   "cell_type": "markdown",
   "metadata": {},
   "source": [
    "# adaboost classifier"
   ]
  },
  {
   "cell_type": "code",
   "execution_count": 357,
   "metadata": {},
   "outputs": [],
   "source": [
    "from sklearn.ensemble import AdaBoostClassifier"
   ]
  },
  {
   "cell_type": "code",
   "execution_count": 359,
   "metadata": {},
   "outputs": [],
   "source": [
    "\n",
    "num_learners = range(1,51)\n",
    "\n",
    "## Make an array to hold your cross validation results here\n",
    "ada_accuracy = np.zeros((10, len(num_learners)))\n",
    "\n",
    "## fill in the code for a 5-fold cross-validation object here\n",
    "kfold = StratifiedKFold(10)\n",
    "\n",
    "\n",
    "i=0\n",
    "for train_index, test_index in kf.split(df_train[selected_features],df_train['popularity']):\n",
    "    # Get the cv train test split\n",
    "    df_train_train = df_train.iloc[train_index]\n",
    "    df_holdout = df_train.iloc[test_index]\n",
    "\n",
    "    \n",
    "    # here we loop through the different values for n_estimators\n",
    "    for j in num_learners:\n",
    "        # make the AdaBoostClassifier object here\n",
    "        ada = AdaBoostClassifier(DecisionTreeClassifier(max_depth=3), n_estimators=j, learning_rate=1)\n",
    "        \n",
    "        # fit that object here\n",
    "        ada.fit(df_train_train[selected_features], df_train_train['popularity'])\n",
    "        pred = ada.predict(df_holdout[selected_features])\n",
    "        # record the performance in your array here\n",
    "        ada_accuracy[i,j-1] = accuracy_score(df_holdout['popularity'], pred)\n",
    "\n",
    "    i = i + 1"
   ]
  },
  {
   "cell_type": "code",
   "execution_count": 360,
   "metadata": {},
   "outputs": [
    {
     "data": {
      "text/plain": [
       "array([0.91023269, 0.91023406, 0.90912433, 0.90912571, 0.90801184,\n",
       "       0.9072711 , 0.90652898, 0.90726972, 0.90652761, 0.90503924,\n",
       "       0.90429575, 0.90206802, 0.90243976, 0.90207077, 0.90206526,\n",
       "       0.90540823, 0.90354812, 0.90132039, 0.90058103, 0.90206389,\n",
       "       0.90169076, 0.90243563, 0.90206251, 0.90020928, 0.90169352,\n",
       "       0.90354812, 0.90392124, 0.90355087, 0.90243839, 0.9013259 ,\n",
       "       0.89873331, 0.89799119, 0.89724494, 0.89724907, 0.90021754,\n",
       "       0.90021616, 0.89947818, 0.89687595, 0.89688008, 0.89539171,\n",
       "       0.89316674, 0.89427922, 0.89316398, 0.89280187, 0.8935495 ,\n",
       "       0.89243013, 0.89243288, 0.89132039, 0.89131764, 0.89428611])"
      ]
     },
     "execution_count": 360,
     "metadata": {},
     "output_type": "execute_result"
    }
   ],
   "source": [
    "np.mean(ada_accuracy, axis = 0)"
   ]
  },
  {
   "cell_type": "code",
   "execution_count": 361,
   "metadata": {},
   "outputs": [
    {
     "name": "stdout",
     "output_type": "stream",
     "text": [
      "number of estimator with best accuracy is 2\n"
     ]
    }
   ],
   "source": [
    "print('number of estimator with best accuracy is {}'.format(num_learners[np.argmax(np.mean(ada_accuracy, axis=0))]))"
   ]
  },
  {
   "cell_type": "markdown",
   "metadata": {},
   "source": [
    "It seems that adaboost is not much better so I skip it"
   ]
  },
  {
   "cell_type": "markdown",
   "metadata": {},
   "source": [
    "# VoterModels"
   ]
  },
  {
   "cell_type": "code",
   "execution_count": 350,
   "metadata": {},
   "outputs": [],
   "source": [
    "from sklearn.ensemble import VotingClassifier"
   ]
  },
  {
   "cell_type": "code",
   "execution_count": 355,
   "metadata": {},
   "outputs": [
    {
     "data": {
      "text/plain": [
       "0.9154302670623146"
      ]
     },
     "execution_count": 355,
     "metadata": {},
     "output_type": "execute_result"
    }
   ],
   "source": [
    "voter_clf = VotingClassifier([('svc', SVC(C = 50, probability = True)), ('KNN', KNeighborsClassifier(n_neighbors = 12)),\n",
    "                       ('log_reg', LogisticRegression(C = 0.1, max_iter = 100000)),\n",
    "                       ('DT', DecisionTreeClassifier(max_depth=2))], voting = 'soft')\n",
    "voter_clf.fit(df_train[selected_features], df_train['popularity'])\n",
    "pred = voter_clf.predict(df_train[selected_features])\n",
    "accuracy_score(pred, df_train['popularity'])"
   ]
  },
  {
   "cell_type": "markdown",
   "metadata": {},
   "source": [
    "# By cross validation I will decide which model eventually works better"
   ]
  },
  {
   "cell_type": "code",
   "execution_count": 371,
   "metadata": {},
   "outputs": [],
   "source": [
    "cv_accs = np.zeros((10,5))\n",
    "cv_rocs = np.zeros((10,5))\n",
    "svc_clf = SVC(C = 50, probability = True)\n",
    "\n",
    "KNN_clf = KNeighborsClassifier(n_neighbors = 12)\n",
    "\n",
    "log_reg_clf = LogisticRegression(C = 0.1, max_iter = 10000)\n",
    "\n",
    "DT_clf = DecisionTreeClassifier(max_depth = 2)\n",
    "voting_clf = voter_clf = VotingClassifier([('svc', SVC(C = 50, probability = True)), ('KNN', KNeighborsClassifier(n_neighbors = 12)),\n",
    "                       ('log_reg', LogisticRegression(C = 0.1, max_iter = 100000)),\n",
    "                       ('DT', DecisionTreeClassifier(max_depth=2))], voting = 'soft')\n",
    "i = 0\n",
    "for train_index, test_index in kf.split(df_train[selected_features],df_train['popularity']):\n",
    "    # Get the cv train test split\n",
    "    df_train_train = df_train.iloc[train_index]\n",
    "    df_holdout = df_train.iloc[test_index]\n",
    "    \n",
    "    svc_clf_clone = clone(svc_clf)\n",
    "    KNN_clf_clone = clone(KNN_clf)\n",
    "    log_reg_clf_clone = clone(log_reg_clf)\n",
    "    DT_clf_clone = clone(DT_clf)\n",
    "    voting_clf_clone = clone(voting_clf)\n",
    "    \n",
    "    svc_clf_clone.fit(df_train_train[selected_features], df_train_train['popularity'])\n",
    "    KNN_clf_clone.fit(df_train_train[selected_features], df_train_train['popularity'])\n",
    "    log_reg_clf_clone.fit(df_train_train[selected_features], df_train_train['popularity'])\n",
    "    DT_clf_clone.fit(df_train_train[selected_features], df_train_train['popularity'])\n",
    "    voting_clf_clone.fit(df_train_train[selected_features], df_train_train['popularity'])\n",
    "    \n",
    "    cv_accs[i,0] = accuracy_score(df_holdout['popularity'], svc_clf_clone.predict(df_holdout[selected_features]))\n",
    "    cv_accs[i,1] = accuracy_score(df_holdout['popularity'], KNN_clf_clone.predict(df_holdout[selected_features]))\n",
    "    cv_accs[i,2] = accuracy_score(df_holdout['popularity'], log_reg_clf_clone.predict(df_holdout[selected_features]))\n",
    "    cv_accs[i,3] = accuracy_score(df_holdout['popularity'], DT_clf_clone.predict(df_holdout[selected_features]))\n",
    "    cv_accs[i,4] = accuracy_score(df_holdout['popularity'], voting_clf_clone.predict(df_holdout[selected_features]))\n",
    "    \n",
    "    cv_rocs[i,0] = roc_auc_score(df_holdout['popularity'], svc_clf_clone.predict_proba(df_holdout[selected_features])[:,1])\n",
    "    cv_rocs[i,1] = roc_auc_score(df_holdout['popularity'], KNN_clf_clone.predict_proba(df_holdout[selected_features])[:,1])\n",
    "    cv_rocs[i,2] = roc_auc_score(df_holdout['popularity'], log_reg_clf_clone.predict_proba(df_holdout[selected_features])[:,1])\n",
    "    cv_rocs[i,3] = roc_auc_score(df_holdout['popularity'], DT_clf_clone.predict_proba(df_holdout[selected_features])[:,1])\n",
    "    cv_rocs[i,4] = roc_auc_score(df_holdout['popularity'], voting_clf_clone.predict_proba(df_holdout[selected_features])[:,1])\n",
    "    \n",
    "    i = i + 1\n",
    "    "
   ]
  },
  {
   "cell_type": "code",
   "execution_count": 373,
   "metadata": {},
   "outputs": [
    {
     "data": {
      "text/plain": [
       "array([0.90503649, 0.91023682, 0.91245215, 0.9109748 , 0.91282803])"
      ]
     },
     "execution_count": 373,
     "metadata": {},
     "output_type": "execute_result"
    }
   ],
   "source": [
    "np.mean(cv_accs, axis = 0)"
   ]
  },
  {
   "cell_type": "code",
   "execution_count": 372,
   "metadata": {},
   "outputs": [
    {
     "data": {
      "text/plain": [
       "array([0.84899819, 0.87160194, 0.90451615, 0.87844867, 0.9056101 ])"
      ]
     },
     "execution_count": 372,
     "metadata": {},
     "output_type": "execute_result"
    }
   ],
   "source": [
    "np.mean(cv_rocs, axis = 0)"
   ]
  },
  {
   "cell_type": "code",
   "execution_count": 374,
   "metadata": {},
   "outputs": [
    {
     "data": {
      "image/png": "[encoded data removed]",
      "text/plain": [
       "<Figure size 720x576 with 1 Axes>"
      ]
     },
     "metadata": {
      "needs_background": "light"
     },
     "output_type": "display_data"
    },
    {
     "data": {
      "image/png": "[encoded data removed]",
      "text/plain": [
       "<Figure size 720x576 with 1 Axes>"
      ]
     },
     "metadata": {
      "needs_background": "light"
     },
     "output_type": "display_data"
    }
   ],
   "source": [
    "plt.figure(figsize=(10,8))\n",
    "\n",
    "plt.scatter(range(5), 100*np.mean(cv_accs, axis=0), s=100)\n",
    "\n",
    "plt.xlabel(\"Model\", fontsize=18)\n",
    "plt.ylabel(\"Avg. CV Accuracy\", fontsize=18)\n",
    "\n",
    "plt.yticks(fontsize=14)\n",
    "plt.xticks(range(5), ['SVC', 'K_nearest_neighbors', 'Logistic','DecisionTree','Voter'], fontsize=14)\n",
    "\n",
    "plt.show()\n",
    "\n",
    "plt.figure(figsize=(10,8))\n",
    "\n",
    "plt.scatter(range(5), 100*np.mean(cv_rocs, axis=0), s=100)\n",
    "\n",
    "plt.xlabel(\"Model\", fontsize=18)\n",
    "plt.ylabel(\"Avg. CV ROC\", fontsize=18)\n",
    "\n",
    "plt.yticks(fontsize=14)\n",
    "plt.xticks(range(5), ['SVC', 'K_nearest_neighbors', 'Logistic','DecisionTree','Voter'], fontsize=14)\n",
    "\n",
    "plt.show()"
   ]
  },
  {
   "cell_type": "code",
   "execution_count": null,
   "metadata": {},
   "outputs": [],
   "source": []
  },
  {
   "cell_type": "code",
   "execution_count": null,
   "metadata": {},
   "outputs": [],
   "source": []
  }
 ],
 "metadata": {
  "kernelspec": {
   "display_name": "Python 3",
   "language": "python",
   "name": "python3"
  },
  "language_info": {
   "codemirror_mode": {
    "name": "ipython",
    "version": 3
   },
   "file_extension": ".py",
   "mimetype": "text/x-python",
   "name": "python",
   "nbconvert_exporter": "python",
   "pygments_lexer": "ipython3",
   "version": "3.8.5"
  }
 },
 "nbformat": 4,
 "nbformat_minor": 2
}
