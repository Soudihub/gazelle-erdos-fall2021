{
 "cells": [
  {
   "cell_type": "code",
   "execution_count": 1,
   "metadata": {},
   "outputs": [],
   "source": [
    "import numpy as np\n",
    "import pandas as pd\n",
    "import matplotlib.pyplot as plt\n",
    "import seaborn as sns\n",
    "sns.set_style('darkgrid')\n",
    "import requests\n",
    "import sys\n",
    "from pandas.plotting import register_matplotlib_converters\n",
    "register_matplotlib_converters()\n",
    "import ast\n",
    "import random\n",
    "from nltk.tokenize import sent_tokenize, word_tokenize\n",
    "from nltk.probability import FreqDist\n",
    "from nltk.corpus import stopwords\n",
    "from nltk.stem import PorterStemmer\n",
    "from string import punctuation\n",
    "import nltk\n",
    "from nltk.text import Text\n",
    "from datetime import datetime, timedelta"
   ]
  },
  {
   "cell_type": "code",
   "execution_count": 2,
   "metadata": {},
   "outputs": [],
   "source": [
    "df_24 = pd.read_csv('d:/Machine_Learning/Erdoes_Fall/project/PatData/After24hours.csv', index_col = False)"
   ]
  },
  {
   "cell_type": "code",
   "execution_count": 3,
   "metadata": {},
   "outputs": [
    {
     "data": {
      "text/html": [
       "<div>\n",
       "<style scoped>\n",
       "    .dataframe tbody tr th:only-of-type {\n",
       "        vertical-align: middle;\n",
       "    }\n",
       "\n",
       "    .dataframe tbody tr th {\n",
       "        vertical-align: top;\n",
       "    }\n",
       "\n",
       "    .dataframe thead th {\n",
       "        text-align: right;\n",
       "    }\n",
       "</style>\n",
       "<table border=\"1\" class=\"dataframe\">\n",
       "  <thead>\n",
       "    <tr style=\"text-align: right;\">\n",
       "      <th></th>\n",
       "      <th>post_id</th>\n",
       "      <th>active_track</th>\n",
       "      <th>title</th>\n",
       "      <th>comment_url</th>\n",
       "      <th>link_url</th>\n",
       "      <th>flair</th>\n",
       "      <th>submit_time</th>\n",
       "      <th>rising_val</th>\n",
       "      <th>hot_val</th>\n",
       "      <th>username</th>\n",
       "      <th>...</th>\n",
       "      <th>redditor_for</th>\n",
       "      <th>upvotes</th>\n",
       "      <th>upvote_percent</th>\n",
       "      <th>num_comments</th>\n",
       "      <th>submission_id</th>\n",
       "      <th>upvotes_24</th>\n",
       "      <th>comment_after_1hour</th>\n",
       "      <th>total_number_comments</th>\n",
       "      <th>hot_val_24</th>\n",
       "      <th>upvote_perc_24</th>\n",
       "    </tr>\n",
       "  </thead>\n",
       "  <tbody>\n",
       "    <tr>\n",
       "      <td>0</td>\n",
       "      <td>2</td>\n",
       "      <td>No</td>\n",
       "      <td>China Evergrande Ends Talks on Hopson Deal, As...</td>\n",
       "      <td>https://old.reddit.com/r/wallstreetbets/commen...</td>\n",
       "      <td>https://www.bloomberg.com/news/articles/2021-1...</td>\n",
       "      <td>News</td>\n",
       "      <td>\"2021-10-20T15:25:08</td>\n",
       "      <td>9</td>\n",
       "      <td>70</td>\n",
       "      <td>AppyWappy</td>\n",
       "      <td>...</td>\n",
       "      <td>1618.662336</td>\n",
       "      <td>2</td>\n",
       "      <td>75</td>\n",
       "      <td>9</td>\n",
       "      <td>qc3dwu</td>\n",
       "      <td>8</td>\n",
       "      <td>11</td>\n",
       "      <td>15</td>\n",
       "      <td>999</td>\n",
       "      <td>71</td>\n",
       "    </tr>\n",
       "    <tr>\n",
       "      <td>1</td>\n",
       "      <td>3</td>\n",
       "      <td>No</td>\n",
       "      <td>Impact of Federal Legalization on TLRY</td>\n",
       "      <td>https://old.reddit.com/r/wallstreetbets/commen...</td>\n",
       "      <td>https://old.reddit.com/r/wallstreetbets/commen...</td>\n",
       "      <td>DD</td>\n",
       "      <td>\"2021-10-20T15:24:28</td>\n",
       "      <td>4</td>\n",
       "      <td>91</td>\n",
       "      <td>MichKOG</td>\n",
       "      <td>...</td>\n",
       "      <td>1861.732471</td>\n",
       "      <td>1</td>\n",
       "      <td>53</td>\n",
       "      <td>18</td>\n",
       "      <td>qc3de5</td>\n",
       "      <td>20</td>\n",
       "      <td>28</td>\n",
       "      <td>80</td>\n",
       "      <td>999</td>\n",
       "      <td>59</td>\n",
       "    </tr>\n",
       "    <tr>\n",
       "      <td>2</td>\n",
       "      <td>4</td>\n",
       "      <td>No</td>\n",
       "      <td>Novavax $NVAX is being investigated after big ...</td>\n",
       "      <td>https://old.reddit.com/r/wallstreetbets/commen...</td>\n",
       "      <td>https://www.globenewswire.com/news-release/202...</td>\n",
       "      <td>News</td>\n",
       "      <td>\"2021-10-20T15:09:17</td>\n",
       "      <td>5</td>\n",
       "      <td>49</td>\n",
       "      <td>johnboycutter</td>\n",
       "      <td>...</td>\n",
       "      <td>2034.134827</td>\n",
       "      <td>5</td>\n",
       "      <td>78</td>\n",
       "      <td>10</td>\n",
       "      <td>qc30zw</td>\n",
       "      <td>20</td>\n",
       "      <td>10</td>\n",
       "      <td>13</td>\n",
       "      <td>999</td>\n",
       "      <td>84</td>\n",
       "    </tr>\n",
       "    <tr>\n",
       "      <td>3</td>\n",
       "      <td>5</td>\n",
       "      <td>No</td>\n",
       "      <td>I suggested this few weeks ago and I was ridic...</td>\n",
       "      <td>https://old.reddit.com/r/wallstreetbets/commen...</td>\n",
       "      <td>https://i.redd.it/4oj1aea3emu71.jpg</td>\n",
       "      <td>Gain</td>\n",
       "      <td>\"2021-10-20T15:01:54</td>\n",
       "      <td>2</td>\n",
       "      <td>24</td>\n",
       "      <td>MgKx</td>\n",
       "      <td>...</td>\n",
       "      <td>1497.069590</td>\n",
       "      <td>20</td>\n",
       "      <td>81</td>\n",
       "      <td>12</td>\n",
       "      <td>qc2uxo</td>\n",
       "      <td>76</td>\n",
       "      <td>14</td>\n",
       "      <td>30</td>\n",
       "      <td>88</td>\n",
       "      <td>80</td>\n",
       "    </tr>\n",
       "    <tr>\n",
       "      <td>4</td>\n",
       "      <td>6</td>\n",
       "      <td>No</td>\n",
       "      <td>WISHtards today...</td>\n",
       "      <td>https://old.reddit.com/r/wallstreetbets/commen...</td>\n",
       "      <td>https://i.redd.it/6mv5z7cctmu71.jpg</td>\n",
       "      <td>Meme</td>\n",
       "      <td>\"2021-10-20T16:27:23</td>\n",
       "      <td>99</td>\n",
       "      <td>22</td>\n",
       "      <td>Janto_2021</td>\n",
       "      <td>...</td>\n",
       "      <td>336.027425</td>\n",
       "      <td>20</td>\n",
       "      <td>92</td>\n",
       "      <td>3</td>\n",
       "      <td>qc4rq4</td>\n",
       "      <td>32171</td>\n",
       "      <td>63</td>\n",
       "      <td>598</td>\n",
       "      <td>7</td>\n",
       "      <td>92</td>\n",
       "    </tr>\n",
       "  </tbody>\n",
       "</table>\n",
       "<p>5 rows × 22 columns</p>\n",
       "</div>"
      ],
      "text/plain": [
       "   post_id active_track                                              title  \\\n",
       "0        2           No  China Evergrande Ends Talks on Hopson Deal, As...   \n",
       "1        3           No             Impact of Federal Legalization on TLRY   \n",
       "2        4           No  Novavax $NVAX is being investigated after big ...   \n",
       "3        5           No  I suggested this few weeks ago and I was ridic...   \n",
       "4        6           No                                 WISHtards today...   \n",
       "\n",
       "                                         comment_url  \\\n",
       "0  https://old.reddit.com/r/wallstreetbets/commen...   \n",
       "1  https://old.reddit.com/r/wallstreetbets/commen...   \n",
       "2  https://old.reddit.com/r/wallstreetbets/commen...   \n",
       "3  https://old.reddit.com/r/wallstreetbets/commen...   \n",
       "4  https://old.reddit.com/r/wallstreetbets/commen...   \n",
       "\n",
       "                                            link_url flair  \\\n",
       "0  https://www.bloomberg.com/news/articles/2021-1...  News   \n",
       "1  https://old.reddit.com/r/wallstreetbets/commen...    DD   \n",
       "2  https://www.globenewswire.com/news-release/202...  News   \n",
       "3                https://i.redd.it/4oj1aea3emu71.jpg  Gain   \n",
       "4                https://i.redd.it/6mv5z7cctmu71.jpg  Meme   \n",
       "\n",
       "            submit_time  rising_val  hot_val       username  ...  \\\n",
       "0  \"2021-10-20T15:25:08           9       70      AppyWappy  ...   \n",
       "1  \"2021-10-20T15:24:28           4       91        MichKOG  ...   \n",
       "2  \"2021-10-20T15:09:17           5       49  johnboycutter  ...   \n",
       "3  \"2021-10-20T15:01:54           2       24           MgKx  ...   \n",
       "4  \"2021-10-20T16:27:23          99       22     Janto_2021  ...   \n",
       "\n",
       "   redditor_for  upvotes  upvote_percent  num_comments  submission_id  \\\n",
       "0   1618.662336        2              75             9         qc3dwu   \n",
       "1   1861.732471        1              53            18         qc3de5   \n",
       "2   2034.134827        5              78            10         qc30zw   \n",
       "3   1497.069590       20              81            12         qc2uxo   \n",
       "4    336.027425       20              92             3         qc4rq4   \n",
       "\n",
       "   upvotes_24 comment_after_1hour  total_number_comments  hot_val_24  \\\n",
       "0           8                  11                     15         999   \n",
       "1          20                  28                     80         999   \n",
       "2          20                  10                     13         999   \n",
       "3          76                  14                     30          88   \n",
       "4       32171                  63                    598           7   \n",
       "\n",
       "   upvote_perc_24  \n",
       "0              71  \n",
       "1              59  \n",
       "2              84  \n",
       "3              80  \n",
       "4              92  \n",
       "\n",
       "[5 rows x 22 columns]"
      ]
     },
     "execution_count": 3,
     "metadata": {},
     "output_type": "execute_result"
    }
   ],
   "source": [
    "df_24.head()"
   ]
  },
  {
   "cell_type": "code",
   "execution_count": 5,
   "metadata": {},
   "outputs": [],
   "source": [
    "from sklearn.model_selection import train_test_split"
   ]
  },
  {
   "cell_type": "code",
   "execution_count": 13,
   "metadata": {},
   "outputs": [],
   "source": [
    "def rmse(true, prediction):\n",
    "    return np.sqrt(np.sum(np.power(true-prediction,2))/len(true))"
   ]
  },
  {
   "cell_type": "code",
   "execution_count": 6,
   "metadata": {},
   "outputs": [],
   "source": [
    "from sklearn.linear_model import LinearRegression"
   ]
  },
  {
   "cell_type": "code",
   "execution_count": 10,
   "metadata": {},
   "outputs": [],
   "source": [
    "from sklearn.metrics import mean_squared_error"
   ]
  },
  {
   "cell_type": "code",
   "execution_count": 7,
   "metadata": {},
   "outputs": [],
   "source": [
    "df_train, df_test = train_test_split(df_24.copy(), test_size = 0.2, shuffle = True, random_state = 253)"
   ]
  },
  {
   "cell_type": "code",
   "execution_count": 17,
   "metadata": {},
   "outputs": [
    {
     "data": {
      "text/html": [
       "<div>\n",
       "<style scoped>\n",
       "    .dataframe tbody tr th:only-of-type {\n",
       "        vertical-align: middle;\n",
       "    }\n",
       "\n",
       "    .dataframe tbody tr th {\n",
       "        vertical-align: top;\n",
       "    }\n",
       "\n",
       "    .dataframe thead th {\n",
       "        text-align: right;\n",
       "    }\n",
       "</style>\n",
       "<table border=\"1\" class=\"dataframe\">\n",
       "  <thead>\n",
       "    <tr style=\"text-align: right;\">\n",
       "      <th></th>\n",
       "      <th>post_id</th>\n",
       "      <th>active_track</th>\n",
       "      <th>title</th>\n",
       "      <th>comment_url</th>\n",
       "      <th>link_url</th>\n",
       "      <th>flair</th>\n",
       "      <th>submit_time</th>\n",
       "      <th>rising_val</th>\n",
       "      <th>hot_val</th>\n",
       "      <th>username</th>\n",
       "      <th>...</th>\n",
       "      <th>Earnings_Thread</th>\n",
       "      <th>Gain</th>\n",
       "      <th>Loss</th>\n",
       "      <th>Meme</th>\n",
       "      <th>Modes</th>\n",
       "      <th>News</th>\n",
       "      <th>Shitpost</th>\n",
       "      <th>Technical_Analysis</th>\n",
       "      <th>Weekend_Discussion</th>\n",
       "      <th>Yolo</th>\n",
       "    </tr>\n",
       "  </thead>\n",
       "  <tbody>\n",
       "    <tr>\n",
       "      <td>1079</td>\n",
       "      <td>1314</td>\n",
       "      <td>No</td>\n",
       "      <td>SIRI YOLO</td>\n",
       "      <td>https://old.reddit.com/r/wallstreetbets/commen...</td>\n",
       "      <td>https://i.redd.it/cwq9kmed28w71.png</td>\n",
       "      <td>YOLO</td>\n",
       "      <td>\"2021-10-28T17:02:55</td>\n",
       "      <td>11</td>\n",
       "      <td>80</td>\n",
       "      <td>tosshop</td>\n",
       "      <td>...</td>\n",
       "      <td>0</td>\n",
       "      <td>0</td>\n",
       "      <td>0</td>\n",
       "      <td>0</td>\n",
       "      <td>0</td>\n",
       "      <td>0</td>\n",
       "      <td>0</td>\n",
       "      <td>0</td>\n",
       "      <td>0</td>\n",
       "      <td>1</td>\n",
       "    </tr>\n",
       "    <tr>\n",
       "      <td>1113</td>\n",
       "      <td>1356</td>\n",
       "      <td>No</td>\n",
       "      <td>All in on earnings with my life savings.</td>\n",
       "      <td>https://old.reddit.com/r/wallstreetbets/commen...</td>\n",
       "      <td>https://i.redd.it/9z46p84nu8w71.jpg</td>\n",
       "      <td>YOLO</td>\n",
       "      <td>\"2021-10-28T19:38:01</td>\n",
       "      <td>99</td>\n",
       "      <td>101</td>\n",
       "      <td>CablesOnCables</td>\n",
       "      <td>...</td>\n",
       "      <td>0</td>\n",
       "      <td>0</td>\n",
       "      <td>0</td>\n",
       "      <td>0</td>\n",
       "      <td>0</td>\n",
       "      <td>0</td>\n",
       "      <td>0</td>\n",
       "      <td>0</td>\n",
       "      <td>0</td>\n",
       "      <td>1</td>\n",
       "    </tr>\n",
       "    <tr>\n",
       "      <td>2980</td>\n",
       "      <td>3551</td>\n",
       "      <td>No</td>\n",
       "      <td>But it said option!!</td>\n",
       "      <td>https://old.reddit.com/r/wallstreetbets/commen...</td>\n",
       "      <td>https://i.redd.it/9onrug9zwyy71.jpg</td>\n",
       "      <td>Meme</td>\n",
       "      <td>\"2021-11-11T13:25:43</td>\n",
       "      <td>5</td>\n",
       "      <td>999</td>\n",
       "      <td>No-Watercress9930</td>\n",
       "      <td>...</td>\n",
       "      <td>0</td>\n",
       "      <td>0</td>\n",
       "      <td>0</td>\n",
       "      <td>1</td>\n",
       "      <td>0</td>\n",
       "      <td>0</td>\n",
       "      <td>0</td>\n",
       "      <td>0</td>\n",
       "      <td>0</td>\n",
       "      <td>0</td>\n",
       "    </tr>\n",
       "    <tr>\n",
       "      <td>2566</td>\n",
       "      <td>3062</td>\n",
       "      <td>No</td>\n",
       "      <td>nevermind</td>\n",
       "      <td>https://old.reddit.com/r/wallstreetbets/commen...</td>\n",
       "      <td>https://twitter.com/business/status/1457828518...</td>\n",
       "      <td>News</td>\n",
       "      <td>\"2021-11-09T13:04:14</td>\n",
       "      <td>99</td>\n",
       "      <td>100</td>\n",
       "      <td>Grits_N_Gravy_23</td>\n",
       "      <td>...</td>\n",
       "      <td>0</td>\n",
       "      <td>0</td>\n",
       "      <td>0</td>\n",
       "      <td>0</td>\n",
       "      <td>0</td>\n",
       "      <td>1</td>\n",
       "      <td>0</td>\n",
       "      <td>0</td>\n",
       "      <td>0</td>\n",
       "      <td>0</td>\n",
       "    </tr>\n",
       "    <tr>\n",
       "      <td>2241</td>\n",
       "      <td>2666</td>\n",
       "      <td>No</td>\n",
       "      <td>Twenty-twenty, twenty-four hours to go. Til Im...</td>\n",
       "      <td>https://old.reddit.com/r/wallstreetbets/commen...</td>\n",
       "      <td>https://i.redd.it/t9vzshd8f6y71.png</td>\n",
       "      <td>YOLO</td>\n",
       "      <td>\"2021-11-07T13:36:31</td>\n",
       "      <td>99</td>\n",
       "      <td>42</td>\n",
       "      <td>Impossible-Panda4496</td>\n",
       "      <td>...</td>\n",
       "      <td>0</td>\n",
       "      <td>0</td>\n",
       "      <td>0</td>\n",
       "      <td>0</td>\n",
       "      <td>0</td>\n",
       "      <td>0</td>\n",
       "      <td>0</td>\n",
       "      <td>0</td>\n",
       "      <td>0</td>\n",
       "      <td>1</td>\n",
       "    </tr>\n",
       "  </tbody>\n",
       "</table>\n",
       "<p>5 rows × 35 columns</p>\n",
       "</div>"
      ],
      "text/plain": [
       "      post_id active_track                                              title  \\\n",
       "1079     1314           No                                          SIRI YOLO   \n",
       "1113     1356           No           All in on earnings with my life savings.   \n",
       "2980     3551           No                               But it said option!!   \n",
       "2566     3062           No                                          nevermind   \n",
       "2241     2666           No  Twenty-twenty, twenty-four hours to go. Til Im...   \n",
       "\n",
       "                                            comment_url  \\\n",
       "1079  https://old.reddit.com/r/wallstreetbets/commen...   \n",
       "1113  https://old.reddit.com/r/wallstreetbets/commen...   \n",
       "2980  https://old.reddit.com/r/wallstreetbets/commen...   \n",
       "2566  https://old.reddit.com/r/wallstreetbets/commen...   \n",
       "2241  https://old.reddit.com/r/wallstreetbets/commen...   \n",
       "\n",
       "                                               link_url flair  \\\n",
       "1079                https://i.redd.it/cwq9kmed28w71.png  YOLO   \n",
       "1113                https://i.redd.it/9z46p84nu8w71.jpg  YOLO   \n",
       "2980                https://i.redd.it/9onrug9zwyy71.jpg  Meme   \n",
       "2566  https://twitter.com/business/status/1457828518...  News   \n",
       "2241                https://i.redd.it/t9vzshd8f6y71.png  YOLO   \n",
       "\n",
       "               submit_time  rising_val  hot_val              username  ...  \\\n",
       "1079  \"2021-10-28T17:02:55          11       80               tosshop  ...   \n",
       "1113  \"2021-10-28T19:38:01          99      101        CablesOnCables  ...   \n",
       "2980  \"2021-11-11T13:25:43           5      999     No-Watercress9930  ...   \n",
       "2566  \"2021-11-09T13:04:14          99      100      Grits_N_Gravy_23  ...   \n",
       "2241  \"2021-11-07T13:36:31          99       42  Impossible-Panda4496  ...   \n",
       "\n",
       "      Earnings_Thread  Gain  Loss  Meme  Modes  News Shitpost  \\\n",
       "1079                0     0     0     0      0     0        0   \n",
       "1113                0     0     0     0      0     0        0   \n",
       "2980                0     0     0     1      0     0        0   \n",
       "2566                0     0     0     0      0     1        0   \n",
       "2241                0     0     0     0      0     0        0   \n",
       "\n",
       "      Technical_Analysis  Weekend_Discussion  Yolo  \n",
       "1079                   0                   0     1  \n",
       "1113                   0                   0     1  \n",
       "2980                   0                   0     0  \n",
       "2566                   0                   0     0  \n",
       "2241                   0                   0     1  \n",
       "\n",
       "[5 rows x 35 columns]"
      ]
     },
     "execution_count": 17,
     "metadata": {},
     "output_type": "execute_result"
    }
   ],
   "source": [
    "df_train.head()"
   ]
  },
  {
   "cell_type": "code",
   "execution_count": 4,
   "metadata": {},
   "outputs": [],
   "source": [
    "selected_features = ['rising_val', 'hot_val','post_karma',\n",
    "                    'comment_karma', 'redditor_for','upvotes','upvote_percent','num_comments']"
   ]
  },
  {
   "cell_type": "code",
   "execution_count": 14,
   "metadata": {},
   "outputs": [
    {
     "data": {
      "text/plain": [
       "2928.139299991693"
      ]
     },
     "execution_count": 14,
     "metadata": {},
     "output_type": "execute_result"
    }
   ],
   "source": [
    "# This is a quick test how linear regression performs\n",
    "LR = LinearRegression(copy_X = True)\n",
    "LR.fit(df_train[selected_features], df_train['upvotes_24'])\n",
    "predicted = LR.predict(df_train[selected_features])\n",
    "rmse(predicted ,df_train['upvotes_24'])"
   ]
  },
  {
   "cell_type": "code",
   "execution_count": 16,
   "metadata": {},
   "outputs": [],
   "source": [
    "df_train[['DD','Daily_Discussion','Discussion','Earnings_Thread','Gain','Loss','Meme',\n",
    "       'Modes','News','Shitpost','Technical_Analysis','Weekend_Discussion','Yolo']] = pd.get_dummies(df_train.flair)[['DD', 'Daily Discussion', 'Discussion', 'Earnings Thread', 'Gain',\n",
    "       'Loss', 'Meme', 'Mods', 'News', 'Shitpost',\n",
    "       'Technical Analysis', 'Weekend Discussion', 'YOLO']].copy()"
   ]
  },
  {
   "cell_type": "code",
   "execution_count": 18,
   "metadata": {},
   "outputs": [],
   "source": [
    "def powerset_no_empty(s):\n",
    "    power_set = []\n",
    "    x = len(s)\n",
    "    for i in range(1 << x):\n",
    "        power_set.append([s[j] for j in range(x) if (i & (1 << j))])\n",
    "            \n",
    "    return power_set[1:]"
   ]
  },
  {
   "cell_type": "code",
   "execution_count": 32,
   "metadata": {},
   "outputs": [],
   "source": [
    "non_categorical = powerset_no_empty(['rising_val', 'hot_val','post_karma',\n",
    "                    'comment_karma', 'redditor_for','upvotes','num_comments'])"
   ]
  },
  {
   "cell_type": "code",
   "execution_count": 34,
   "metadata": {},
   "outputs": [],
   "source": [
    "#this part gives you all possible combinations\n",
    "cat = pd.Series([['DD', 'Daily_Discussion',\n",
    "       'Discussion', 'Gain', 'Loss', 'Meme', 'Modes',\n",
    "       'News','Technical_Analysis', 'Weekend_Discussion', 'Yolo']])\n",
    "models = pd.Series(non_categorical).append(cat, ignore_index = True)\n",
    "all_models = models.append(pd.Series(['baseline']), ignore_index = True)"
   ]
  },
  {
   "cell_type": "code",
   "execution_count": 36,
   "metadata": {},
   "outputs": [],
   "source": [
    "from sklearn.model_selection import KFold\n",
    "from sklearn.base import clone"
   ]
  },
  {
   "cell_type": "code",
   "execution_count": 37,
   "metadata": {},
   "outputs": [],
   "source": [
    "kf = KFold(10)"
   ]
  },
  {
   "cell_type": "code",
   "execution_count": 44,
   "metadata": {},
   "outputs": [],
   "source": [
    "# Here I run a cross validation to select best model\n",
    "LR_MSEs = np.empty((10,len(all_models)))\n",
    "reg = LinearRegression(copy_X = True)\n",
    "i = 0\n",
    "# Perform CV\n",
    "for train_index, test_index in kf.split(df_train):\n",
    "    # Get the cv train test split\n",
    "    df_train_train = df_train.iloc[train_index]\n",
    "    df_holdout = df_train.iloc[test_index]\n",
    "    # For each possible model\n",
    "    for j in range(len(all_models)):\n",
    "        # Cloning the regression makes a fresh regression \n",
    "        if all_models[j] == \"baseline\":\n",
    "            df_train_train_mean = df_train_train['upvotes_24'].mean()\n",
    "            pred = df_train_train_mean*np.ones(len(df_holdout['upvotes_24']))\n",
    "            LR_MSEs[i,j] = rmse(df_holdout['upvotes_24'], pred)\n",
    "        else:\n",
    "            # model for each run\n",
    "            clone_reg = clone(reg)\n",
    "\n",
    "            # fit the model\n",
    "            clone_reg.fit(df_train_train[all_models[j]], df_train_train['upvotes_24'])\n",
    "            \n",
    "            pred = clone_reg.predict(df_holdout[all_models[j]])\n",
    "        \n",
    "            LR_MSEs[i,j] = rmse(df_holdout['upvotes_24'], pred)\n",
    "    i = i + 1"
   ]
  },
  {
   "cell_type": "code",
   "execution_count": 47,
   "metadata": {},
   "outputs": [
    {
     "data": {
      "text/plain": [
       "['rising_val', 'hot_val', 'upvotes', 'num_comments']"
      ]
     },
     "execution_count": 47,
     "metadata": {},
     "output_type": "execute_result"
    }
   ],
   "source": [
    "all_models[np.argmin(np.mean(LR_MSEs, axis = 0))]"
   ]
  },
  {
   "cell_type": "code",
   "execution_count": 53,
   "metadata": {},
   "outputs": [
    {
     "name": "stdout",
     "output_type": "stream",
     "text": [
      "the mrse with a model having rising_val, hot_val, upvotes,num_comments is: 2847.6078373340233\n"
     ]
    }
   ],
   "source": [
    "print('the mrse with a model having rising_val, hot_val, upvotes,num_comments is:' ,\n",
    "      np.mean(LR_MSEs, axis = 0)[np.argmin(np.mean(LR_MSEs, axis = 0))])"
   ]
  },
  {
   "cell_type": "markdown",
   "metadata": {},
   "source": [
    "# KNeighbors model"
   ]
  },
  {
   "cell_type": "code",
   "execution_count": 55,
   "metadata": {},
   "outputs": [],
   "source": [
    "from sklearn.neighbors import KNeighborsRegressor"
   ]
  },
  {
   "cell_type": "code",
   "execution_count": 57,
   "metadata": {},
   "outputs": [
    {
     "data": {
      "text/plain": [
       "Index(['post_id', 'active_track', 'title', 'comment_url', 'link_url', 'flair',\n",
       "       'submit_time', 'rising_val', 'hot_val', 'username', 'post_karma',\n",
       "       'comment_karma', 'redditor_for', 'upvotes', 'upvote_percent',\n",
       "       'num_comments', 'submission_id', 'upvotes_24', 'comment_after_1hour',\n",
       "       'total_number_comments', 'hot_val_24', 'upvote_perc_24', 'DD',\n",
       "       'Daily_Discussion', 'Discussion', 'Earnings_Thread', 'Gain', 'Loss',\n",
       "       'Meme', 'Modes', 'News', 'Shitpost', 'Technical_Analysis',\n",
       "       'Weekend_Discussion', 'Yolo'],\n",
       "      dtype='object')"
      ]
     },
     "execution_count": 57,
     "metadata": {},
     "output_type": "execute_result"
    }
   ],
   "source": [
    "df_train.columns"
   ]
  },
  {
   "cell_type": "code",
   "execution_count": 75,
   "metadata": {},
   "outputs": [
    {
     "data": {
      "text/plain": [
       "2633.5313360941636"
      ]
     },
     "execution_count": 75,
     "metadata": {},
     "output_type": "execute_result"
    }
   ],
   "source": [
    "# quick test to see the trend how KNN may work\n",
    "KNN = KNeighborsRegressor(5)\n",
    "KNN.fit(df_train[['rising_val', 'hot_val', 'upvotes', 'num_comments']], df_train['upvotes_24'])\n",
    "KNN_predicted = KNN.predict(df_train[['rising_val', 'hot_val', 'upvotes', 'num_comments']])\n",
    "rmse(KNN_predicted, df_train['upvotes_24'])"
   ]
  },
  {
   "cell_type": "code",
   "execution_count": 71,
   "metadata": {},
   "outputs": [],
   "source": [
    "# Here I run a cross validation to select best number of neighbors\n",
    "n_neighbors = range(3,50)\n",
    "KNN_MSEs = np.empty((10,len(n_neighbors)))\n",
    "\n",
    "i = 0\n",
    "# Perform CV\n",
    "for train_index, test_index in kf.split(df_train):\n",
    "    # Get the cv train test split\n",
    "    df_train_train = df_train.iloc[train_index]\n",
    "    df_holdout = df_train.iloc[test_index]\n",
    "    # For each possible model\n",
    "    j = 0\n",
    "    for neighbor in n_neighbors:\n",
    "            # model for each run\n",
    "        \n",
    "\n",
    "            # fit the model\n",
    "        KNN = KNeighborsRegressor(neighbor)\n",
    "\n",
    "            # fit the model\n",
    "        KNN.fit(df_train_train[['rising_val', 'hot_val', 'upvotes', 'num_comments']], df_train_train['upvotes_24'])\n",
    "            \n",
    "        pred = KNN.predict(df_holdout[['rising_val', 'hot_val', 'upvotes', 'num_comments']])\n",
    "        \n",
    "        KNN_MSEs[i,j] = rmse(df_holdout['upvotes_24'], pred)\n",
    "        j = j + 1\n",
    "    i = i + 1"
   ]
  },
  {
   "cell_type": "code",
   "execution_count": 72,
   "metadata": {},
   "outputs": [
    {
     "data": {
      "text/plain": [
       "array([3237.06590353, 3113.97841755, 3042.45266848, 3040.92431463,\n",
       "       2999.04165201, 2988.29430756, 2932.55729554, 2913.1069075 ,\n",
       "       2909.32913326, 2898.16737404, 2884.58718794, 2888.93132022,\n",
       "       2881.33999945, 2878.44130255, 2879.68842249, 2878.77963824,\n",
       "       2876.35435424, 2876.38588423, 2880.80448409, 2882.83018833,\n",
       "       2886.44016127, 2888.54717545, 2883.80073547, 2885.21775118,\n",
       "       2883.59115714, 2875.82983477, 2875.7744321 , 2868.41082707,\n",
       "       2865.79334052, 2868.78001976, 2873.02358838, 2876.48457979,\n",
       "       2864.96436701, 2857.75509337, 2858.05112876, 2862.50572644,\n",
       "       2867.18935799, 2869.74853887, 2866.67694577, 2870.53975579,\n",
       "       2870.30095192, 2875.39350177, 2867.82551137, 2872.44233786,\n",
       "       2872.9732199 , 2872.3868158 , 2869.93997201])"
      ]
     },
     "execution_count": 72,
     "metadata": {},
     "output_type": "execute_result"
    }
   ],
   "source": [
    "np.mean(KNN_MSEs, axis = 0)"
   ]
  },
  {
   "cell_type": "code",
   "execution_count": 76,
   "metadata": {},
   "outputs": [],
   "source": [
    "from sklearn.ensemble import RandomForestRegressor"
   ]
  },
  {
   "cell_type": "code",
   "execution_count": 84,
   "metadata": {},
   "outputs": [],
   "source": [
    "RF_features = ['rising_val', 'hot_val','post_karma',\n",
    "       'comment_karma', 'redditor_for', 'upvotes',\n",
    "       'num_comments','total_number_comments','DD',\n",
    "       'Daily_Discussion', 'Discussion', 'Earnings_Thread', 'Gain', 'Loss',\n",
    "       'Meme', 'Modes', 'News', 'Shitpost', 'Technical_Analysis',\n",
    "       'Weekend_Discussion', 'Yolo']\n",
    "max_depths = range(5,20)\n",
    "MSE_RF = np.zeros((10,len(max_depths)))\n",
    "score_RF = np.zeros((10,len(max_depths)))\n",
    "i = 0\n",
    "for train_index, test_index in kf.split(df_train):\n",
    "     # Get the cv train test split\n",
    "    df_train_train = df_train.iloc[train_index]\n",
    "    df_holdout = df_train.iloc[test_index]\n",
    "    # For each possible model\n",
    "    j = 0\n",
    "    for max_depth in max_depths:\n",
    "        # Cloning the regression makes a fresh regression \n",
    "    \n",
    "         # model for each run\n",
    "        RF = RandomForestRegressor(max_depth = max_depth)\n",
    "\n",
    "            # fit the model\n",
    "        RF.fit(df_train_train[selected_features], df_train_train['upvotes_24'])\n",
    "            \n",
    "        pred = RF.predict(df_holdout[selected_features])\n",
    "        \n",
    "        MSE_RF[i,j] = rmse(df_holdout['upvotes_24'], pred)\n",
    "        score_RF[i,j] = RF.score(df_holdout[selected_features], df_holdout['upvotes_24'])\n",
    "        j = j + 1\n",
    "    i = i + 1"
   ]
  },
  {
   "cell_type": "code",
   "execution_count": 87,
   "metadata": {},
   "outputs": [
    {
     "data": {
      "text/plain": [
       "array([2833.6975923 , 2874.48717   , 2882.86312889, 2952.77589995,\n",
       "       2929.38764651, 2928.1912739 , 2914.98778431, 2925.36396417,\n",
       "       2956.66298129, 2939.05000612, 2945.18619691, 2919.98579577,\n",
       "       2911.5345946 , 2934.15279636, 2941.99124477])"
      ]
     },
     "execution_count": 87,
     "metadata": {},
     "output_type": "execute_result"
    }
   ],
   "source": [
    "np.mean(MSE_RF, axis = 0)"
   ]
  },
  {
   "cell_type": "code",
   "execution_count": 88,
   "metadata": {},
   "outputs": [
    {
     "data": {
      "text/plain": [
       "array([0.22990526, 0.20780919, 0.20213447, 0.15681795, 0.17549958,\n",
       "       0.17307241, 0.18474342, 0.17052683, 0.14898487, 0.16097462,\n",
       "       0.16498245, 0.1769767 , 0.17884445, 0.16839204, 0.16953309])"
      ]
     },
     "execution_count": 88,
     "metadata": {},
     "output_type": "execute_result"
    }
   ],
   "source": [
    "np.mean(score_RF, axis = 0)"
   ]
  },
  {
   "cell_type": "code",
   "execution_count": null,
   "metadata": {},
   "outputs": [],
   "source": []
  }
 ],
 "metadata": {
  "kernelspec": {
   "display_name": "Python 3",
   "language": "python",
   "name": "python3"
  },
  "language_info": {
   "codemirror_mode": {
    "name": "ipython",
    "version": 3
   },
   "file_extension": ".py",
   "mimetype": "text/x-python",
   "name": "python",
   "nbconvert_exporter": "python",
   "pygments_lexer": "ipython3",
   "version": "3.8.5"
  }
 },
 "nbformat": 4,
 "nbformat_minor": 2
}
