{
 "cells": [
  {
   "cell_type": "code",
   "execution_count": null,
   "metadata": {},
   "outputs": [],
   "source": [
    "import numpy as np\n",
    "import pandas as pd\n",
    "import matplotlib.pyplot as plt\n",
    "import seaborn as sns\n",
    "sns.set_style('darkgrid')\n",
    "import requests"
   ]
  },
  {
   "cell_type": "code",
   "execution_count": null,
   "metadata": {},
   "outputs": [],
   "source": [
    "from datetime import datetime, timedelta"
   ]
  },
  {
   "cell_type": "code",
   "execution_count": null,
   "metadata": {},
   "outputs": [],
   "source": [
    "req_reddit = requests.get('https://www.reddit.com/r/wallstreetbets/')\n",
    "page_reddit = req_reddit.text"
   ]
  },
  {
   "cell_type": "code",
   "execution_count": null,
   "metadata": {},
   "outputs": [],
   "source": [
    "# to use praw you need to get your client ID and secret from reddit, it is in preferences them app\n",
    "reddit = praw.Reddit(\n",
    "    client_id=\"YourID\",\n",
    "    client_secret=\"YourSecret\",\n",
    "    username=\"username\",\n",
    "    user_agent = 'Give a name'\n",
    ")"
   ]
  },
  {
   "cell_type": "code",
   "execution_count": null,
   "metadata": {},
   "outputs": [],
   "source": [
    "subreddit = reddit.subreddit('wallstreetbets')"
   ]
  },
  {
   "cell_type": "code",
   "execution_count": null,
   "metadata": {},
   "outputs": [],
   "source": [
    "scores = []\n",
    "sub_ids = [] # this is the same as submission id but out of the comment loop\n",
    "upvotes = []\n",
    "sub_text = []\n",
    "time_uploads = []\n",
    "titles = []\n",
    "urls = []\n",
    "time_last_visited = []\n",
    "text = []\n",
    "first_time_commented = []\n",
    "last_time_commented = []\n",
    "flairs = []\n",
    "\n",
    "parent_ids = []\n",
    "comment_ids = []\n",
    "comment_body = []\n",
    "\n",
    "# Get the top most popular posts of the last year for 1000 posts\n",
    "top_posts = subreddit.top(time_filter = 'year', limit = 1000)\n",
    "\n",
    "for submission in top_posts:\n",
    "    \n",
    "    if not submission.stickied:\n",
    "        sub_ids.append(submission)\n",
    "        sub_text.append(submission.selftext)\n",
    "        flairs.append(submission.link_flair_text)\n",
    "        titles.append(submission.title)\n",
    "        scores.append(submission.score)\n",
    "        time_uploads.append(datetime.fromtimestamp(submission.created))\n",
    "        urls.append(submission.url)\n",
    "        upvotes.append(submission.upvote_ratio)\n",
    "        \n",
    "        # Here I make a separate dataframe for the comments\n",
    "        \n",
    "        comments = submission.comments\n",
    "        submission.comments.replace_more(limit = 0)\n",
    "        comment_times = []\n",
    "        \n",
    "        for comment in submission.comments.list():\n",
    "            submission_ids.append(submission)\n",
    "            parent_ids.append(comment.parent())\n",
    "            comment_ids.append(comment.id)\n",
    "            comment_body.append(comment.body)\n",
    "            \n",
    "            comment_times.append(comment.created_utc)\n",
    "            \n",
    "            \n",
    "        sorted_comments_times = sorted(comment_times)\n",
    "        first_time_commented.append(datetime.fromtimestamp(sorted_comments_times[0]))\n",
    "        last_time_commented.append(datetime.fromtimestamp(sorted_comments_times[-1]))\n",
    "        \n",
    "df_comments = pd.DataFrame(list(zip(submission_ids, parent_ids, comment_ids, comment_body)),\n",
    "                           columns = ['submission_id','parent_id','comment_id','comment'])    \n",
    "\n",
    "df_submission = pd.DataFrame(list(zip(sub_ids,flairs, titles, scores, upvotes, time_uploads,first_time_commented,last_time_commented, urls, sub_text)), \n",
    "                             columns = ['submission_id','Flair','title','score','upvotes','time_upload','first_time_commented','last_time_commented','url', 'text'])\n",
    "        \n",
    "df_comments.to_csv('filename you want')            \n",
    "df_submission.to_csv('filename you want') "
   ]
  },
  {
   "cell_type": "code",
   "execution_count": null,
   "metadata": {},
   "outputs": [],
   "source": []
  },
  {
   "cell_type": "code",
   "execution_count": null,
   "metadata": {},
   "outputs": [],
   "source": []
  }
 ],
 "metadata": {
  "kernelspec": {
   "display_name": "Python 3",
   "language": "python",
   "name": "python3"
  },
  "language_info": {
   "codemirror_mode": {
    "name": "ipython",
    "version": 3
   },
   "file_extension": ".py",
   "mimetype": "text/x-python",
   "name": "python",
   "nbconvert_exporter": "python",
   "pygments_lexer": "ipython3",
   "version": "3.8.5"
  }
 },
 "nbformat": 4,
 "nbformat_minor": 2
}
