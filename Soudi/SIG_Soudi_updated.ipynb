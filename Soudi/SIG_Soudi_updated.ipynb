{
 "cells": [
  {
   "cell_type": "code",
   "execution_count": null,
   "metadata": {},
   "outputs": [],
   "source": [
    "import numpy as np\n",
    "import pandas as pd\n",
    "import matplotlib.pyplot as plt\n",
    "import seaborn as sns\n",
    "sns.set_style('darkgrid')\n",
    "import requests"
   ]
  },
  {
   "cell_type": "code",
   "execution_count": null,
   "metadata": {},
   "outputs": [],
   "source": [
    "from datetime import datetime, timedelta"
   ]
  },
  {
   "cell_type": "code",
   "execution_count": null,
   "metadata": {},
   "outputs": [],
   "source": [
    "req_reddit = requests.get('https://www.reddit.com/r/wallstreetbets/')\n",
    "page_reddit = req_reddit.text"
   ]
  },
  {
   "cell_type": "code",
   "execution_count": null,
   "metadata": {},
   "outputs": [],
   "source": [
    "# to use praw you need to get your client ID and secret from reddit, it is in preferences them app\n",
    "reddit = praw.Reddit(\n",
    "    client_id=\"YourID\",\n",
    "    client_secret=\"YourSecret\",\n",
    "    username=\"username\",\n",
    "    user_agent = 'Give a name'\n",
    ")"
   ]
  },
  {
   "cell_type": "code",
   "execution_count": null,
   "metadata": {},
   "outputs": [],
   "source": [
    "subreddit = reddit.subreddit('wallstreetbets')"
   ]
  },
  {
   "cell_type": "code",
   "execution_count": null,
   "metadata": {},
   "outputs": [],
   "source": [
    "# In this part I get 1000 posts from the top rated subreddit wallstreet from last year and record post_id,\n",
    "#title, score, upvote, upload time, first, last and middle time it was commented on\n",
    "# in df_comment I get the comments of each post and the time they were posted\n",
    "scores = []\n",
    "sub_ids = [] # this is the same as submission id but out of the comment loop\n",
    "submission_ids = []\n",
    "upvotes = []\n",
    "sub_text = []\n",
    "time_uploads = []\n",
    "titles = []\n",
    "urls = []\n",
    "time_last_visited = []\n",
    "text = []\n",
    "first_time_commented = []\n",
    "last_time_commented = []\n",
    "middle_comment_time = []\n",
    "each_comment_time = []\n",
    "\n",
    "\n",
    "flairs = []\n",
    "\n",
    "parent_ids = []\n",
    "comment_ids = []\n",
    "comment_bodies = []\n",
    "dict = {}\n",
    "\n",
    "# Get the top most popular posts of the last year for 1000 posts\n",
    "top_posts = subreddit.top(time_filter = 'year', limit = 1000)\n",
    "i = 0\n",
    "for submission in top_posts:\n",
    "    if i % 10 == 0:\n",
    "        out = i * 1. / 1000 * 100\n",
    "        sys.stdout.write(\"\\r%d%%\" % out)\n",
    "        sys.stdout.flush()\n",
    "    \n",
    "    if not submission.stickied:\n",
    "        sub_ids.append(submission)\n",
    "        sub_text.append(submission.selftext)\n",
    "        flairs.append(submission.link_flair_text)\n",
    "        titles.append(submission.title)\n",
    "        scores.append(submission.score)\n",
    "        time_uploads.append(datetime.fromtimestamp(submission.created))\n",
    "        urls.append(submission.url)\n",
    "        upvotes.append(submission.upvote_ratio)\n",
    "        \n",
    "        # Here I make a separate dataframe for the comments\n",
    "        \n",
    "        comments = submission.comments\n",
    "        submission.comments.replace_more(limit = 0)\n",
    "        comment_times = []\n",
    "        text = []\n",
    "        \n",
    "        for comment in submission.comments.list():\n",
    "            \n",
    "            submission_ids.append(submission)\n",
    "            parent_ids.append(comment.parent())\n",
    "            comment_ids.append(comment.id)\n",
    "            \n",
    "            comment_bodies.append(comment.body)\n",
    "           \n",
    "            comment_times.append(comment.created_utc)\n",
    "            each_comment_time.append(datetime.fromtimestamp(comment.created_utc))\n",
    "        text= comment_bodies   \n",
    "        #This will make a dictionary of the comments    \n",
    "        dict[str(submission)] = text    \n",
    "        \n",
    "        sorted_comments_times = sorted(comment_times)\n",
    "        \n",
    "        # Here I will get the time for the middle comment on a post\n",
    "        middle_comment = len(sorted_comments_times)/2\n",
    "      \n",
    "        middle_comment_time.append(datetime.fromtimestamp(comment_times[int(middle_comment)]))\n",
    "        \n",
    "        \n",
    "        first_time_commented.append(datetime.fromtimestamp(sorted_comments_times[0]))\n",
    "        last_time_commented.append(datetime.fromtimestamp(sorted_comments_times[-1]))\n",
    "        i = i + 1\n",
    "\n",
    "        \n",
    "df_comments = pd.DataFrame(list(zip(submission_ids, parent_ids, comment_ids,each_comment_time, comment_bodies)),\n",
    "                           columns = ['submission_id','parent_id','comment_id','comment_time','comment'])    \n",
    "\n",
    "df_submission = pd.DataFrame(list(zip(sub_ids,flairs, titles, scores, upvotes, time_uploads,first_time_commented,last_time_commented,middle_comment_time, urls, sub_text)), \n",
    "                             columns = ['submission_id','Flair','title','score','upvotes','time_upload','first_time_commented','last_time_commented','middle_comment_time','url', 'text'])\n",
    "     \n",
    "\n",
    "df_comments.to_csv('filename.csv')            \n",
    "df_submission.to_csv('filename.csv')   "
   ]
  },
  {
   "cell_type": "code",
   "execution_count": null,
   "metadata": {},
   "outputs": [],
   "source": [
    "df_submission['duration_middle'] = pd.to_datetime(df_submission.middle_comment_time) - pd.to_datetime(df_submission.first_time_commented)\n",
    "df_submission['duration_total'] = pd.to_datetime(df_submission.last_time_commented)- pd.to_datetime(df_submission.first_time_commented)"
   ]
  },
  {
   "cell_type": "code",
   "execution_count": null,
   "metadata": {},
   "outputs": [],
   "source": [
    "# this part visualized the time evolution of the comments on least and most popular posts\n",
    "low_scores = df_submission.loc[df_submission.score < 26500, 'submission_id']\n",
    "high_scores = df_submission.loc[df_submission.score > 200000, 'submission_id']\n",
    "ids = low_scores.append(high_scores)\n",
    "ids.reset_index(drop = True, inplace = True)\n",
    "binwidth = 1\n",
    "fig,ax = plt.subplots(int(len(ids)/2),2,figsize=(12,20))\n",
    "for i in range(len(ids)):\n",
    "    submission = ids[i]\n",
    "    scores = df_submission.loc[df_submission.submission_id == submission, 'score']\n",
    "    times = df_comments.loc[df_comments.submission_id == submission, 'comment_time']\n",
    "    sorted_times = sorted(times)\n",
    "    durations = pd.to_datetime(times) - pd.to_datetime(sorted_times[0])\n",
    "    comment_time_from_start = [t.total_seconds()/3600 for t in durations]\n",
    "    ax[i//2,i%2].hist(comment_time_from_start,\n",
    "                      bins=np.arange(min(comment_time_from_start), max(comment_time_from_start) + binwidth, binwidth),\n",
    "                      color = 'b', label = ('subm = '+ str(submission)+'  And  '+'scores = '+ scores.to_string(index = False)))\n",
    "    ax[i//2,i%2].set_xlim(left = 0, right = 50)\n",
    "    ax[i//2,i%2].set_xlabel('Comment_time', fontsize = 14)\n",
    "    ax[i//2, i%2].set_ylabel('Frequency', fontsize = 14)\n",
    "    ax[i//2, i%2].legend(loc = 'best', fontsize = 10)\n",
    "#plt.savefig('d:\\\\Machine_Learning\\\\Erdoes_Fall\\\\project\\\\comment_time_hist_lowHigh_upvotes.jpeg')\n",
    "#plt.savefig('d:\\\\Machine_Learning\\\\Erdoes_Fall\\\\project\\\\comment_time_hist_lowHigh_upvotes.svg')\n",
    "plt.show()"
   ]
  },
  {
   "cell_type": "code",
   "execution_count": null,
   "metadata": {},
   "outputs": [],
   "source": []
  }
 ],
 "metadata": {
  "kernelspec": {
   "display_name": "Python 3",
   "language": "python",
   "name": "python3"
  },
  "language_info": {
   "codemirror_mode": {
    "name": "ipython",
    "version": 3
   },
   "file_extension": ".py",
   "mimetype": "text/x-python",
   "name": "python",
   "nbconvert_exporter": "python",
   "pygments_lexer": "ipython3",
   "version": "3.7.4"
  }
 },
 "nbformat": 4,
 "nbformat_minor": 2
}
