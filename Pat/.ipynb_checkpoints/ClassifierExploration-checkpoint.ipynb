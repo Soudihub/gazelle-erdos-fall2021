{
 "cells": [
  {
   "cell_type": "code",
   "execution_count": 1,
   "metadata": {},
   "outputs": [],
   "source": [
    "import sqlite3\n",
    "import numpy as np\n",
    "import pandas as pd\n",
    "import matplotlib.pyplot as plt\n",
    "from sklearn.model_selection import train_test_split\n",
    "from sklearn.linear_model import LinearRegression\n",
    "from pandas.plotting import scatter_matrix"
   ]
  },
  {
   "cell_type": "code",
   "execution_count": 2,
   "metadata": {},
   "outputs": [],
   "source": [
    "def rmse(true, prediction):\n",
    "    return np.sqrt(np.sum(np.power(true-prediction,2))/len(true))\n",
    "\n",
    "def mean_err(true, prediction):\n",
    "    return np.sum(true-prediction)/len(true)\n"
   ]
  },
  {
   "cell_type": "code",
   "execution_count": 3,
   "metadata": {},
   "outputs": [],
   "source": [
    "# create a connection to the WSB database file\n",
    "conn = sqlite3.connect(\"reddit_wallstreetbets.db\")\n",
    "\n",
    "# create our cursor (this allows us to execute SQL code chunks written as python strings)\n",
    "c = conn.cursor()\n"
   ]
  },
  {
   "cell_type": "code",
   "execution_count": 4,
   "metadata": {},
   "outputs": [
    {
     "name": "stdout",
     "output_type": "stream",
     "text": [
      "new_posts now has 6144 entries.\n",
      "post_stats now has 129693 entries.\n"
     ]
    }
   ],
   "source": [
    "#Print out database numbers before ending iteration\n",
    "c.execute(\"SELECT * FROM new_posts\")\n",
    "new_posts_df = pd.DataFrame(c.fetchall(), columns = [x[0] for x in c.description])\n",
    "print( 'new_posts now has '+str(len(new_posts_df))+' entries.' )\n",
    "c.execute(\"SELECT * FROM post_stats\")\n",
    "post_stats_df = pd.DataFrame(c.fetchall(), columns = [x[0] for x in c.description])\n",
    "print( 'post_stats now has '+str(len(post_stats_df))+' entries.' )\n"
   ]
  },
  {
   "cell_type": "code",
   "execution_count": 5,
   "metadata": {},
   "outputs": [],
   "source": [
    "incomplete_entries = []\n",
    "upvotes_24hrs = []\n",
    "top_hot_loc = []\n",
    "for i in range(len(new_posts_df)):\n",
    "    c.execute(\"SELECT upvotes FROM post_stats where hour=24 and post_id=\"+str(i))\n",
    "    fetch_val = c.fetchall()\n",
    "    if len( fetch_val ) < 1:\n",
    "        incomplete_entries.append(i)\n",
    "    else:\n",
    "        upvotes_24hrs.append( fetch_val[0][0] )\n",
    "    c.execute(\"SELECT hot_val FROM post_stats where post_id=\"+str(i))\n",
    "    top_hot_loc.append( min(c.fetchall())[0] )\n"
   ]
  },
  {
   "cell_type": "code",
   "execution_count": 6,
   "metadata": {},
   "outputs": [],
   "source": [
    "time_vals = []\n",
    "days = []\n",
    "for i in range(len(new_posts_df)):\n",
    "    time_str = new_posts_df[\"submit_time\"][i].split('T')[1]\n",
    "    time_val = float(time_str.split(':')[0])+float(time_str.split(':')[1])/60.+float(time_str.split(':')[2])/360.\n",
    "    time_vals.append(time_val)\n",
    "    days.append( pd.Timestamp( new_posts_df[\"submit_time\"][i].split('T')[0].replace('\"','') ).day_name() )\n",
    "\n",
    "new_posts_df['submit_hour'] = time_vals\n",
    "new_posts_df['submit_day'] = days\n",
    "new_posts_df['best_hot_val'] = top_hot_loc\n",
    "\n",
    "WSB_df = new_posts_df.drop(incomplete_entries)\n",
    "WSB_df['upvotes_tot'] = upvotes_24hrs\n"
   ]
  },
  {
   "cell_type": "code",
   "execution_count": 12,
   "metadata": {},
   "outputs": [
    {
     "data": {
      "text/html": [
       "<div>\n",
       "<style scoped>\n",
       "    .dataframe tbody tr th:only-of-type {\n",
       "        vertical-align: middle;\n",
       "    }\n",
       "\n",
       "    .dataframe tbody tr th {\n",
       "        vertical-align: top;\n",
       "    }\n",
       "\n",
       "    .dataframe thead th {\n",
       "        text-align: right;\n",
       "    }\n",
       "</style>\n",
       "<table border=\"1\" class=\"dataframe\">\n",
       "  <thead>\n",
       "    <tr style=\"text-align: right;\">\n",
       "      <th></th>\n",
       "      <th>Friday</th>\n",
       "      <th>Monday</th>\n",
       "      <th>Saturday</th>\n",
       "      <th>Sunday</th>\n",
       "      <th>Thursday</th>\n",
       "      <th>Tuesday</th>\n",
       "      <th>Wednesday</th>\n",
       "    </tr>\n",
       "  </thead>\n",
       "  <tbody>\n",
       "    <tr>\n",
       "      <th>2</th>\n",
       "      <td>0</td>\n",
       "      <td>0</td>\n",
       "      <td>0</td>\n",
       "      <td>0</td>\n",
       "      <td>0</td>\n",
       "      <td>0</td>\n",
       "      <td>1</td>\n",
       "    </tr>\n",
       "    <tr>\n",
       "      <th>3</th>\n",
       "      <td>0</td>\n",
       "      <td>0</td>\n",
       "      <td>0</td>\n",
       "      <td>0</td>\n",
       "      <td>0</td>\n",
       "      <td>0</td>\n",
       "      <td>1</td>\n",
       "    </tr>\n",
       "    <tr>\n",
       "      <th>4</th>\n",
       "      <td>0</td>\n",
       "      <td>0</td>\n",
       "      <td>0</td>\n",
       "      <td>0</td>\n",
       "      <td>0</td>\n",
       "      <td>0</td>\n",
       "      <td>1</td>\n",
       "    </tr>\n",
       "    <tr>\n",
       "      <th>5</th>\n",
       "      <td>0</td>\n",
       "      <td>0</td>\n",
       "      <td>0</td>\n",
       "      <td>0</td>\n",
       "      <td>0</td>\n",
       "      <td>0</td>\n",
       "      <td>1</td>\n",
       "    </tr>\n",
       "    <tr>\n",
       "      <th>6</th>\n",
       "      <td>0</td>\n",
       "      <td>0</td>\n",
       "      <td>0</td>\n",
       "      <td>0</td>\n",
       "      <td>0</td>\n",
       "      <td>0</td>\n",
       "      <td>1</td>\n",
       "    </tr>\n",
       "    <tr>\n",
       "      <th>...</th>\n",
       "      <td>...</td>\n",
       "      <td>...</td>\n",
       "      <td>...</td>\n",
       "      <td>...</td>\n",
       "      <td>...</td>\n",
       "      <td>...</td>\n",
       "      <td>...</td>\n",
       "    </tr>\n",
       "    <tr>\n",
       "      <th>6046</th>\n",
       "      <td>0</td>\n",
       "      <td>0</td>\n",
       "      <td>0</td>\n",
       "      <td>1</td>\n",
       "      <td>0</td>\n",
       "      <td>0</td>\n",
       "      <td>0</td>\n",
       "    </tr>\n",
       "    <tr>\n",
       "      <th>6047</th>\n",
       "      <td>0</td>\n",
       "      <td>0</td>\n",
       "      <td>0</td>\n",
       "      <td>1</td>\n",
       "      <td>0</td>\n",
       "      <td>0</td>\n",
       "      <td>0</td>\n",
       "    </tr>\n",
       "    <tr>\n",
       "      <th>6050</th>\n",
       "      <td>0</td>\n",
       "      <td>0</td>\n",
       "      <td>0</td>\n",
       "      <td>1</td>\n",
       "      <td>0</td>\n",
       "      <td>0</td>\n",
       "      <td>0</td>\n",
       "    </tr>\n",
       "    <tr>\n",
       "      <th>6052</th>\n",
       "      <td>0</td>\n",
       "      <td>0</td>\n",
       "      <td>0</td>\n",
       "      <td>1</td>\n",
       "      <td>0</td>\n",
       "      <td>0</td>\n",
       "      <td>0</td>\n",
       "    </tr>\n",
       "    <tr>\n",
       "      <th>6053</th>\n",
       "      <td>0</td>\n",
       "      <td>0</td>\n",
       "      <td>0</td>\n",
       "      <td>1</td>\n",
       "      <td>0</td>\n",
       "      <td>0</td>\n",
       "      <td>0</td>\n",
       "    </tr>\n",
       "  </tbody>\n",
       "</table>\n",
       "<p>5008 rows × 7 columns</p>\n",
       "</div>"
      ],
      "text/plain": [
       "      Friday  Monday  Saturday  Sunday  Thursday  Tuesday  Wednesday\n",
       "2          0       0         0       0         0        0          1\n",
       "3          0       0         0       0         0        0          1\n",
       "4          0       0         0       0         0        0          1\n",
       "5          0       0         0       0         0        0          1\n",
       "6          0       0         0       0         0        0          1\n",
       "...      ...     ...       ...     ...       ...      ...        ...\n",
       "6046       0       0         0       1         0        0          0\n",
       "6047       0       0         0       1         0        0          0\n",
       "6050       0       0         0       1         0        0          0\n",
       "6052       0       0         0       1         0        0          0\n",
       "6053       0       0         0       1         0        0          0\n",
       "\n",
       "[5008 rows x 7 columns]"
      ]
     },
     "execution_count": 12,
     "metadata": {},
     "output_type": "execute_result"
    }
   ],
   "source": [
    "pd.get_dummies(WSB_df['submit_day'])"
   ]
  },
  {
   "cell_type": "code",
   "execution_count": 7,
   "metadata": {},
   "outputs": [],
   "source": [
    "#Do a train/test split\n",
    "WSB_df_train, WSB_df_test = train_test_split(WSB_df, shuffle=True, random_state=48, test_size=.2)\n"
   ]
  },
  {
   "cell_type": "code",
   "execution_count": 10,
   "metadata": {},
   "outputs": [
    {
     "name": "stdout",
     "output_type": "stream",
     "text": [
      "Training Set Stats\n",
      "Linear regression RMS: 3233.4753738869645\n",
      "Assuming mean RMS: 2817641.862174409\n",
      "Assuming median RMS: 139554.78559011008\n",
      "Test Set Stats\n",
      "Linear regression RMS: 3543.2058086531674\n",
      "Assuming mean RMS: 712823.7186760544\n",
      "Assuming median RMS: 34581.64074360787\n"
     ]
    }
   ],
   "source": [
    "## Fit linear regression for total upvotes\n",
    "reg = LinearRegression(copy_X=True)\n",
    "reg.fit(WSB_df_train[['rising_val','hot_val','post_karma','comment_karma','redditor_for','upvotes','upvote_percent','num_comments']],\n",
    "        WSB_df_train['upvotes_tot'])\n",
    "\n",
    "pred = reg.predict(WSB_df_train[['rising_val','hot_val','post_karma','comment_karma','redditor_for','upvotes','upvote_percent','num_comments']])\n",
    "true = WSB_df_train['upvotes_tot']\n",
    "\n",
    "print(\"Training Set Stats\")\n",
    "print(\"Linear regression RMS:\",rmse(true,pred))\n",
    "print(\"Assuming mean RMS:\",rmse(true,len(true)*np.mean(true)))\n",
    "print(\"Assuming median RMS:\",rmse(true,len(true)*np.median(true)))\n",
    "\n",
    "pred = reg.predict(WSB_df_test[['rising_val','hot_val','post_karma','comment_karma','redditor_for','upvotes','upvote_percent','num_comments']])\n",
    "true = WSB_df_test['upvotes_tot']\n",
    "\n",
    "print(\"Test Set Stats\")\n",
    "print(\"Linear regression RMS:\",rmse(true,pred))\n",
    "print(\"Assuming mean RMS:\",rmse(true,len(true)*np.mean(true)))\n",
    "print(\"Assuming median RMS:\",rmse(true,len(true)*np.median(true)))\n"
   ]
  },
  {
   "cell_type": "code",
   "execution_count": 11,
   "metadata": {},
   "outputs": [
    {
     "name": "stdout",
     "output_type": "stream",
     "text": [
      "Training Set Stats\n",
      "Linear regression RMS: 195.56727025251098\n",
      "Assuming mean RMS: 473064.9545040906\n",
      "Assuming median RMS: 164128.09205495825\n",
      "Test Set Stats\n",
      "Linear regression RMS: 200.08120707144946\n",
      "Assuming mean RMS: 132448.9899205466\n",
      "Assuming median RMS: 40950.67428687714\n"
     ]
    }
   ],
   "source": [
    "## Fit linear regression for peak location on hot page\n",
    "reg = LinearRegression(copy_X=True)\n",
    "reg.fit(WSB_df_train[['rising_val','hot_val','post_karma','comment_karma','redditor_for','upvotes','upvote_percent','num_comments']],\n",
    "        WSB_df_train['best_hot_val'])\n",
    "\n",
    "pred = reg.predict(WSB_df_train[['rising_val','hot_val','post_karma','comment_karma','redditor_for','upvotes','upvote_percent','num_comments']])\n",
    "true = WSB_df_train['best_hot_val']\n",
    "\n",
    "print(\"Training Set Stats\")\n",
    "print(\"Linear regression RMS:\",rmse(true,pred))\n",
    "print(\"Assuming mean RMS:\",rmse(true,len(true)*np.mean(true)))\n",
    "print(\"Assuming median RMS:\",rmse(true,len(true)*np.median(true)))\n",
    "\n",
    "pred = reg.predict(WSB_df_test[['rising_val','hot_val','post_karma','comment_karma','redditor_for','upvotes','upvote_percent','num_comments']])\n",
    "true = WSB_df_test['best_hot_val']\n",
    "\n",
    "print(\"Test Set Stats\")\n",
    "print(\"Linear regression RMS:\",rmse(true,pred))\n",
    "print(\"Assuming mean RMS:\",rmse(true,len(true)*np.mean(true)))\n",
    "print(\"Assuming median RMS:\",rmse(true,len(true)*np.median(true)))\n"
   ]
  },
  {
   "cell_type": "code",
   "execution_count": null,
   "metadata": {},
   "outputs": [],
   "source": []
  }
 ],
 "metadata": {
  "kernelspec": {
   "display_name": "Python 3",
   "language": "python",
   "name": "python3"
  },
  "language_info": {
   "codemirror_mode": {
    "name": "ipython",
    "version": 3
   },
   "file_extension": ".py",
   "mimetype": "text/x-python",
   "name": "python",
   "nbconvert_exporter": "python",
   "pygments_lexer": "ipython3",
   "version": "3.8.5"
  }
 },
 "nbformat": 4,
 "nbformat_minor": 5
}
