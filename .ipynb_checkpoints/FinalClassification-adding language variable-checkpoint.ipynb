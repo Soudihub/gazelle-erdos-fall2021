{
 "cells": [
  {
   "cell_type": "code",
   "execution_count": 1,
   "metadata": {},
   "outputs": [],
   "source": [
    "import numpy as np\n",
    "import pandas as pd\n",
    "import matplotlib.pyplot as plt\n",
    "import seaborn as sns\n",
    "sns.set_style('darkgrid')\n",
    "import requests\n",
    "import sys\n",
    "from pandas.plotting import register_matplotlib_converters\n",
    "register_matplotlib_converters()\n",
    "import ast\n",
    "import random\n",
    "from nltk.tokenize import sent_tokenize, word_tokenize\n",
    "from nltk.probability import FreqDist\n",
    "from nltk.corpus import stopwords\n",
    "from nltk.stem import PorterStemmer\n",
    "from string import punctuation\n",
    "import nltk\n",
    "from nltk.text import Text\n",
    "from datetime import datetime, timedelta\n",
    "import string\n",
    "from sklearn.model_selection import train_test_split\n",
    "from sklearn.linear_model import LinearRegression\n",
    "from pandas.plotting import scatter_matrix"
   ]
  },
  {
   "cell_type": "code",
   "execution_count": 2,
   "metadata": {},
   "outputs": [],
   "source": [
    "df_24 = pd.read_csv('After24hours.csv', index_col = False)"
   ]
  },
  {
   "cell_type": "code",
   "execution_count": 3,
   "metadata": {},
   "outputs": [
    {
     "data": {
      "text/html": [
       "<div>\n",
       "<style scoped>\n",
       "    .dataframe tbody tr th:only-of-type {\n",
       "        vertical-align: middle;\n",
       "    }\n",
       "\n",
       "    .dataframe tbody tr th {\n",
       "        vertical-align: top;\n",
       "    }\n",
       "\n",
       "    .dataframe thead th {\n",
       "        text-align: right;\n",
       "    }\n",
       "</style>\n",
       "<table border=\"1\" class=\"dataframe\">\n",
       "  <thead>\n",
       "    <tr style=\"text-align: right;\">\n",
       "      <th></th>\n",
       "      <th>post_id</th>\n",
       "      <th>active_track</th>\n",
       "      <th>title</th>\n",
       "      <th>comment_url</th>\n",
       "      <th>link_url</th>\n",
       "      <th>flair</th>\n",
       "      <th>submit_time</th>\n",
       "      <th>rising_val</th>\n",
       "      <th>hot_val</th>\n",
       "      <th>username</th>\n",
       "      <th>...</th>\n",
       "      <th>redditor_for</th>\n",
       "      <th>upvotes</th>\n",
       "      <th>upvote_percent</th>\n",
       "      <th>num_comments</th>\n",
       "      <th>submission_id</th>\n",
       "      <th>upvotes_24</th>\n",
       "      <th>comment_after_1hour</th>\n",
       "      <th>total_number_comments</th>\n",
       "      <th>hot_val_24</th>\n",
       "      <th>upvote_perc_24</th>\n",
       "    </tr>\n",
       "  </thead>\n",
       "  <tbody>\n",
       "    <tr>\n",
       "      <th>0</th>\n",
       "      <td>2</td>\n",
       "      <td>No</td>\n",
       "      <td>China Evergrande Ends Talks on Hopson Deal, As...</td>\n",
       "      <td>https://old.reddit.com/r/wallstreetbets/commen...</td>\n",
       "      <td>https://www.bloomberg.com/news/articles/2021-1...</td>\n",
       "      <td>News</td>\n",
       "      <td>\"2021-10-20T15:25:08</td>\n",
       "      <td>9</td>\n",
       "      <td>70</td>\n",
       "      <td>AppyWappy</td>\n",
       "      <td>...</td>\n",
       "      <td>1618.662336</td>\n",
       "      <td>2</td>\n",
       "      <td>75</td>\n",
       "      <td>9</td>\n",
       "      <td>qc3dwu</td>\n",
       "      <td>8</td>\n",
       "      <td>11</td>\n",
       "      <td>15</td>\n",
       "      <td>999</td>\n",
       "      <td>71</td>\n",
       "    </tr>\n",
       "    <tr>\n",
       "      <th>1</th>\n",
       "      <td>3</td>\n",
       "      <td>No</td>\n",
       "      <td>Impact of Federal Legalization on TLRY</td>\n",
       "      <td>https://old.reddit.com/r/wallstreetbets/commen...</td>\n",
       "      <td>https://old.reddit.com/r/wallstreetbets/commen...</td>\n",
       "      <td>DD</td>\n",
       "      <td>\"2021-10-20T15:24:28</td>\n",
       "      <td>4</td>\n",
       "      <td>91</td>\n",
       "      <td>MichKOG</td>\n",
       "      <td>...</td>\n",
       "      <td>1861.732471</td>\n",
       "      <td>1</td>\n",
       "      <td>53</td>\n",
       "      <td>18</td>\n",
       "      <td>qc3de5</td>\n",
       "      <td>20</td>\n",
       "      <td>28</td>\n",
       "      <td>80</td>\n",
       "      <td>999</td>\n",
       "      <td>59</td>\n",
       "    </tr>\n",
       "    <tr>\n",
       "      <th>2</th>\n",
       "      <td>4</td>\n",
       "      <td>No</td>\n",
       "      <td>Novavax $NVAX is being investigated after big ...</td>\n",
       "      <td>https://old.reddit.com/r/wallstreetbets/commen...</td>\n",
       "      <td>https://www.globenewswire.com/news-release/202...</td>\n",
       "      <td>News</td>\n",
       "      <td>\"2021-10-20T15:09:17</td>\n",
       "      <td>5</td>\n",
       "      <td>49</td>\n",
       "      <td>johnboycutter</td>\n",
       "      <td>...</td>\n",
       "      <td>2034.134827</td>\n",
       "      <td>5</td>\n",
       "      <td>78</td>\n",
       "      <td>10</td>\n",
       "      <td>qc30zw</td>\n",
       "      <td>20</td>\n",
       "      <td>10</td>\n",
       "      <td>13</td>\n",
       "      <td>999</td>\n",
       "      <td>84</td>\n",
       "    </tr>\n",
       "    <tr>\n",
       "      <th>3</th>\n",
       "      <td>5</td>\n",
       "      <td>No</td>\n",
       "      <td>I suggested this few weeks ago and I was ridic...</td>\n",
       "      <td>https://old.reddit.com/r/wallstreetbets/commen...</td>\n",
       "      <td>https://i.redd.it/4oj1aea3emu71.jpg</td>\n",
       "      <td>Gain</td>\n",
       "      <td>\"2021-10-20T15:01:54</td>\n",
       "      <td>2</td>\n",
       "      <td>24</td>\n",
       "      <td>MgKx</td>\n",
       "      <td>...</td>\n",
       "      <td>1497.069590</td>\n",
       "      <td>20</td>\n",
       "      <td>81</td>\n",
       "      <td>12</td>\n",
       "      <td>qc2uxo</td>\n",
       "      <td>76</td>\n",
       "      <td>14</td>\n",
       "      <td>30</td>\n",
       "      <td>88</td>\n",
       "      <td>80</td>\n",
       "    </tr>\n",
       "    <tr>\n",
       "      <th>4</th>\n",
       "      <td>6</td>\n",
       "      <td>No</td>\n",
       "      <td>WISHtards today...</td>\n",
       "      <td>https://old.reddit.com/r/wallstreetbets/commen...</td>\n",
       "      <td>https://i.redd.it/6mv5z7cctmu71.jpg</td>\n",
       "      <td>Meme</td>\n",
       "      <td>\"2021-10-20T16:27:23</td>\n",
       "      <td>99</td>\n",
       "      <td>22</td>\n",
       "      <td>Janto_2021</td>\n",
       "      <td>...</td>\n",
       "      <td>336.027425</td>\n",
       "      <td>20</td>\n",
       "      <td>92</td>\n",
       "      <td>3</td>\n",
       "      <td>qc4rq4</td>\n",
       "      <td>32171</td>\n",
       "      <td>63</td>\n",
       "      <td>598</td>\n",
       "      <td>7</td>\n",
       "      <td>92</td>\n",
       "    </tr>\n",
       "  </tbody>\n",
       "</table>\n",
       "<p>5 rows × 22 columns</p>\n",
       "</div>"
      ],
      "text/plain": [
       "   post_id active_track                                              title  \\\n",
       "0        2           No  China Evergrande Ends Talks on Hopson Deal, As...   \n",
       "1        3           No             Impact of Federal Legalization on TLRY   \n",
       "2        4           No  Novavax $NVAX is being investigated after big ...   \n",
       "3        5           No  I suggested this few weeks ago and I was ridic...   \n",
       "4        6           No                                 WISHtards today...   \n",
       "\n",
       "                                         comment_url  \\\n",
       "0  https://old.reddit.com/r/wallstreetbets/commen...   \n",
       "1  https://old.reddit.com/r/wallstreetbets/commen...   \n",
       "2  https://old.reddit.com/r/wallstreetbets/commen...   \n",
       "3  https://old.reddit.com/r/wallstreetbets/commen...   \n",
       "4  https://old.reddit.com/r/wallstreetbets/commen...   \n",
       "\n",
       "                                            link_url flair  \\\n",
       "0  https://www.bloomberg.com/news/articles/2021-1...  News   \n",
       "1  https://old.reddit.com/r/wallstreetbets/commen...    DD   \n",
       "2  https://www.globenewswire.com/news-release/202...  News   \n",
       "3                https://i.redd.it/4oj1aea3emu71.jpg  Gain   \n",
       "4                https://i.redd.it/6mv5z7cctmu71.jpg  Meme   \n",
       "\n",
       "            submit_time  rising_val  hot_val       username  ...  \\\n",
       "0  \"2021-10-20T15:25:08           9       70      AppyWappy  ...   \n",
       "1  \"2021-10-20T15:24:28           4       91        MichKOG  ...   \n",
       "2  \"2021-10-20T15:09:17           5       49  johnboycutter  ...   \n",
       "3  \"2021-10-20T15:01:54           2       24           MgKx  ...   \n",
       "4  \"2021-10-20T16:27:23          99       22     Janto_2021  ...   \n",
       "\n",
       "   redditor_for  upvotes  upvote_percent  num_comments  submission_id  \\\n",
       "0   1618.662336        2              75             9         qc3dwu   \n",
       "1   1861.732471        1              53            18         qc3de5   \n",
       "2   2034.134827        5              78            10         qc30zw   \n",
       "3   1497.069590       20              81            12         qc2uxo   \n",
       "4    336.027425       20              92             3         qc4rq4   \n",
       "\n",
       "   upvotes_24 comment_after_1hour  total_number_comments  hot_val_24  \\\n",
       "0           8                  11                     15         999   \n",
       "1          20                  28                     80         999   \n",
       "2          20                  10                     13         999   \n",
       "3          76                  14                     30          88   \n",
       "4       32171                  63                    598           7   \n",
       "\n",
       "   upvote_perc_24  \n",
       "0              71  \n",
       "1              59  \n",
       "2              84  \n",
       "3              80  \n",
       "4              92  \n",
       "\n",
       "[5 rows x 22 columns]"
      ]
     },
     "execution_count": 3,
     "metadata": {},
     "output_type": "execute_result"
    }
   ],
   "source": [
    "df_24.head()"
   ]
  },
  {
   "cell_type": "code",
   "execution_count": 4,
   "metadata": {},
   "outputs": [],
   "source": [
    "from sklearn.model_selection import train_test_split"
   ]
  },
  {
   "cell_type": "markdown",
   "metadata": {},
   "source": [
    "# Classification"
   ]
  },
  {
   "cell_type": "code",
   "execution_count": 5,
   "metadata": {},
   "outputs": [
    {
     "data": {
      "text/html": [
       "<div>\n",
       "<style scoped>\n",
       "    .dataframe tbody tr th:only-of-type {\n",
       "        vertical-align: middle;\n",
       "    }\n",
       "\n",
       "    .dataframe tbody tr th {\n",
       "        vertical-align: top;\n",
       "    }\n",
       "\n",
       "    .dataframe thead th {\n",
       "        text-align: right;\n",
       "    }\n",
       "</style>\n",
       "<table border=\"1\" class=\"dataframe\">\n",
       "  <thead>\n",
       "    <tr style=\"text-align: right;\">\n",
       "      <th></th>\n",
       "      <th>post_id</th>\n",
       "      <th>rising_val</th>\n",
       "      <th>hot_val</th>\n",
       "      <th>post_karma</th>\n",
       "      <th>comment_karma</th>\n",
       "      <th>redditor_for</th>\n",
       "      <th>upvotes</th>\n",
       "      <th>upvote_percent</th>\n",
       "      <th>num_comments</th>\n",
       "      <th>upvotes_24</th>\n",
       "      <th>comment_after_1hour</th>\n",
       "      <th>total_number_comments</th>\n",
       "      <th>hot_val_24</th>\n",
       "      <th>upvote_perc_24</th>\n",
       "    </tr>\n",
       "  </thead>\n",
       "  <tbody>\n",
       "    <tr>\n",
       "      <th>count</th>\n",
       "      <td>3370.000000</td>\n",
       "      <td>3370.000000</td>\n",
       "      <td>3370.000000</td>\n",
       "      <td>3.370000e+03</td>\n",
       "      <td>3.370000e+03</td>\n",
       "      <td>3370.000000</td>\n",
       "      <td>3370.000000</td>\n",
       "      <td>3370.000000</td>\n",
       "      <td>3370.000000</td>\n",
       "      <td>3370.000000</td>\n",
       "      <td>3370.000000</td>\n",
       "      <td>3370.000000</td>\n",
       "      <td>3370.000000</td>\n",
       "      <td>3370.000000</td>\n",
       "    </tr>\n",
       "    <tr>\n",
       "      <th>mean</th>\n",
       "      <td>2017.166172</td>\n",
       "      <td>50.570920</td>\n",
       "      <td>267.467953</td>\n",
       "      <td>2.264207e+04</td>\n",
       "      <td>1.226498e+04</td>\n",
       "      <td>981.826142</td>\n",
       "      <td>11.573887</td>\n",
       "      <td>84.202077</td>\n",
       "      <td>10.723145</td>\n",
       "      <td>684.966469</td>\n",
       "      <td>28.279228</td>\n",
       "      <td>197.908309</td>\n",
       "      <td>755.710089</td>\n",
       "      <td>81.894659</td>\n",
       "    </tr>\n",
       "    <tr>\n",
       "      <th>std</th>\n",
       "      <td>1153.744744</td>\n",
       "      <td>47.396008</td>\n",
       "      <td>392.727394</td>\n",
       "      <td>1.099730e+05</td>\n",
       "      <td>6.720501e+04</td>\n",
       "      <td>1024.714747</td>\n",
       "      <td>15.504651</td>\n",
       "      <td>16.615529</td>\n",
       "      <td>54.190945</td>\n",
       "      <td>3650.494367</td>\n",
       "      <td>164.805523</td>\n",
       "      <td>1333.317200</td>\n",
       "      <td>412.724506</td>\n",
       "      <td>14.831753</td>\n",
       "    </tr>\n",
       "    <tr>\n",
       "      <th>min</th>\n",
       "      <td>2.000000</td>\n",
       "      <td>0.000000</td>\n",
       "      <td>0.000000</td>\n",
       "      <td>1.000000e+00</td>\n",
       "      <td>-1.000000e+02</td>\n",
       "      <td>9.278449</td>\n",
       "      <td>0.000000</td>\n",
       "      <td>7.000000</td>\n",
       "      <td>0.000000</td>\n",
       "      <td>0.000000</td>\n",
       "      <td>0.000000</td>\n",
       "      <td>0.000000</td>\n",
       "      <td>0.000000</td>\n",
       "      <td>10.000000</td>\n",
       "    </tr>\n",
       "    <tr>\n",
       "      <th>25%</th>\n",
       "      <td>1017.250000</td>\n",
       "      <td>3.000000</td>\n",
       "      <td>44.000000</td>\n",
       "      <td>7.200000e+01</td>\n",
       "      <td>8.425000e+01</td>\n",
       "      <td>275.887546</td>\n",
       "      <td>3.000000</td>\n",
       "      <td>75.000000</td>\n",
       "      <td>3.000000</td>\n",
       "      <td>12.000000</td>\n",
       "      <td>5.000000</td>\n",
       "      <td>8.000000</td>\n",
       "      <td>100.000000</td>\n",
       "      <td>75.000000</td>\n",
       "    </tr>\n",
       "    <tr>\n",
       "      <th>50%</th>\n",
       "      <td>2024.500000</td>\n",
       "      <td>19.000000</td>\n",
       "      <td>69.000000</td>\n",
       "      <td>7.065000e+02</td>\n",
       "      <td>8.660000e+02</td>\n",
       "      <td>477.123270</td>\n",
       "      <td>7.000000</td>\n",
       "      <td>89.000000</td>\n",
       "      <td>5.000000</td>\n",
       "      <td>34.000000</td>\n",
       "      <td>10.000000</td>\n",
       "      <td>19.000000</td>\n",
       "      <td>999.000000</td>\n",
       "      <td>86.000000</td>\n",
       "    </tr>\n",
       "    <tr>\n",
       "      <th>75%</th>\n",
       "      <td>3006.750000</td>\n",
       "      <td>99.000000</td>\n",
       "      <td>98.000000</td>\n",
       "      <td>5.555250e+03</td>\n",
       "      <td>5.262000e+03</td>\n",
       "      <td>1466.435481</td>\n",
       "      <td>14.000000</td>\n",
       "      <td>100.000000</td>\n",
       "      <td>8.000000</td>\n",
       "      <td>133.000000</td>\n",
       "      <td>18.000000</td>\n",
       "      <td>50.000000</td>\n",
       "      <td>999.000000</td>\n",
       "      <td>92.000000</td>\n",
       "    </tr>\n",
       "    <tr>\n",
       "      <th>max</th>\n",
       "      <td>4037.000000</td>\n",
       "      <td>99.000000</td>\n",
       "      <td>999.000000</td>\n",
       "      <td>1.409321e+06</td>\n",
       "      <td>2.133322e+06</td>\n",
       "      <td>5877.725987</td>\n",
       "      <td>234.000000</td>\n",
       "      <td>100.000000</td>\n",
       "      <td>1392.000000</td>\n",
       "      <td>77558.000000</td>\n",
       "      <td>3290.000000</td>\n",
       "      <td>18737.000000</td>\n",
       "      <td>999.000000</td>\n",
       "      <td>100.000000</td>\n",
       "    </tr>\n",
       "  </tbody>\n",
       "</table>\n",
       "</div>"
      ],
      "text/plain": [
       "           post_id   rising_val      hot_val    post_karma  comment_karma  \\\n",
       "count  3370.000000  3370.000000  3370.000000  3.370000e+03   3.370000e+03   \n",
       "mean   2017.166172    50.570920   267.467953  2.264207e+04   1.226498e+04   \n",
       "std    1153.744744    47.396008   392.727394  1.099730e+05   6.720501e+04   \n",
       "min       2.000000     0.000000     0.000000  1.000000e+00  -1.000000e+02   \n",
       "25%    1017.250000     3.000000    44.000000  7.200000e+01   8.425000e+01   \n",
       "50%    2024.500000    19.000000    69.000000  7.065000e+02   8.660000e+02   \n",
       "75%    3006.750000    99.000000    98.000000  5.555250e+03   5.262000e+03   \n",
       "max    4037.000000    99.000000   999.000000  1.409321e+06   2.133322e+06   \n",
       "\n",
       "       redditor_for      upvotes  upvote_percent  num_comments    upvotes_24  \\\n",
       "count   3370.000000  3370.000000     3370.000000   3370.000000   3370.000000   \n",
       "mean     981.826142    11.573887       84.202077     10.723145    684.966469   \n",
       "std     1024.714747    15.504651       16.615529     54.190945   3650.494367   \n",
       "min        9.278449     0.000000        7.000000      0.000000      0.000000   \n",
       "25%      275.887546     3.000000       75.000000      3.000000     12.000000   \n",
       "50%      477.123270     7.000000       89.000000      5.000000     34.000000   \n",
       "75%     1466.435481    14.000000      100.000000      8.000000    133.000000   \n",
       "max     5877.725987   234.000000      100.000000   1392.000000  77558.000000   \n",
       "\n",
       "       comment_after_1hour  total_number_comments   hot_val_24  upvote_perc_24  \n",
       "count          3370.000000            3370.000000  3370.000000     3370.000000  \n",
       "mean             28.279228             197.908309   755.710089       81.894659  \n",
       "std             164.805523            1333.317200   412.724506       14.831753  \n",
       "min               0.000000               0.000000     0.000000       10.000000  \n",
       "25%               5.000000               8.000000   100.000000       75.000000  \n",
       "50%              10.000000              19.000000   999.000000       86.000000  \n",
       "75%              18.000000              50.000000   999.000000       92.000000  \n",
       "max            3290.000000           18737.000000   999.000000      100.000000  "
      ]
     },
     "execution_count": 5,
     "metadata": {},
     "output_type": "execute_result"
    }
   ],
   "source": [
    "df_24.describe()"
   ]
  },
  {
   "cell_type": "markdown",
   "metadata": {},
   "source": [
    "the mean value for the upvotes_24 is 684. I will consider any post with less than 684 upvotes after 24h unpopular and\n",
    "more than that popular"
   ]
  },
  {
   "cell_type": "code",
   "execution_count": 6,
   "metadata": {},
   "outputs": [
    {
     "data": {
      "text/plain": [
       "4       32171\n",
       "6        2052\n",
       "20        827\n",
       "40      19644\n",
       "59       1243\n",
       "        ...  \n",
       "3350     1849\n",
       "3356     3218\n",
       "3357     1089\n",
       "3365     1256\n",
       "3366     4795\n",
       "Name: upvotes_24, Length: 368, dtype: int64"
      ]
     },
     "execution_count": 6,
     "metadata": {},
     "output_type": "execute_result"
    }
   ],
   "source": [
    "(df_24.upvotes_24[df_24.upvotes_24 >= 684])"
   ]
  },
  {
   "cell_type": "code",
   "execution_count": 7,
   "metadata": {},
   "outputs": [
    {
     "data": {
      "text/plain": [
       "0         8\n",
       "1        20\n",
       "2        20\n",
       "3        76\n",
       "5        80\n",
       "       ... \n",
       "3363    229\n",
       "3364     61\n",
       "3367     18\n",
       "3368      4\n",
       "3369     44\n",
       "Name: upvotes_24, Length: 3002, dtype: int64"
      ]
     },
     "execution_count": 7,
     "metadata": {},
     "output_type": "execute_result"
    }
   ],
   "source": [
    "(df_24.upvotes_24[df_24.upvotes_24 < 684])"
   ]
  },
  {
   "cell_type": "code",
   "execution_count": 8,
   "metadata": {},
   "outputs": [],
   "source": [
    "df_24.loc[df_24.upvotes_24 >= 684, 'popularity'] = 1\n",
    "df_24.loc[df_24.upvotes_24 < 684, 'popularity'] = 0"
   ]
  },
  {
   "cell_type": "markdown",
   "metadata": {},
   "source": [
    "# Language variable"
   ]
  },
  {
   "cell_type": "code",
   "execution_count": 9,
   "metadata": {},
   "outputs": [],
   "source": [
    "symbolset = string.punctuation\n",
    "title = df_24.title"
   ]
  },
  {
   "cell_type": "code",
   "execution_count": 10,
   "metadata": {},
   "outputs": [
    {
     "name": "stderr",
     "output_type": "stream",
     "text": [
      "<ipython-input-10-1873f7bcee1c>:19: SettingWithCopyWarning: \n",
      "A value is trying to be set on a copy of a slice from a DataFrame\n",
      "\n",
      "See the caveats in the documentation: https://pandas.pydata.org/pandas-docs/stable/user_guide/indexing.html#returning-a-view-versus-a-copy\n",
      "  df_24[\"language_variable\"][i] = NPcount + NUMcount + SYMcount\n"
     ]
    }
   ],
   "source": [
    "n = len(title)\n",
    "df_24[\"language_variable\"] = np.zeros(n)\n",
    "\n",
    "for i in title.index:\n",
    "    text = title[i]\n",
    "    words = nltk.word_tokenize(text)\n",
    "    taggedtoken = nltk.pos_tag(words)\n",
    "    NPcount = 0\n",
    "    NUMcount = 0\n",
    "    SYMcount = 0\n",
    "    HASHcount = 0\n",
    "    for word in taggedtoken:\n",
    "        if word[1] == \"NNP\" or word[1] == \"NNPS\":\n",
    "            NPcount += 1\n",
    "        if word[1] == \"JJ\" or word[1] == \"CD\":\n",
    "            NUMcount += 1\n",
    "        if word[0] in symbolset :\n",
    "            SYMcount += 1\n",
    "    df_24[\"language_variable\"][i] = NPcount + NUMcount + SYMcount\n",
    "    "
   ]
  },
  {
   "cell_type": "code",
   "execution_count": 11,
   "metadata": {
    "scrolled": true
   },
   "outputs": [
    {
     "name": "stderr",
     "output_type": "stream",
     "text": [
      "<ipython-input-11-df31e4373638>:2: RuntimeWarning: divide by zero encountered in log\n",
      "  logupvote = np.log(upv)\n"
     ]
    }
   ],
   "source": [
    "upv = df_24.upvotes.values\n",
    "logupvote = np.log(upv)\n",
    "df_24['upvotes_log']=logupvote"
   ]
  },
  {
   "cell_type": "code",
   "execution_count": 12,
   "metadata": {
    "scrolled": true
   },
   "outputs": [
    {
     "data": {
      "text/plain": [
       "<AxesSubplot:xlabel='language_variable', ylabel='upvotes_log'>"
      ]
     },
     "execution_count": 12,
     "metadata": {},
     "output_type": "execute_result"
    },
    {
     "data": {
      "image/png": "[encoded data removed]",
      "text/plain": [
       "<Figure size 432x288 with 1 Axes>"
      ]
     },
     "metadata": {},
     "output_type": "display_data"
    }
   ],
   "source": [
    "sns.scatterplot(data=df_24, x=\"language_variable\", y=\"upvotes_log\", hue=\"popularity\")"
   ]
  },
  {
   "cell_type": "markdown",
   "metadata": {},
   "source": [
    "# define the train test split with stratify = 'popularity'"
   ]
  },
  {
   "cell_type": "code",
   "execution_count": 13,
   "metadata": {},
   "outputs": [],
   "source": [
    "df_train, df_test = train_test_split(df_24, test_size = 0.2, stratify = df_24['popularity'])"
   ]
  },
  {
   "cell_type": "code",
   "execution_count": 14,
   "metadata": {},
   "outputs": [
    {
     "data": {
      "text/html": [
       "<div>\n",
       "<style scoped>\n",
       "    .dataframe tbody tr th:only-of-type {\n",
       "        vertical-align: middle;\n",
       "    }\n",
       "\n",
       "    .dataframe tbody tr th {\n",
       "        vertical-align: top;\n",
       "    }\n",
       "\n",
       "    .dataframe thead th {\n",
       "        text-align: right;\n",
       "    }\n",
       "</style>\n",
       "<table border=\"1\" class=\"dataframe\">\n",
       "  <thead>\n",
       "    <tr style=\"text-align: right;\">\n",
       "      <th></th>\n",
       "      <th>post_id</th>\n",
       "      <th>active_track</th>\n",
       "      <th>title</th>\n",
       "      <th>comment_url</th>\n",
       "      <th>link_url</th>\n",
       "      <th>flair</th>\n",
       "      <th>submit_time</th>\n",
       "      <th>rising_val</th>\n",
       "      <th>hot_val</th>\n",
       "      <th>username</th>\n",
       "      <th>...</th>\n",
       "      <th>num_comments</th>\n",
       "      <th>submission_id</th>\n",
       "      <th>upvotes_24</th>\n",
       "      <th>comment_after_1hour</th>\n",
       "      <th>total_number_comments</th>\n",
       "      <th>hot_val_24</th>\n",
       "      <th>upvote_perc_24</th>\n",
       "      <th>popularity</th>\n",
       "      <th>language_variable</th>\n",
       "      <th>upvotes_log</th>\n",
       "    </tr>\n",
       "  </thead>\n",
       "  <tbody>\n",
       "    <tr>\n",
       "      <th>1143</th>\n",
       "      <td>1387</td>\n",
       "      <td>No</td>\n",
       "      <td>Wish Q3 Earnings Beat?</td>\n",
       "      <td>https://old.reddit.com/r/wallstreetbets/commen...</td>\n",
       "      <td>https://old.reddit.com/r/wallstreetbets/commen...</td>\n",
       "      <td>Discussion</td>\n",
       "      <td>\"2021-10-28T22:06:40</td>\n",
       "      <td>8</td>\n",
       "      <td>91</td>\n",
       "      <td>sailhard22</td>\n",
       "      <td>...</td>\n",
       "      <td>4</td>\n",
       "      <td>qhxtpr</td>\n",
       "      <td>36</td>\n",
       "      <td>8</td>\n",
       "      <td>46</td>\n",
       "      <td>999</td>\n",
       "      <td>80</td>\n",
       "      <td>0.0</td>\n",
       "      <td>5.0</td>\n",
       "      <td>1.609438</td>\n",
       "    </tr>\n",
       "    <tr>\n",
       "      <th>2558</th>\n",
       "      <td>3051</td>\n",
       "      <td>No</td>\n",
       "      <td>Buy signal confirmed!</td>\n",
       "      <td>https://old.reddit.com/r/wallstreetbets/commen...</td>\n",
       "      <td>https://i.redd.it/ez51ks7rfky71.jpg</td>\n",
       "      <td>Technical Analysis</td>\n",
       "      <td>\"2021-11-09T12:44:12</td>\n",
       "      <td>99</td>\n",
       "      <td>90</td>\n",
       "      <td>sassiestzilla</td>\n",
       "      <td>...</td>\n",
       "      <td>3</td>\n",
       "      <td>qq2vvb</td>\n",
       "      <td>9108</td>\n",
       "      <td>11</td>\n",
       "      <td>343</td>\n",
       "      <td>10</td>\n",
       "      <td>96</td>\n",
       "      <td>1.0</td>\n",
       "      <td>2.0</td>\n",
       "      <td>2.564949</td>\n",
       "    </tr>\n",
       "    <tr>\n",
       "      <th>1169</th>\n",
       "      <td>1419</td>\n",
       "      <td>No</td>\n",
       "      <td>Easiest $5000 I ever made in my life with week...</td>\n",
       "      <td>https://old.reddit.com/r/wallstreetbets/commen...</td>\n",
       "      <td>https://i.redd.it/t7og17u7h1x71.png</td>\n",
       "      <td>Gain</td>\n",
       "      <td>\"2021-11-01T19:55:25</td>\n",
       "      <td>99</td>\n",
       "      <td>72</td>\n",
       "      <td>ZulemaVan</td>\n",
       "      <td>...</td>\n",
       "      <td>7</td>\n",
       "      <td>qkm92i</td>\n",
       "      <td>90</td>\n",
       "      <td>17</td>\n",
       "      <td>61</td>\n",
       "      <td>999</td>\n",
       "      <td>74</td>\n",
       "      <td>0.0</td>\n",
       "      <td>6.0</td>\n",
       "      <td>1.098612</td>\n",
       "    </tr>\n",
       "    <tr>\n",
       "      <th>832</th>\n",
       "      <td>1004</td>\n",
       "      <td>No</td>\n",
       "      <td>Alphabet earnings top estimates as online adve...</td>\n",
       "      <td>https://old.reddit.com/r/wallstreetbets/commen...</td>\n",
       "      <td>https://finance.yahoo.com/news/alphabet-google...</td>\n",
       "      <td>News</td>\n",
       "      <td>\"2021-10-26T20:15:22</td>\n",
       "      <td>4</td>\n",
       "      <td>75</td>\n",
       "      <td>creationofthebigugly</td>\n",
       "      <td>...</td>\n",
       "      <td>3</td>\n",
       "      <td>qgf5as</td>\n",
       "      <td>17</td>\n",
       "      <td>6</td>\n",
       "      <td>6</td>\n",
       "      <td>999</td>\n",
       "      <td>100</td>\n",
       "      <td>0.0</td>\n",
       "      <td>3.0</td>\n",
       "      <td>2.079442</td>\n",
       "    </tr>\n",
       "    <tr>\n",
       "      <th>2804</th>\n",
       "      <td>3337</td>\n",
       "      <td>No</td>\n",
       "      <td>Debt Ceiling deadline Dec. 3</td>\n",
       "      <td>https://old.reddit.com/r/wallstreetbets/commen...</td>\n",
       "      <td>https://old.reddit.com/r/wallstreetbets/commen...</td>\n",
       "      <td>Discussion</td>\n",
       "      <td>\"2021-11-10T14:30:47</td>\n",
       "      <td>99</td>\n",
       "      <td>999</td>\n",
       "      <td>BuzzBuckley</td>\n",
       "      <td>...</td>\n",
       "      <td>6</td>\n",
       "      <td>qqvovs</td>\n",
       "      <td>19</td>\n",
       "      <td>10</td>\n",
       "      <td>21</td>\n",
       "      <td>999</td>\n",
       "      <td>86</td>\n",
       "      <td>0.0</td>\n",
       "      <td>4.0</td>\n",
       "      <td>1.791759</td>\n",
       "    </tr>\n",
       "  </tbody>\n",
       "</table>\n",
       "<p>5 rows × 25 columns</p>\n",
       "</div>"
      ],
      "text/plain": [
       "      post_id active_track                                              title  \\\n",
       "1143     1387           No                             Wish Q3 Earnings Beat?   \n",
       "2558     3051           No                              Buy signal confirmed!   \n",
       "1169     1419           No  Easiest $5000 I ever made in my life with week...   \n",
       "832      1004           No  Alphabet earnings top estimates as online adve...   \n",
       "2804     3337           No                       Debt Ceiling deadline Dec. 3   \n",
       "\n",
       "                                            comment_url  \\\n",
       "1143  https://old.reddit.com/r/wallstreetbets/commen...   \n",
       "2558  https://old.reddit.com/r/wallstreetbets/commen...   \n",
       "1169  https://old.reddit.com/r/wallstreetbets/commen...   \n",
       "832   https://old.reddit.com/r/wallstreetbets/commen...   \n",
       "2804  https://old.reddit.com/r/wallstreetbets/commen...   \n",
       "\n",
       "                                               link_url               flair  \\\n",
       "1143  https://old.reddit.com/r/wallstreetbets/commen...          Discussion   \n",
       "2558                https://i.redd.it/ez51ks7rfky71.jpg  Technical Analysis   \n",
       "1169                https://i.redd.it/t7og17u7h1x71.png                Gain   \n",
       "832   https://finance.yahoo.com/news/alphabet-google...                News   \n",
       "2804  https://old.reddit.com/r/wallstreetbets/commen...          Discussion   \n",
       "\n",
       "               submit_time  rising_val  hot_val              username  ...  \\\n",
       "1143  \"2021-10-28T22:06:40           8       91            sailhard22  ...   \n",
       "2558  \"2021-11-09T12:44:12          99       90         sassiestzilla  ...   \n",
       "1169  \"2021-11-01T19:55:25          99       72             ZulemaVan  ...   \n",
       "832   \"2021-10-26T20:15:22           4       75  creationofthebigugly  ...   \n",
       "2804  \"2021-11-10T14:30:47          99      999           BuzzBuckley  ...   \n",
       "\n",
       "      num_comments  submission_id  upvotes_24  comment_after_1hour  \\\n",
       "1143             4         qhxtpr          36                    8   \n",
       "2558             3         qq2vvb        9108                   11   \n",
       "1169             7         qkm92i          90                   17   \n",
       "832              3         qgf5as          17                    6   \n",
       "2804             6         qqvovs          19                   10   \n",
       "\n",
       "      total_number_comments  hot_val_24 upvote_perc_24  popularity  \\\n",
       "1143                     46         999             80         0.0   \n",
       "2558                    343          10             96         1.0   \n",
       "1169                     61         999             74         0.0   \n",
       "832                       6         999            100         0.0   \n",
       "2804                     21         999             86         0.0   \n",
       "\n",
       "      language_variable  upvotes_log  \n",
       "1143                5.0     1.609438  \n",
       "2558                2.0     2.564949  \n",
       "1169                6.0     1.098612  \n",
       "832                 3.0     2.079442  \n",
       "2804                4.0     1.791759  \n",
       "\n",
       "[5 rows x 25 columns]"
      ]
     },
     "execution_count": 14,
     "metadata": {},
     "output_type": "execute_result"
    }
   ],
   "source": [
    "df_train.head()"
   ]
  },
  {
   "cell_type": "code",
   "execution_count": 15,
   "metadata": {},
   "outputs": [
    {
     "name": "stderr",
     "output_type": "stream",
     "text": [
      "/opt/homebrew/anaconda3/lib/python3.8/site-packages/pandas/core/frame.py:3065: SettingWithCopyWarning: \n",
      "A value is trying to be set on a copy of a slice from a DataFrame.\n",
      "Try using .loc[row_indexer,col_indexer] = value instead\n",
      "\n",
      "See the caveats in the documentation: https://pandas.pydata.org/pandas-docs/stable/user_guide/indexing.html#returning-a-view-versus-a-copy\n",
      "  self[k1] = value[k2]\n"
     ]
    }
   ],
   "source": [
    "# Here I one_hot_encode it\n",
    "df_train[['DD','Daily_Discussion','Discussion','Earnings_Thread','Gain','Loss','Meme',\n",
    "       'Modes','News','Shitpost','Technical_Analysis','Weekend_Discussion','Yolo']] = pd.get_dummies(df_train.flair)[['DD', 'Daily Discussion', 'Discussion', 'Earnings Thread', 'Gain',\n",
    "       'Loss', 'Meme', 'Mods', 'News', 'Shitpost',\n",
    "       'Technical Analysis', 'Weekend Discussion', 'YOLO']].copy()\n"
   ]
  },
  {
   "cell_type": "code",
   "execution_count": 16,
   "metadata": {},
   "outputs": [
    {
     "data": {
      "text/plain": [
       "<seaborn.axisgrid.PairGrid at 0x7fbbde4ec910>"
      ]
     },
     "execution_count": 16,
     "metadata": {},
     "output_type": "execute_result"
    },
    {
     "data": {
      "image/png": "[encoded data removed]",
      "text/plain": [
       "<Figure size 771.625x720 with 20 Axes>"
      ]
     },
     "metadata": {},
     "output_type": "display_data"
    }
   ],
   "source": [
    "sns.pairplot(df_train, vars = ['Meme', 'hot_val','upvotes','News'], hue = 'popularity')"
   ]
  },
  {
   "cell_type": "markdown",
   "metadata": {},
   "source": [
    "# First a KNeighborsClassifier"
   ]
  },
  {
   "cell_type": "code",
   "execution_count": 17,
   "metadata": {},
   "outputs": [],
   "source": [
    "from sklearn.neighbors import KNeighborsClassifier"
   ]
  },
  {
   "cell_type": "code",
   "execution_count": 18,
   "metadata": {},
   "outputs": [],
   "source": [
    "from sklearn.metrics import accuracy_score, roc_auc_score, roc_curve, confusion_matrix"
   ]
  },
  {
   "cell_type": "code",
   "execution_count": 19,
   "metadata": {},
   "outputs": [
    {
     "data": {
      "text/plain": [
       "0.0    2402\n",
       "1.0     294\n",
       "Name: popularity, dtype: int64"
      ]
     },
     "execution_count": 19,
     "metadata": {},
     "output_type": "execute_result"
    }
   ],
   "source": [
    "df_train.popularity.value_counts()"
   ]
  },
  {
   "cell_type": "code",
   "execution_count": 20,
   "metadata": {},
   "outputs": [],
   "source": [
    "# a quick test how KNN performs\n",
    "features = ['hot_val','upvotes','DD','Daily_Discussion','Gain','Loss','Meme',\n",
    "       'Modes','News','Technical_Analysis','Weekend_Discussion','Discussion','Yolo','language_variable']\n",
    "KNN_clf = KNeighborsClassifier(n_neighbors = 5)\n",
    "KNN_clf.fit(df_train[features], df_train['popularity'])\n",
    "#KNN_predicted = KNN_clf.predict(df_train[features])\n",
    "accu = accuracy_score(KNN_clf.predict(df_train[features]), df_train['popularity'])\n",
    "roc_value = roc_auc_score(df_train['popularity'],KNN_clf.predict_proba(df_train[features])[:,1] )\n",
    "fprs, tprs, thresholds = roc_curve(df_train['popularity'],KNN_clf.predict_proba(df_train[features])[:,1] )"
   ]
  },
  {
   "cell_type": "code",
   "execution_count": 21,
   "metadata": {},
   "outputs": [
    {
     "data": {
      "text/plain": [
       "0.9552583731244372"
      ]
     },
     "execution_count": 21,
     "metadata": {},
     "output_type": "execute_result"
    }
   ],
   "source": [
    "roc_value"
   ]
  },
  {
   "cell_type": "code",
   "execution_count": 22,
   "metadata": {},
   "outputs": [
    {
     "data": {
      "image/png": "[encoded data removed]",
      "text/plain": [
       "<Figure size 432x360 with 1 Axes>"
      ]
     },
     "metadata": {},
     "output_type": "display_data"
    }
   ],
   "source": [
    "plt.figure(figsize = (6,5))\n",
    "plt.plot(fprs, tprs)\n",
    "plt.xlabel('False Positive Rate', fontsize = 14)\n",
    "plt.ylabel('True Positive Rate', fontsize = 14)\n",
    "#plt.savefig()\n",
    "plt.show()"
   ]
  },
  {
   "cell_type": "markdown",
   "metadata": {},
   "source": [
    "Here I would like to find the signigicant features:"
   ]
  },
  {
   "cell_type": "code",
   "execution_count": 23,
   "metadata": {},
   "outputs": [],
   "source": [
    "def powerset_no_empty(s):\n",
    "    power_set = []\n",
    "    x = len(s)\n",
    "    for i in range(1 << x):\n",
    "        power_set.append([s[j] for j in range(x) if (i & (1 << j))])\n",
    "            \n",
    "    return power_set[1:]"
   ]
  },
  {
   "cell_type": "code",
   "execution_count": 24,
   "metadata": {},
   "outputs": [],
   "source": [
    "non_categorical = powerset_no_empty(['rising_val', 'hot_val','post_karma','comment_karma', 'redditor_for','num_comments','upvotes','language_variable'])"
   ]
  },
  {
   "cell_type": "code",
   "execution_count": 25,
   "metadata": {},
   "outputs": [],
   "source": [
    "#this part gives you all possible combinations without categorical variable\n",
    "\n",
    "all_models = pd.Series(non_categorical).append(pd.Series(['baseline']), ignore_index = True)"
   ]
  },
  {
   "cell_type": "code",
   "execution_count": 26,
   "metadata": {},
   "outputs": [
    {
     "data": {
      "text/plain": [
       "['rising_val', 'language_variable']"
      ]
     },
     "execution_count": 26,
     "metadata": {},
     "output_type": "execute_result"
    }
   ],
   "source": [
    "all_models[128]"
   ]
  },
  {
   "cell_type": "code",
   "execution_count": 27,
   "metadata": {},
   "outputs": [],
   "source": [
    "from sklearn.model_selection import StratifiedKFold"
   ]
  },
  {
   "cell_type": "code",
   "execution_count": 28,
   "metadata": {},
   "outputs": [],
   "source": [
    "from sklearn.base import clone"
   ]
  },
  {
   "cell_type": "code",
   "execution_count": 29,
   "metadata": {},
   "outputs": [],
   "source": [
    "# Here I run a cross validation to select best model\n",
    "features = ['post_id', 'active_track', 'title', 'comment_url', 'link_url', 'flair',\n",
    "       'submit_time', 'rising_val', 'hot_val', 'username', 'post_karma',\n",
    "       'comment_karma', 'redditor_for', 'upvotes', 'upvote_percent',\n",
    "       'num_comments', 'submission_id', 'upvotes_24', 'comment_after_1hour',\n",
    "       'total_number_comments', 'hot_val_24', 'upvote_perc_24',\n",
    "       'DD', 'Daily_Discussion', 'Discussion', 'Earnings_Thread', 'Gain',\n",
    "       'Loss', 'Meme', 'Modes', 'News', 'Shitpost', 'Technical_Analysis',\n",
    "       'Weekend_Discussion', 'Yolo','language_variable']\n",
    "kf = StratifiedKFold(10)\n",
    "cv_accuracy_KNN = np.empty((10,len(all_models)))\n",
    "clf = KNeighborsClassifier(5)\n",
    "i = 0\n",
    "# Perform CV\n",
    "for train_index, test_index in kf.split(df_train[features],df_train['popularity']):\n",
    "    # Get the cv train test split\n",
    "    df_train_train = df_train.iloc[train_index]\n",
    "    df_holdout = df_train.iloc[test_index]\n",
    "    # For each possible model\n",
    "    for j in range(len(all_models)):\n",
    "        # Cloning the regression makes a fresh regression \n",
    "        if all_models[j] == \"baseline\":\n",
    "            cv_accuracy_KNN[i,j] = 0.5\n",
    "        else:\n",
    "            # model for each run\n",
    "            clone_clf = clone(clf)\n",
    "\n",
    "            # fit the model\n",
    "            clone_clf.fit(df_train_train[all_models[j]], df_train_train['popularity'])\n",
    "            \n",
    "            pred = clone_clf.predict(df_holdout[all_models[j]])\n",
    "        \n",
    "            cv_accuracy_KNN[i,j] = accuracy_score(df_holdout['popularity'], pred)\n",
    "    i = i + 1"
   ]
  },
  {
   "cell_type": "code",
   "execution_count": 30,
   "metadata": {},
   "outputs": [
    {
     "data": {
      "text/plain": [
       "['rising_val', 'hot_val', 'upvotes', 'language_variable']"
      ]
     },
     "execution_count": 30,
     "metadata": {},
     "output_type": "execute_result"
    }
   ],
   "source": [
    "all_models[np.argmax(np.mean(cv_accuracy_KNN, axis = 0))]"
   ]
  },
  {
   "cell_type": "markdown",
   "metadata": {},
   "source": [
    "I find the following features to be the most relevant ones:"
   ]
  },
  {
   "cell_type": "code",
   "execution_count": 31,
   "metadata": {},
   "outputs": [],
   "source": [
    "selected_features = ['hot_val','upvotes','DD','Daily_Discussion','Discussion','Gain','Loss','Meme',\n",
    "       'Modes','News','Technical_Analysis','Weekend_Discussion','Yolo','language_variable']"
   ]
  },
  {
   "cell_type": "code",
   "execution_count": 32,
   "metadata": {},
   "outputs": [],
   "source": [
    "# Here I run a cross validation to select best number of neighbors\n",
    "features = ['post_id', 'active_track', 'title', 'comment_url', 'link_url', 'flair',\n",
    "       'submit_time', 'rising_val', 'hot_val', 'username', 'post_karma',\n",
    "       'comment_karma', 'redditor_for', 'upvotes', 'upvote_percent',\n",
    "       'num_comments', 'submission_id', 'upvotes_24', 'comment_after_1hour',\n",
    "       'total_number_comments', 'hot_val_24', 'upvote_perc_24',\n",
    "       'DD', 'Daily_Discussion', 'Discussion', 'Earnings_Thread', 'Gain',\n",
    "       'Loss', 'Meme', 'Modes', 'News', 'Shitpost', 'Technical_Analysis',\n",
    "       'Weekend_Discussion', 'Yolo','language_variable']\n",
    "n_neighbors = range(3,50)\n",
    "KNN_accuracy = np.empty((10,len(n_neighbors)))\n",
    "kf = StratifiedKFold(10)\n",
    "KNN_roc = np.empty((10,len(n_neighbors)))\n",
    "i = 0\n",
    "# Perform CV\n",
    "for train_index, test_index in kf.split(df_train[features],df_train['popularity']):\n",
    "    # Get the cv train test split\n",
    "    df_train_train = df_train.iloc[train_index]\n",
    "    df_holdout = df_train.iloc[test_index]\n",
    "    # For each possible model\n",
    "    j = 0\n",
    "    for neighbor in n_neighbors:\n",
    "            # model for each run\n",
    "        \n",
    "\n",
    "            # fit the model\n",
    "        KNN = KNeighborsClassifier(neighbor)\n",
    "\n",
    "            # fit the model\n",
    "        KNN.fit(df_train_train[selected_features], df_train_train['popularity'])\n",
    "            \n",
    "        pred = KNN.predict(df_holdout[selected_features])\n",
    "        \n",
    "        KNN_accuracy[i,j] = accuracy_score(df_holdout['popularity'], pred)\n",
    "        KNN_roc[i,j] = roc_auc_score(df_holdout['popularity'], KNN.predict_proba(df_holdout[selected_features])[:,1])\n",
    "        j = j + 1\n",
    "    i = i + 1"
   ]
  },
  {
   "cell_type": "code",
   "execution_count": 33,
   "metadata": {},
   "outputs": [
    {
     "data": {
      "text/plain": [
       "array([0.90578686, 0.90653449, 0.90393639, 0.90728211, 0.9109927 ,\n",
       "       0.90839598, 0.90988021, 0.90950571, 0.90988021, 0.91098857,\n",
       "       0.91247418, 0.9109927 , 0.9117362 , 0.91098995, 0.91395429,\n",
       "       0.91172794, 0.91209968, 0.91320942, 0.91395291, 0.91247005,\n",
       "       0.91321355, 0.91284042, 0.91283905, 0.91357979, 0.91395016,\n",
       "       0.91357979, 0.9128418 , 0.91284042, 0.91284455, 0.91247005,\n",
       "       0.91247005, 0.91246868, 0.91321217, 0.91432328, 0.91432191,\n",
       "       0.91283905, 0.91432466, 0.91358116, 0.91321217, 0.91321217,\n",
       "       0.91432191, 0.91246592, 0.91320942, 0.91320804, 0.9146909 ,\n",
       "       0.91394878, 0.91209831])"
      ]
     },
     "execution_count": 33,
     "metadata": {},
     "output_type": "execute_result"
    }
   ],
   "source": [
    "np.mean(KNN_accuracy, axis = 0)"
   ]
  },
  {
   "cell_type": "code",
   "execution_count": 34,
   "metadata": {},
   "outputs": [
    {
     "data": {
      "text/plain": [
       "array([0.78482822, 0.80619785, 0.82102651, 0.82824015, 0.84020951,\n",
       "       0.84397466, 0.84885059, 0.85032678, 0.85332366, 0.86139467,\n",
       "       0.86399888, 0.86693995, 0.86754347, 0.8674645 , 0.86809612,\n",
       "       0.87006365, 0.87084656, 0.87173104, 0.8730827 , 0.87461973,\n",
       "       0.8731624 , 0.87337175, 0.87547398, 0.87685948, 0.87694529,\n",
       "       0.87701943, 0.87962825, 0.88055358, 0.88060973, 0.88021109,\n",
       "       0.88223694, 0.8820023 , 0.88356685, 0.88250166, 0.88164818,\n",
       "       0.88171027, 0.88135484, 0.88190096, 0.88146571, 0.88095266,\n",
       "       0.87990968, 0.8810679 , 0.8813597 , 0.88210844, 0.88111772,\n",
       "       0.881053  , 0.88063357])"
      ]
     },
     "execution_count": 34,
     "metadata": {},
     "output_type": "execute_result"
    }
   ],
   "source": [
    "np.mean(KNN_roc, axis = 0)"
   ]
  },
  {
   "cell_type": "code",
   "execution_count": 35,
   "metadata": {},
   "outputs": [
    {
     "name": "stdout",
     "output_type": "stream",
     "text": [
      "best KNN model with best accuracy has 47 number of neighbors\n"
     ]
    }
   ],
   "source": [
    "print('best KNN model with best accuracy has {} number of neighbors'.format(n_neighbors[np.argmax(np.mean(KNN_accuracy, axis = 0))]))"
   ]
  },
  {
   "cell_type": "code",
   "execution_count": 36,
   "metadata": {},
   "outputs": [
    {
     "name": "stdout",
     "output_type": "stream",
     "text": [
      "best KNN model with best ROC score has 35 number of neighbors\n"
     ]
    }
   ],
   "source": [
    "print('best KNN model with best ROC score has {} number of neighbors'.format(n_neighbors[np.argmax(np.mean(KNN_roc, axis = 0))]))"
   ]
  },
  {
   "cell_type": "code",
   "execution_count": 37,
   "metadata": {},
   "outputs": [
    {
     "data": {
      "image/png": "[encoded data removed]",
      "text/plain": [
       "<Figure size 576x360 with 1 Axes>"
      ]
     },
     "metadata": {},
     "output_type": "display_data"
    }
   ],
   "source": [
    "plt.figure(figsize = (8,5))\n",
    "plt.scatter(range(3,50), np.mean(KNN_accuracy, axis = 0))\n",
    "plt.xlabel('number of neighbors', fontsize = 14)\n",
    "plt.ylabel('accuracy', fontsize = 14)\n",
    "plt.show()"
   ]
  },
  {
   "cell_type": "code",
   "execution_count": 38,
   "metadata": {},
   "outputs": [
    {
     "data": {
      "image/png": "[encoded data removed]",
      "text/plain": [
       "<Figure size 576x360 with 1 Axes>"
      ]
     },
     "metadata": {},
     "output_type": "display_data"
    }
   ],
   "source": [
    "plt.figure(figsize = (8,5))\n",
    "plt.scatter(range(3,50), np.mean(KNN_roc, axis = 0))\n",
    "plt.xlabel('number of neighbors', fontsize = 14)\n",
    "plt.ylabel('ROC score', fontsize = 14)\n",
    "plt.show()"
   ]
  },
  {
   "cell_type": "code",
   "execution_count": 39,
   "metadata": {},
   "outputs": [],
   "source": [
    "from sklearn.linear_model import LogisticRegression"
   ]
  },
  {
   "cell_type": "markdown",
   "metadata": {},
   "source": [
    "# SVM classifier"
   ]
  },
  {
   "cell_type": "code",
   "execution_count": 40,
   "metadata": {},
   "outputs": [],
   "source": [
    "from sklearn.svm import SVC"
   ]
  },
  {
   "cell_type": "code",
   "execution_count": 41,
   "metadata": {},
   "outputs": [
    {
     "data": {
      "text/plain": [
       "0.8942878338278932"
      ]
     },
     "execution_count": 41,
     "metadata": {},
     "output_type": "execute_result"
    }
   ],
   "source": [
    "clf = SVC(C=1)\n",
    "clf.fit(df_train[selected_features], df_train['popularity'])\n",
    "pred = clf.predict(df_train[selected_features])\n",
    "accuracy_score(df_train['popularity'], pred)"
   ]
  },
  {
   "cell_type": "code",
   "execution_count": 42,
   "metadata": {},
   "outputs": [],
   "source": [
    "# Here I run a cross validation to select best number of neighbors\n",
    "\n",
    "C_values = [0.001,0.01,0.1,1,10,20,50,60,80,100]\n",
    "cv_svc_accuracy = np.empty((10,len(C_values)))\n",
    "kf = StratifiedKFold(10)\n",
    "#KNN_roc = p.empty((10,len(n_neighbors)))\n",
    "i = 0\n",
    "# Perform CV\n",
    "for train_index, test_index in kf.split(df_train[selected_features],df_train['popularity']):\n",
    "    # Get the cv train test split\n",
    "    df_train_train = df_train.iloc[train_index]\n",
    "    df_holdout = df_train.iloc[test_index]\n",
    "    # For each possible model\n",
    "    j = 0\n",
    "    for C in C_values:\n",
    "     \n",
    "            # fit the model\n",
    "        svc_clf = SVC(C = C)\n",
    "\n",
    "            # fit the model\n",
    "        svc_clf.fit(df_train_train[selected_features], df_train_train['popularity'])\n",
    "            \n",
    "        pred = svc_clf.predict(df_holdout[selected_features])\n",
    "        \n",
    "        cv_svc_accuracy[i,j] = accuracy_score(df_holdout['popularity'], pred)\n",
    "        #KNN_roc[i,j] = accuray_score(df_holdout['popularity'], pred)\n",
    "        j = j + 1\n",
    "    i = i + 1"
   ]
  },
  {
   "cell_type": "code",
   "execution_count": 43,
   "metadata": {},
   "outputs": [
    {
     "data": {
      "text/plain": [
       "array([0.8909514 , 0.8909514 , 0.8909514 , 0.89243563, 0.89948231,\n",
       "       0.90022443, 0.89985405, 0.89948368, 0.89948368, 0.89911331])"
      ]
     },
     "execution_count": 43,
     "metadata": {},
     "output_type": "execute_result"
    }
   ],
   "source": [
    "np.mean(cv_svc_accuracy, axis = 0)"
   ]
  },
  {
   "cell_type": "code",
   "execution_count": 44,
   "metadata": {},
   "outputs": [
    {
     "data": {
      "text/plain": [
       "20"
      ]
     },
     "execution_count": 44,
     "metadata": {},
     "output_type": "execute_result"
    }
   ],
   "source": [
    "C_values[np.argmax(np.mean(cv_svc_accuracy, axis = 0))]"
   ]
  },
  {
   "cell_type": "markdown",
   "metadata": {},
   "source": [
    "# Decision Tree and Random Forest"
   ]
  },
  {
   "cell_type": "code",
   "execution_count": 45,
   "metadata": {},
   "outputs": [],
   "source": [
    "from sklearn.ensemble import RandomForestClassifier\n",
    "from sklearn.tree import DecisionTreeClassifier"
   ]
  },
  {
   "cell_type": "code",
   "execution_count": 46,
   "metadata": {},
   "outputs": [],
   "source": [
    "# with cross validation I will find the depth\n",
    "\n",
    "depths = range(1,31)\n",
    "cv_DT_accuracy = np.zeros((10, len(depths)))\n",
    "kf = StratifiedKFold(10)\n",
    "#KNN_roc = p.empty((10,len(n_neighbors)))\n",
    "i = 0\n",
    "# Perform CV\n",
    "for train_index, test_index in kf.split(df_train[features],df_train['popularity']):\n",
    "    # Get the cv train test split\n",
    "    df_train_train = df_train.iloc[train_index]\n",
    "    df_holdout = df_train.iloc[test_index]\n",
    "    # For each possible model\n",
    "    j = 0\n",
    "    for depth in depths:\n",
    "     \n",
    "            # fit the model\n",
    "        tree = DecisionTreeClassifier(max_depth=depth)\n",
    "\n",
    "            # fit the model\n",
    "        tree.fit(df_train_train[selected_features], df_train_train['popularity'])\n",
    "            \n",
    "        pred = tree.predict(df_holdout[selected_features])\n",
    "        \n",
    "        cv_DT_accuracy[i,j] = accuracy_score(df_holdout['popularity'], pred)\n",
    "        #KNN_roc[i,j] = accuray_score(df_holdout['popularity'], pred)\n",
    "        j = j + 1\n",
    "    i = i + 1"
   ]
  },
  {
   "cell_type": "code",
   "execution_count": 47,
   "metadata": {},
   "outputs": [
    {
     "data": {
      "text/plain": [
       "array([0.8909514 , 0.91061545, 0.91061269, 0.9124673 , 0.9098692 ,\n",
       "       0.90059342, 0.90097205, 0.89984855, 0.89242875, 0.8924315 ,\n",
       "       0.88798017, 0.87723393, 0.88390748, 0.87649043, 0.87426546,\n",
       "       0.86981275, 0.8716646 , 0.87203773, 0.87018312, 0.86795264,\n",
       "       0.87092661, 0.87093212, 0.8716646 , 0.86981137, 0.87352196,\n",
       "       0.87240121, 0.87129148, 0.8720391 , 0.87166047, 0.87166598])"
      ]
     },
     "execution_count": 47,
     "metadata": {},
     "output_type": "execute_result"
    }
   ],
   "source": [
    "np.mean(cv_DT_accuracy, axis=0)"
   ]
  },
  {
   "cell_type": "code",
   "execution_count": 48,
   "metadata": {},
   "outputs": [
    {
     "name": "stdout",
     "output_type": "stream",
     "text": [
      "the best decision tree has a depth value of 4\n"
     ]
    }
   ],
   "source": [
    "print('the best decision tree has a depth value of {}'.format(depths[np.argmax(np.mean(cv_DT_accuracy, axis=0))]))"
   ]
  },
  {
   "cell_type": "code",
   "execution_count": 49,
   "metadata": {
    "scrolled": false
   },
   "outputs": [
    {
     "data": {
      "image/png": "[encoded data removed]",
      "text/plain": [
       "<Figure size 720x576 with 1 Axes>"
      ]
     },
     "metadata": {},
     "output_type": "display_data"
    }
   ],
   "source": [
    "plt.figure(figsize=(10,8))\n",
    "\n",
    "\n",
    "plt.plot(depths, 100*np.mean(cv_DT_accuracy, axis=0), '-o')\n",
    "\n",
    "plt.xlabel(\"Maximum Depth\", fontsize=18)\n",
    "plt.ylabel(\"Accuracy\", fontsize=18)\n",
    "\n",
    "plt.yticks(fontsize=14)\n",
    "plt.xticks(depths,fontsize=14)\n",
    "\n",
    "plt.show()\n"
   ]
  },
  {
   "cell_type": "code",
   "execution_count": 50,
   "metadata": {},
   "outputs": [],
   "source": [
    "tree_clf = DecisionTreeClassifier(max_depth = 2)\n",
    "tree_clf.fit(df_train[selected_features], df_train['popularity'])\n",
    "pred = tree_clf.predict_proba(df_train[selected_features])[:,1]\n",
    "fprs, tprs, thresholds = roc_curve(df_train['popularity'],pred)\n",
    "conf_mat = confusion_matrix(1 *(pred >= 0.5), df_train['popularity'])"
   ]
  },
  {
   "cell_type": "code",
   "execution_count": 51,
   "metadata": {},
   "outputs": [
    {
     "data": {
      "text/plain": [
       "array([[2345,  179],\n",
       "       [  57,  115]])"
      ]
     },
     "execution_count": 51,
     "metadata": {},
     "output_type": "execute_result"
    }
   ],
   "source": [
    "conf_mat"
   ]
  },
  {
   "cell_type": "code",
   "execution_count": 52,
   "metadata": {},
   "outputs": [],
   "source": [
    "# with cross validation I will find number of trees for the random forest\n",
    "\n",
    "num_of_trees = [5,10, 50, 100, 250, 500, 1000]\n",
    "cv_RF_accuracy = np.zeros((10, len(num_of_trees)))\n",
    "kf = StratifiedKFold(10)\n",
    "#KNN_roc = p.empty((10,len(n_neighbors)))\n",
    "i = 0\n",
    "# Perform CV\n",
    "for train_index, test_index in kf.split(df_train[features],df_train['popularity']):\n",
    "    # Get the cv train test split\n",
    "    df_train_train = df_train.iloc[train_index]\n",
    "    df_holdout = df_train.iloc[test_index]\n",
    "    # For each possible model\n",
    "    j = 0\n",
    "    for num_trees in num_of_trees:\n",
    "     \n",
    "            # fit the model\n",
    "        RF = RandomForestClassifier(max_depth=2, n_estimators = num_trees)\n",
    "\n",
    "            # fit the model\n",
    "        RF.fit(df_train_train[selected_features], df_train_train['popularity'])\n",
    "            \n",
    "        pred = RF.predict(df_holdout[selected_features])\n",
    "        \n",
    "        cv_RF_accuracy[i,j] = accuracy_score(df_holdout['popularity'], pred)\n",
    "        #KNN_roc[i,j] = accuray_score(df_holdout['popularity'], pred)\n",
    "        j = j + 1\n",
    "    i = i + 1"
   ]
  },
  {
   "cell_type": "code",
   "execution_count": 53,
   "metadata": {},
   "outputs": [
    {
     "data": {
      "text/plain": [
       "array([0.89206251, 0.8909514 , 0.8909514 , 0.8909514 , 0.8909514 ,\n",
       "       0.8909514 , 0.8909514 ])"
      ]
     },
     "execution_count": 53,
     "metadata": {},
     "output_type": "execute_result"
    }
   ],
   "source": [
    "np.mean(cv_RF_accuracy, axis = 0)"
   ]
  },
  {
   "cell_type": "markdown",
   "metadata": {},
   "source": [
    "seems that DecisionTreeClassifier performs better than the RandomForestClassifier"
   ]
  },
  {
   "cell_type": "markdown",
   "metadata": {},
   "source": [
    "# Logistic Regression"
   ]
  },
  {
   "cell_type": "code",
   "execution_count": 54,
   "metadata": {},
   "outputs": [],
   "source": [
    "\n",
    "# Here I run a cross validation to select best number of neighbors\n",
    "\n",
    "C_values = [0.001,0.01,0.1,1,10,20,50,60,80,100]\n",
    "cv_Log_accuracy = np.empty((10,len(C_values)))\n",
    "kf = StratifiedKFold(10)\n",
    "#KNN_roc = p.empty((10,len(n_neighbors)))\n",
    "i = 0\n",
    "# Perform CV\n",
    "for train_index, test_index in kf.split(df_train[selected_features],df_train['popularity']):\n",
    "    # Get the cv train test split\n",
    "    df_train_train = df_train.iloc[train_index]\n",
    "    df_holdout = df_train.iloc[test_index]\n",
    "    # For each possible model\n",
    "    j = 0\n",
    "    for C in C_values:\n",
    "     \n",
    "            # fit the model\n",
    "        log_clf = LogisticRegression(C = C, max_iter = 100000)\n",
    "\n",
    "            # fit the model\n",
    "        log_clf.fit(df_train_train[selected_features], df_train_train['popularity'])\n",
    "            \n",
    "        pred = log_clf.predict(df_holdout[selected_features])\n",
    "        \n",
    "        cv_Log_accuracy[i,j] = accuracy_score(df_holdout['popularity'], pred)\n",
    "        #KNN_roc[i,j] = accuray_score(df_holdout['popularity'], pred)\n",
    "        j = j + 1\n",
    "    i = i + 1\n"
   ]
  },
  {
   "cell_type": "code",
   "execution_count": 55,
   "metadata": {},
   "outputs": [
    {
     "data": {
      "text/plain": [
       "array([0.90875396, 0.91060994, 0.90986507, 0.9113493 , 0.9113493 ,\n",
       "       0.91171968, 0.91171968, 0.91171968, 0.91171968, 0.91171968])"
      ]
     },
     "execution_count": 55,
     "metadata": {},
     "output_type": "execute_result"
    }
   ],
   "source": [
    "np.mean(cv_Log_accuracy, axis = 0)"
   ]
  },
  {
   "cell_type": "markdown",
   "metadata": {},
   "source": [
    "It seems that C = 0.1 is the best value with accuracy of 0.9124"
   ]
  },
  {
   "cell_type": "markdown",
   "metadata": {},
   "source": [
    "# adaboost classifier"
   ]
  },
  {
   "cell_type": "code",
   "execution_count": 56,
   "metadata": {},
   "outputs": [],
   "source": [
    "from sklearn.ensemble import AdaBoostClassifier"
   ]
  },
  {
   "cell_type": "code",
   "execution_count": 57,
   "metadata": {},
   "outputs": [],
   "source": [
    "\n",
    "num_learners = range(1,51)\n",
    "\n",
    "## Make an array to hold your cross validation results here\n",
    "ada_accuracy = np.zeros((10, len(num_learners)))\n",
    "\n",
    "## fill in the code for a 5-fold cross-validation object here\n",
    "kfold = StratifiedKFold(10)\n",
    "\n",
    "\n",
    "i=0\n",
    "for train_index, test_index in kf.split(df_train[selected_features],df_train['popularity']):\n",
    "    # Get the cv train test split\n",
    "    df_train_train = df_train.iloc[train_index]\n",
    "    df_holdout = df_train.iloc[test_index]\n",
    "\n",
    "    \n",
    "    # here we loop through the different values for n_estimators\n",
    "    for j in num_learners:\n",
    "        # make the AdaBoostClassifier object here\n",
    "        ada = AdaBoostClassifier(DecisionTreeClassifier(max_depth=3), n_estimators=j, learning_rate=1)\n",
    "        \n",
    "        # fit that object here\n",
    "        ada.fit(df_train_train[selected_features], df_train_train['popularity'])\n",
    "        pred = ada.predict(df_holdout[selected_features])\n",
    "        # record the performance in your array here\n",
    "        ada_accuracy[i,j-1] = accuracy_score(df_holdout['popularity'], pred)\n",
    "\n",
    "    i = i + 1"
   ]
  },
  {
   "cell_type": "code",
   "execution_count": 58,
   "metadata": {},
   "outputs": [
    {
     "data": {
      "text/plain": [
       "array([0.91061269, 0.90949745, 0.90950021, 0.90875947, 0.90875809,\n",
       "       0.90913259, 0.90728211, 0.90320116, 0.9039419 , 0.90320391,\n",
       "       0.90356877, 0.90245629, 0.90023131, 0.89911607, 0.89763459,\n",
       "       0.8950296 , 0.89688696, 0.8950296 , 0.8961476 , 0.89466612,\n",
       "       0.89836982, 0.8935495 , 0.89688421, 0.89503098, 0.89539997,\n",
       "       0.8957786 , 0.89429024, 0.89540273, 0.89317637, 0.89392262,\n",
       "       0.89243976, 0.89318188, 0.8917004 , 0.89465785, 0.89391574,\n",
       "       0.89205838, 0.89169352, 0.89132039, 0.89465923, 0.89168938,\n",
       "       0.89206113, 0.89094727, 0.89391574, 0.89540273, 0.89391711,\n",
       "       0.89354674, 0.89391711, 0.89280463, 0.89466061, 0.89169627])"
      ]
     },
     "execution_count": 58,
     "metadata": {},
     "output_type": "execute_result"
    }
   ],
   "source": [
    "np.mean(ada_accuracy, axis = 0)"
   ]
  },
  {
   "cell_type": "code",
   "execution_count": 59,
   "metadata": {},
   "outputs": [
    {
     "name": "stdout",
     "output_type": "stream",
     "text": [
      "number of estimator with best accuracy is 1\n"
     ]
    }
   ],
   "source": [
    "print('number of estimator with best accuracy is {}'.format(num_learners[np.argmax(np.mean(ada_accuracy, axis=0))]))"
   ]
  },
  {
   "cell_type": "markdown",
   "metadata": {},
   "source": [
    "It seems that adaboost is not much better so I skip it"
   ]
  },
  {
   "cell_type": "markdown",
   "metadata": {},
   "source": [
    "# VoterModels"
   ]
  },
  {
   "cell_type": "code",
   "execution_count": 60,
   "metadata": {},
   "outputs": [],
   "source": [
    "from sklearn.ensemble import VotingClassifier"
   ]
  },
  {
   "cell_type": "code",
   "execution_count": 61,
   "metadata": {},
   "outputs": [
    {
     "data": {
      "text/plain": [
       "0.9154302670623146"
      ]
     },
     "execution_count": 61,
     "metadata": {},
     "output_type": "execute_result"
    }
   ],
   "source": [
    "voter_clf = VotingClassifier([('svc', SVC(C = 50, probability = True)), ('KNN', KNeighborsClassifier(n_neighbors = 12)),\n",
    "                       ('log_reg', LogisticRegression(C = 0.1, max_iter = 100000)),\n",
    "                       ('DT', DecisionTreeClassifier(max_depth=2))], voting = 'soft')\n",
    "voter_clf.fit(df_train[selected_features], df_train['popularity'])\n",
    "pred = voter_clf.predict(df_train[selected_features])\n",
    "accuracy_score(pred, df_train['popularity'])"
   ]
  },
  {
   "cell_type": "markdown",
   "metadata": {},
   "source": [
    "# By cross validation I will decide which model eventually works better"
   ]
  },
  {
   "cell_type": "code",
   "execution_count": 62,
   "metadata": {},
   "outputs": [],
   "source": [
    "cv_accs = np.zeros((10,5))\n",
    "cv_rocs = np.zeros((10,5))\n",
    "svc_clf = SVC(C = 50, probability = True)\n",
    "\n",
    "KNN_clf = KNeighborsClassifier(n_neighbors = 12)\n",
    "\n",
    "log_reg_clf = LogisticRegression(C = 0.1, max_iter = 10000)\n",
    "\n",
    "DT_clf = DecisionTreeClassifier(max_depth = 2)\n",
    "voting_clf = voter_clf = VotingClassifier([('svc', SVC(C = 50, probability = True)), ('KNN', KNeighborsClassifier(n_neighbors = 36)),\n",
    "                       ('log_reg', LogisticRegression(C = 0.1, max_iter = 100000)),\n",
    "                       ('DT', DecisionTreeClassifier(max_depth=2))], voting = 'soft')\n",
    "i = 0\n",
    "for train_index, test_index in kf.split(df_train[selected_features],df_train['popularity']):\n",
    "    # Get the cv train test split\n",
    "    df_train_train = df_train.iloc[train_index]\n",
    "    df_holdout = df_train.iloc[test_index]\n",
    "    \n",
    "    svc_clf_clone = clone(svc_clf)\n",
    "    KNN_clf_clone = clone(KNN_clf)\n",
    "    log_reg_clf_clone = clone(log_reg_clf)\n",
    "    DT_clf_clone = clone(DT_clf)\n",
    "    voting_clf_clone = clone(voting_clf)\n",
    "    \n",
    "    svc_clf_clone.fit(df_train_train[selected_features], df_train_train['popularity'])\n",
    "    KNN_clf_clone.fit(df_train_train[selected_features], df_train_train['popularity'])\n",
    "    log_reg_clf_clone.fit(df_train_train[selected_features], df_train_train['popularity'])\n",
    "    DT_clf_clone.fit(df_train_train[selected_features], df_train_train['popularity'])\n",
    "    voting_clf_clone.fit(df_train_train[selected_features], df_train_train['popularity'])\n",
    "    \n",
    "    cv_accs[i,0] = accuracy_score(df_holdout['popularity'], svc_clf_clone.predict(df_holdout[selected_features]))\n",
    "    cv_accs[i,1] = accuracy_score(df_holdout['popularity'], KNN_clf_clone.predict(df_holdout[selected_features]))\n",
    "    cv_accs[i,2] = accuracy_score(df_holdout['popularity'], log_reg_clf_clone.predict(df_holdout[selected_features]))\n",
    "    cv_accs[i,3] = accuracy_score(df_holdout['popularity'], DT_clf_clone.predict(df_holdout[selected_features]))\n",
    "    cv_accs[i,4] = accuracy_score(df_holdout['popularity'], voting_clf_clone.predict(df_holdout[selected_features]))\n",
    "    \n",
    "    cv_rocs[i,0] = roc_auc_score(df_holdout['popularity'], svc_clf_clone.predict_proba(df_holdout[selected_features])[:,1])\n",
    "    cv_rocs[i,1] = roc_auc_score(df_holdout['popularity'], KNN_clf_clone.predict_proba(df_holdout[selected_features])[:,1])\n",
    "    cv_rocs[i,2] = roc_auc_score(df_holdout['popularity'], log_reg_clf_clone.predict_proba(df_holdout[selected_features])[:,1])\n",
    "    cv_rocs[i,3] = roc_auc_score(df_holdout['popularity'], DT_clf_clone.predict_proba(df_holdout[selected_features])[:,1])\n",
    "    cv_rocs[i,4] = roc_auc_score(df_holdout['popularity'], voting_clf_clone.predict_proba(df_holdout[selected_features])[:,1])\n",
    "    \n",
    "    i = i + 1\n",
    "    "
   ]
  },
  {
   "cell_type": "code",
   "execution_count": 63,
   "metadata": {},
   "outputs": [
    {
     "data": {
      "text/plain": [
       "array([0.89985405, 0.91098857, 0.90986507, 0.91061545, 0.91209555])"
      ]
     },
     "execution_count": 63,
     "metadata": {},
     "output_type": "execute_result"
    }
   ],
   "source": [
    "np.mean(cv_accs, axis = 0)"
   ]
  },
  {
   "cell_type": "code",
   "execution_count": 64,
   "metadata": {},
   "outputs": [
    {
     "data": {
      "text/plain": [
       "array([0.84299295, 0.86139467, 0.89821167, 0.87468587, 0.90207043])"
      ]
     },
     "execution_count": 64,
     "metadata": {},
     "output_type": "execute_result"
    }
   ],
   "source": [
    "np.mean(cv_rocs, axis = 0)"
   ]
  },
  {
   "cell_type": "code",
   "execution_count": 65,
   "metadata": {},
   "outputs": [
    {
     "data": {
      "image/png": "[encoded data removed]",
      "text/plain": [
       "<Figure size 720x576 with 1 Axes>"
      ]
     },
     "metadata": {},
     "output_type": "display_data"
    },
    {
     "data": {
      "image/png": "[encoded data removed]",
      "text/plain": [
       "<Figure size 720x576 with 1 Axes>"
      ]
     },
     "metadata": {},
     "output_type": "display_data"
    }
   ],
   "source": [
    "plt.figure(figsize=(10,8))\n",
    "\n",
    "plt.scatter(range(5), 100*np.mean(cv_accs, axis=0), s=100)\n",
    "\n",
    "plt.xlabel(\"Model\", fontsize=18)\n",
    "plt.ylabel(\"Avg. CV Accuracy\", fontsize=18)\n",
    "\n",
    "plt.yticks(fontsize=14)\n",
    "plt.xticks(range(5), ['SVC', 'K_nearest_neighbors', 'Logistic','DecisionTree','Voter'], fontsize=14)\n",
    "\n",
    "plt.show()\n",
    "\n",
    "plt.figure(figsize=(10,8))\n",
    "\n",
    "plt.scatter(range(5), 100*np.mean(cv_rocs, axis=0), s=100)\n",
    "\n",
    "plt.xlabel(\"Model\", fontsize=18)\n",
    "plt.ylabel(\"Avg. CV ROC\", fontsize=18)\n",
    "\n",
    "plt.yticks(fontsize=14)\n",
    "plt.xticks(range(5), ['SVC', 'K_nearest_neighbors', 'Logistic','DecisionTree','Voter'], fontsize=14)\n",
    "\n",
    "plt.show()"
   ]
  },
  {
   "cell_type": "markdown",
   "metadata": {},
   "source": [
    "# final test on the test samples"
   ]
  },
  {
   "cell_type": "code",
   "execution_count": 66,
   "metadata": {},
   "outputs": [
    {
     "data": {
      "text/plain": [
       "Index(['DD', 'Daily Discussion', 'Discussion', 'Gain', 'Loss', 'Meme', 'Mods',\n",
       "       'News', 'Technical Analysis', 'Weekend Discussion', 'YOLO'],\n",
       "      dtype='object')"
      ]
     },
     "execution_count": 66,
     "metadata": {},
     "output_type": "execute_result"
    }
   ],
   "source": [
    "# Here I one_hot_encode it\n",
    "pd.get_dummies(df_test.flair).columns"
   ]
  },
  {
   "cell_type": "code",
   "execution_count": 67,
   "metadata": {},
   "outputs": [
    {
     "data": {
      "text/plain": [
       "['hot_val',\n",
       " 'upvotes',\n",
       " 'DD',\n",
       " 'Daily_Discussion',\n",
       " 'Discussion',\n",
       " 'Gain',\n",
       " 'Loss',\n",
       " 'Meme',\n",
       " 'Modes',\n",
       " 'News',\n",
       " 'Technical_Analysis',\n",
       " 'Weekend_Discussion',\n",
       " 'Yolo',\n",
       " 'language_variable']"
      ]
     },
     "execution_count": 67,
     "metadata": {},
     "output_type": "execute_result"
    }
   ],
   "source": [
    "selected_features"
   ]
  },
  {
   "cell_type": "code",
   "execution_count": 71,
   "metadata": {},
   "outputs": [
    {
     "name": "stderr",
     "output_type": "stream",
     "text": [
      "/opt/homebrew/anaconda3/lib/python3.8/site-packages/pandas/core/frame.py:3065: SettingWithCopyWarning: \n",
      "A value is trying to be set on a copy of a slice from a DataFrame.\n",
      "Try using .loc[row_indexer,col_indexer] = value instead\n",
      "\n",
      "See the caveats in the documentation: https://pandas.pydata.org/pandas-docs/stable/user_guide/indexing.html#returning-a-view-versus-a-copy\n",
      "  self[k1] = value[k2]\n"
     ]
    }
   ],
   "source": [
    "# Here I one_hot_encode it\n",
    "df_test[['DD','Daily_Discussion','Discussion','Gain', 'Loss', 'Meme', 'Modes',\n",
    "       'News', 'Technical_Analysis', 'Yolo']] = pd.get_dummies(df_test.flair)[['DD','Daily Discussion', 'Discussion', 'Gain', 'Loss', 'Meme', 'Mods',\n",
    "       'News', 'Technical Analysis', 'YOLO']].copy()"
   ]
  },
  {
   "cell_type": "code",
   "execution_count": 72,
   "metadata": {},
   "outputs": [
    {
     "ename": "KeyError",
     "evalue": "\"['Mods'] not found in axis\"",
     "output_type": "error",
     "traceback": [
      "\u001b[0;31m---------------------------------------------------------------------------\u001b[0m",
      "\u001b[0;31mKeyError\u001b[0m                                  Traceback (most recent call last)",
      "\u001b[0;32m<ipython-input-72-cf5326d82333>\u001b[0m in \u001b[0;36m<module>\u001b[0;34m\u001b[0m\n\u001b[0;32m----> 1\u001b[0;31m \u001b[0mdf_test\u001b[0m\u001b[0;34m.\u001b[0m\u001b[0mdrop\u001b[0m\u001b[0;34m(\u001b[0m\u001b[0;34m'Mods'\u001b[0m\u001b[0;34m,\u001b[0m \u001b[0maxis\u001b[0m \u001b[0;34m=\u001b[0m \u001b[0;36m1\u001b[0m\u001b[0;34m,\u001b[0m\u001b[0minplace\u001b[0m \u001b[0;34m=\u001b[0m \u001b[0;32mTrue\u001b[0m\u001b[0;34m)\u001b[0m\u001b[0;34m\u001b[0m\u001b[0;34m\u001b[0m\u001b[0m\n\u001b[0m",
      "\u001b[0;32m/opt/homebrew/anaconda3/lib/python3.8/site-packages/pandas/core/frame.py\u001b[0m in \u001b[0;36mdrop\u001b[0;34m(self, labels, axis, index, columns, level, inplace, errors)\u001b[0m\n\u001b[1;32m   4161\u001b[0m                 \u001b[0mweight\u001b[0m  \u001b[0;36m1.0\u001b[0m     \u001b[0;36m0.8\u001b[0m\u001b[0;34m\u001b[0m\u001b[0;34m\u001b[0m\u001b[0m\n\u001b[1;32m   4162\u001b[0m         \"\"\"\n\u001b[0;32m-> 4163\u001b[0;31m         return super().drop(\n\u001b[0m\u001b[1;32m   4164\u001b[0m             \u001b[0mlabels\u001b[0m\u001b[0;34m=\u001b[0m\u001b[0mlabels\u001b[0m\u001b[0;34m,\u001b[0m\u001b[0;34m\u001b[0m\u001b[0;34m\u001b[0m\u001b[0m\n\u001b[1;32m   4165\u001b[0m             \u001b[0maxis\u001b[0m\u001b[0;34m=\u001b[0m\u001b[0maxis\u001b[0m\u001b[0;34m,\u001b[0m\u001b[0;34m\u001b[0m\u001b[0;34m\u001b[0m\u001b[0m\n",
      "\u001b[0;32m/opt/homebrew/anaconda3/lib/python3.8/site-packages/pandas/core/generic.py\u001b[0m in \u001b[0;36mdrop\u001b[0;34m(self, labels, axis, index, columns, level, inplace, errors)\u001b[0m\n\u001b[1;32m   3885\u001b[0m         \u001b[0;32mfor\u001b[0m \u001b[0maxis\u001b[0m\u001b[0;34m,\u001b[0m \u001b[0mlabels\u001b[0m \u001b[0;32min\u001b[0m \u001b[0maxes\u001b[0m\u001b[0;34m.\u001b[0m\u001b[0mitems\u001b[0m\u001b[0;34m(\u001b[0m\u001b[0;34m)\u001b[0m\u001b[0;34m:\u001b[0m\u001b[0;34m\u001b[0m\u001b[0;34m\u001b[0m\u001b[0m\n\u001b[1;32m   3886\u001b[0m             \u001b[0;32mif\u001b[0m \u001b[0mlabels\u001b[0m \u001b[0;32mis\u001b[0m \u001b[0;32mnot\u001b[0m \u001b[0;32mNone\u001b[0m\u001b[0;34m:\u001b[0m\u001b[0;34m\u001b[0m\u001b[0;34m\u001b[0m\u001b[0m\n\u001b[0;32m-> 3887\u001b[0;31m                 \u001b[0mobj\u001b[0m \u001b[0;34m=\u001b[0m \u001b[0mobj\u001b[0m\u001b[0;34m.\u001b[0m\u001b[0m_drop_axis\u001b[0m\u001b[0;34m(\u001b[0m\u001b[0mlabels\u001b[0m\u001b[0;34m,\u001b[0m \u001b[0maxis\u001b[0m\u001b[0;34m,\u001b[0m \u001b[0mlevel\u001b[0m\u001b[0;34m=\u001b[0m\u001b[0mlevel\u001b[0m\u001b[0;34m,\u001b[0m \u001b[0merrors\u001b[0m\u001b[0;34m=\u001b[0m\u001b[0merrors\u001b[0m\u001b[0;34m)\u001b[0m\u001b[0;34m\u001b[0m\u001b[0;34m\u001b[0m\u001b[0m\n\u001b[0m\u001b[1;32m   3888\u001b[0m \u001b[0;34m\u001b[0m\u001b[0m\n\u001b[1;32m   3889\u001b[0m         \u001b[0;32mif\u001b[0m \u001b[0minplace\u001b[0m\u001b[0;34m:\u001b[0m\u001b[0;34m\u001b[0m\u001b[0;34m\u001b[0m\u001b[0m\n",
      "\u001b[0;32m/opt/homebrew/anaconda3/lib/python3.8/site-packages/pandas/core/generic.py\u001b[0m in \u001b[0;36m_drop_axis\u001b[0;34m(self, labels, axis, level, errors)\u001b[0m\n\u001b[1;32m   3919\u001b[0m                 \u001b[0mnew_axis\u001b[0m \u001b[0;34m=\u001b[0m \u001b[0maxis\u001b[0m\u001b[0;34m.\u001b[0m\u001b[0mdrop\u001b[0m\u001b[0;34m(\u001b[0m\u001b[0mlabels\u001b[0m\u001b[0;34m,\u001b[0m \u001b[0mlevel\u001b[0m\u001b[0;34m=\u001b[0m\u001b[0mlevel\u001b[0m\u001b[0;34m,\u001b[0m \u001b[0merrors\u001b[0m\u001b[0;34m=\u001b[0m\u001b[0merrors\u001b[0m\u001b[0;34m)\u001b[0m\u001b[0;34m\u001b[0m\u001b[0;34m\u001b[0m\u001b[0m\n\u001b[1;32m   3920\u001b[0m             \u001b[0;32melse\u001b[0m\u001b[0;34m:\u001b[0m\u001b[0;34m\u001b[0m\u001b[0;34m\u001b[0m\u001b[0m\n\u001b[0;32m-> 3921\u001b[0;31m                 \u001b[0mnew_axis\u001b[0m \u001b[0;34m=\u001b[0m \u001b[0maxis\u001b[0m\u001b[0;34m.\u001b[0m\u001b[0mdrop\u001b[0m\u001b[0;34m(\u001b[0m\u001b[0mlabels\u001b[0m\u001b[0;34m,\u001b[0m \u001b[0merrors\u001b[0m\u001b[0;34m=\u001b[0m\u001b[0merrors\u001b[0m\u001b[0;34m)\u001b[0m\u001b[0;34m\u001b[0m\u001b[0;34m\u001b[0m\u001b[0m\n\u001b[0m\u001b[1;32m   3922\u001b[0m             \u001b[0mresult\u001b[0m \u001b[0;34m=\u001b[0m \u001b[0mself\u001b[0m\u001b[0;34m.\u001b[0m\u001b[0mreindex\u001b[0m\u001b[0;34m(\u001b[0m\u001b[0;34m**\u001b[0m\u001b[0;34m{\u001b[0m\u001b[0maxis_name\u001b[0m\u001b[0;34m:\u001b[0m \u001b[0mnew_axis\u001b[0m\u001b[0;34m}\u001b[0m\u001b[0;34m)\u001b[0m\u001b[0;34m\u001b[0m\u001b[0;34m\u001b[0m\u001b[0m\n\u001b[1;32m   3923\u001b[0m \u001b[0;34m\u001b[0m\u001b[0m\n",
      "\u001b[0;32m/opt/homebrew/anaconda3/lib/python3.8/site-packages/pandas/core/indexes/base.py\u001b[0m in \u001b[0;36mdrop\u001b[0;34m(self, labels, errors)\u001b[0m\n\u001b[1;32m   5280\u001b[0m         \u001b[0;32mif\u001b[0m \u001b[0mmask\u001b[0m\u001b[0;34m.\u001b[0m\u001b[0many\u001b[0m\u001b[0;34m(\u001b[0m\u001b[0;34m)\u001b[0m\u001b[0;34m:\u001b[0m\u001b[0;34m\u001b[0m\u001b[0;34m\u001b[0m\u001b[0m\n\u001b[1;32m   5281\u001b[0m             \u001b[0;32mif\u001b[0m \u001b[0merrors\u001b[0m \u001b[0;34m!=\u001b[0m \u001b[0;34m\"ignore\"\u001b[0m\u001b[0;34m:\u001b[0m\u001b[0;34m\u001b[0m\u001b[0;34m\u001b[0m\u001b[0m\n\u001b[0;32m-> 5282\u001b[0;31m                 \u001b[0;32mraise\u001b[0m \u001b[0mKeyError\u001b[0m\u001b[0;34m(\u001b[0m\u001b[0;34mf\"{labels[mask]} not found in axis\"\u001b[0m\u001b[0;34m)\u001b[0m\u001b[0;34m\u001b[0m\u001b[0;34m\u001b[0m\u001b[0m\n\u001b[0m\u001b[1;32m   5283\u001b[0m             \u001b[0mindexer\u001b[0m \u001b[0;34m=\u001b[0m \u001b[0mindexer\u001b[0m\u001b[0;34m[\u001b[0m\u001b[0;34m~\u001b[0m\u001b[0mmask\u001b[0m\u001b[0;34m]\u001b[0m\u001b[0;34m\u001b[0m\u001b[0;34m\u001b[0m\u001b[0m\n\u001b[1;32m   5284\u001b[0m         \u001b[0;32mreturn\u001b[0m \u001b[0mself\u001b[0m\u001b[0;34m.\u001b[0m\u001b[0mdelete\u001b[0m\u001b[0;34m(\u001b[0m\u001b[0mindexer\u001b[0m\u001b[0;34m)\u001b[0m\u001b[0;34m\u001b[0m\u001b[0;34m\u001b[0m\u001b[0m\n",
      "\u001b[0;31mKeyError\u001b[0m: \"['Mods'] not found in axis\""
     ]
    }
   ],
   "source": [
    "df_test.drop('Mods', axis = 1,inplace = True)"
   ]
  },
  {
   "cell_type": "code",
   "execution_count": 73,
   "metadata": {},
   "outputs": [
    {
     "data": {
      "text/html": [
       "<div>\n",
       "<style scoped>\n",
       "    .dataframe tbody tr th:only-of-type {\n",
       "        vertical-align: middle;\n",
       "    }\n",
       "\n",
       "    .dataframe tbody tr th {\n",
       "        vertical-align: top;\n",
       "    }\n",
       "\n",
       "    .dataframe thead th {\n",
       "        text-align: right;\n",
       "    }\n",
       "</style>\n",
       "<table border=\"1\" class=\"dataframe\">\n",
       "  <thead>\n",
       "    <tr style=\"text-align: right;\">\n",
       "      <th></th>\n",
       "      <th>post_id</th>\n",
       "      <th>active_track</th>\n",
       "      <th>title</th>\n",
       "      <th>comment_url</th>\n",
       "      <th>link_url</th>\n",
       "      <th>flair</th>\n",
       "      <th>submit_time</th>\n",
       "      <th>rising_val</th>\n",
       "      <th>hot_val</th>\n",
       "      <th>username</th>\n",
       "      <th>...</th>\n",
       "      <th>DD</th>\n",
       "      <th>Daily_Discussion</th>\n",
       "      <th>Discussion</th>\n",
       "      <th>Gain</th>\n",
       "      <th>Loss</th>\n",
       "      <th>Meme</th>\n",
       "      <th>Modes</th>\n",
       "      <th>News</th>\n",
       "      <th>Technical_Analysis</th>\n",
       "      <th>Yolo</th>\n",
       "    </tr>\n",
       "  </thead>\n",
       "  <tbody>\n",
       "    <tr>\n",
       "      <th>1404</th>\n",
       "      <td>1691</td>\n",
       "      <td>No</td>\n",
       "      <td>Before all the AMC gain porn that’s about to c...</td>\n",
       "      <td>https://old.reddit.com/r/wallstreetbets/commen...</td>\n",
       "      <td>https://i.redd.it/q5yn5xrlf9x71.jpg</td>\n",
       "      <td>Loss</td>\n",
       "      <td>\"2021-11-02T22:39:37</td>\n",
       "      <td>4</td>\n",
       "      <td>46</td>\n",
       "      <td>drdarkpiccolo</td>\n",
       "      <td>...</td>\n",
       "      <td>0</td>\n",
       "      <td>0</td>\n",
       "      <td>0</td>\n",
       "      <td>0</td>\n",
       "      <td>1</td>\n",
       "      <td>0</td>\n",
       "      <td>0</td>\n",
       "      <td>0</td>\n",
       "      <td>0</td>\n",
       "      <td>0</td>\n",
       "    </tr>\n",
       "    <tr>\n",
       "      <th>1788</th>\n",
       "      <td>2139</td>\n",
       "      <td>No</td>\n",
       "      <td>CLOV YOLO - NEED earnings to pay for my TSLA s...</td>\n",
       "      <td>https://old.reddit.com/r/wallstreetbets/commen...</td>\n",
       "      <td>https://i.redd.it/gak6s8ub9mx71.png</td>\n",
       "      <td>YOLO</td>\n",
       "      <td>\"2021-11-04T17:49:15</td>\n",
       "      <td>1</td>\n",
       "      <td>67</td>\n",
       "      <td>ancillos</td>\n",
       "      <td>...</td>\n",
       "      <td>0</td>\n",
       "      <td>0</td>\n",
       "      <td>0</td>\n",
       "      <td>0</td>\n",
       "      <td>0</td>\n",
       "      <td>0</td>\n",
       "      <td>0</td>\n",
       "      <td>0</td>\n",
       "      <td>0</td>\n",
       "      <td>1</td>\n",
       "    </tr>\n",
       "    <tr>\n",
       "      <th>88</th>\n",
       "      <td>108</td>\n",
       "      <td>No</td>\n",
       "      <td>Guggenheim CIO Scott Minerd: Jerome Powell no ...</td>\n",
       "      <td>https://old.reddit.com/r/wallstreetbets/commen...</td>\n",
       "      <td>https://finance.yahoo.com/news/guggenheim-cio-...</td>\n",
       "      <td>News</td>\n",
       "      <td>\"2021-10-21T01:53:59</td>\n",
       "      <td>2</td>\n",
       "      <td>57</td>\n",
       "      <td>meyerfood</td>\n",
       "      <td>...</td>\n",
       "      <td>0</td>\n",
       "      <td>0</td>\n",
       "      <td>0</td>\n",
       "      <td>0</td>\n",
       "      <td>0</td>\n",
       "      <td>0</td>\n",
       "      <td>0</td>\n",
       "      <td>1</td>\n",
       "      <td>0</td>\n",
       "      <td>0</td>\n",
       "    </tr>\n",
       "    <tr>\n",
       "      <th>345</th>\n",
       "      <td>423</td>\n",
       "      <td>No</td>\n",
       "      <td>Bought some shares yesterday morning from the ...</td>\n",
       "      <td>https://old.reddit.com/r/wallstreetbets/commen...</td>\n",
       "      <td>https://i.redd.it/arlw4rprw2v71.jpg</td>\n",
       "      <td>Gain</td>\n",
       "      <td>\"2021-10-22T22:37:42</td>\n",
       "      <td>99</td>\n",
       "      <td>82</td>\n",
       "      <td>jobadoba</td>\n",
       "      <td>...</td>\n",
       "      <td>0</td>\n",
       "      <td>0</td>\n",
       "      <td>0</td>\n",
       "      <td>1</td>\n",
       "      <td>0</td>\n",
       "      <td>0</td>\n",
       "      <td>0</td>\n",
       "      <td>0</td>\n",
       "      <td>0</td>\n",
       "      <td>0</td>\n",
       "    </tr>\n",
       "    <tr>\n",
       "      <th>3258</th>\n",
       "      <td>3893</td>\n",
       "      <td>No</td>\n",
       "      <td>Looks like another couple of phenomenal years ...</td>\n",
       "      <td>https://old.reddit.com/r/wallstreetbets/commen...</td>\n",
       "      <td>https://www.bloomberg.com/opinion/articles/202...</td>\n",
       "      <td>News</td>\n",
       "      <td>\"2021-11-13T09:53:54</td>\n",
       "      <td>0</td>\n",
       "      <td>65</td>\n",
       "      <td>Fast-Barracuda1250</td>\n",
       "      <td>...</td>\n",
       "      <td>0</td>\n",
       "      <td>0</td>\n",
       "      <td>0</td>\n",
       "      <td>0</td>\n",
       "      <td>0</td>\n",
       "      <td>0</td>\n",
       "      <td>0</td>\n",
       "      <td>1</td>\n",
       "      <td>0</td>\n",
       "      <td>0</td>\n",
       "    </tr>\n",
       "  </tbody>\n",
       "</table>\n",
       "<p>5 rows × 35 columns</p>\n",
       "</div>"
      ],
      "text/plain": [
       "      post_id active_track                                              title  \\\n",
       "1404     1691           No  Before all the AMC gain porn that’s about to c...   \n",
       "1788     2139           No  CLOV YOLO - NEED earnings to pay for my TSLA s...   \n",
       "88        108           No  Guggenheim CIO Scott Minerd: Jerome Powell no ...   \n",
       "345       423           No  Bought some shares yesterday morning from the ...   \n",
       "3258     3893           No  Looks like another couple of phenomenal years ...   \n",
       "\n",
       "                                            comment_url  \\\n",
       "1404  https://old.reddit.com/r/wallstreetbets/commen...   \n",
       "1788  https://old.reddit.com/r/wallstreetbets/commen...   \n",
       "88    https://old.reddit.com/r/wallstreetbets/commen...   \n",
       "345   https://old.reddit.com/r/wallstreetbets/commen...   \n",
       "3258  https://old.reddit.com/r/wallstreetbets/commen...   \n",
       "\n",
       "                                               link_url flair  \\\n",
       "1404                https://i.redd.it/q5yn5xrlf9x71.jpg  Loss   \n",
       "1788                https://i.redd.it/gak6s8ub9mx71.png  YOLO   \n",
       "88    https://finance.yahoo.com/news/guggenheim-cio-...  News   \n",
       "345                 https://i.redd.it/arlw4rprw2v71.jpg  Gain   \n",
       "3258  https://www.bloomberg.com/opinion/articles/202...  News   \n",
       "\n",
       "               submit_time  rising_val  hot_val            username  ...  DD  \\\n",
       "1404  \"2021-11-02T22:39:37           4       46       drdarkpiccolo  ...   0   \n",
       "1788  \"2021-11-04T17:49:15           1       67            ancillos  ...   0   \n",
       "88    \"2021-10-21T01:53:59           2       57           meyerfood  ...   0   \n",
       "345   \"2021-10-22T22:37:42          99       82            jobadoba  ...   0   \n",
       "3258  \"2021-11-13T09:53:54           0       65  Fast-Barracuda1250  ...   0   \n",
       "\n",
       "      Daily_Discussion  Discussion  Gain  Loss  Meme Modes  News  \\\n",
       "1404                 0           0     0     1     0     0     0   \n",
       "1788                 0           0     0     0     0     0     0   \n",
       "88                   0           0     0     0     0     0     1   \n",
       "345                  0           0     1     0     0     0     0   \n",
       "3258                 0           0     0     0     0     0     1   \n",
       "\n",
       "      Technical_Analysis  Yolo  \n",
       "1404                   0     0  \n",
       "1788                   0     1  \n",
       "88                     0     0  \n",
       "345                    0     0  \n",
       "3258                   0     0  \n",
       "\n",
       "[5 rows x 35 columns]"
      ]
     },
     "execution_count": 73,
     "metadata": {},
     "output_type": "execute_result"
    }
   ],
   "source": [
    "df_test.head()"
   ]
  },
  {
   "cell_type": "code",
   "execution_count": 75,
   "metadata": {},
   "outputs": [],
   "source": [
    "selected_features_test = ['hot_val','upvotes','DD','Daily_Discussion','Discussion','Gain', 'Loss', 'Meme', 'Modes',\n",
    "       'News', 'Technical_Analysis', 'Yolo','language_variable']"
   ]
  },
  {
   "cell_type": "code",
   "execution_count": 76,
   "metadata": {},
   "outputs": [],
   "source": [
    "voting_clf = voter_clf = VotingClassifier([('svc', SVC(C = 50, probability = True)), ('KNN', KNeighborsClassifier(n_neighbors = 36)),\n",
    "                       ('log_reg', LogisticRegression(C = 0.1, max_iter = 100000)),\n",
    "                       ('DT', DecisionTreeClassifier(max_depth=2))], voting = 'soft')\n",
    "voting_clf.fit(df_train[selected_features_test], df_train['popularity'])\n",
    "test_accuracy = accuracy_score(df_test['popularity'], voting_clf.predict(df_test[selected_features_test])) \n",
    "test_roc = roc_auc_score(df_test['popularity'], voting_clf.predict_proba(df_test[selected_features_test])[:,1])\n",
    "fprs, tprs, thresholds = roc_curve(df_test['popularity'], voting_clf.predict_proba(df_test[selected_features_test])[:,1])"
   ]
  },
  {
   "cell_type": "code",
   "execution_count": 77,
   "metadata": {},
   "outputs": [
    {
     "data": {
      "text/plain": [
       "0.913946587537092"
      ]
     },
     "execution_count": 77,
     "metadata": {},
     "output_type": "execute_result"
    }
   ],
   "source": [
    "test_accuracy"
   ]
  },
  {
   "cell_type": "code",
   "execution_count": 78,
   "metadata": {},
   "outputs": [
    {
     "data": {
      "text/plain": [
       "0.9026126126126126"
      ]
     },
     "execution_count": 78,
     "metadata": {},
     "output_type": "execute_result"
    }
   ],
   "source": [
    "test_roc"
   ]
  },
  {
   "cell_type": "code",
   "execution_count": 79,
   "metadata": {},
   "outputs": [
    {
     "data": {
      "image/png": "[encoded data removed]",
      "text/plain": [
       "<Figure size 432x432 with 1 Axes>"
      ]
     },
     "metadata": {},
     "output_type": "display_data"
    }
   ],
   "source": [
    "plt.figure(figsize = (6,6))\n",
    "plt.plot(fprs, tprs)\n",
    "plt.xlabel('False Positive Rates', fontsize = 14)\n",
    "plt.ylabel('True Positive Rates', fontsize = 14)\n",
    "plt.title('ROC curve')\n",
    "\n",
    "plt.show()"
   ]
  }
 ],
 "metadata": {
  "kernelspec": {
   "display_name": "Python 3",
   "language": "python",
   "name": "python3"
  },
  "language_info": {
   "codemirror_mode": {
    "name": "ipython",
    "version": 3
   },
   "file_extension": ".py",
   "mimetype": "text/x-python",
   "name": "python",
   "nbconvert_exporter": "python",
   "pygments_lexer": "ipython3",
   "version": "3.8.5"
  }
 },
 "nbformat": 4,
 "nbformat_minor": 2
}
