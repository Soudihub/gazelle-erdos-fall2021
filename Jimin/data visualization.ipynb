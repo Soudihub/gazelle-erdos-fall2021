{
 "cells": [
  {
   "cell_type": "code",
   "execution_count": 7,
   "metadata": {},
   "outputs": [],
   "source": [
    "import numpy as np\n",
    "import pandas as pd\n",
    "import seaborn as sns"
   ]
  },
  {
   "cell_type": "code",
   "execution_count": 34,
   "metadata": {},
   "outputs": [],
   "source": [
    "data = pd.read_csv('wallstreetbets_tweets copy 2.csv')"
   ]
  },
  {
   "cell_type": "code",
   "execution_count": 2,
   "metadata": {},
   "outputs": [],
   "source": [
    "from gensim.summarization import keywords"
   ]
  },
  {
   "cell_type": "code",
   "execution_count": 5,
   "metadata": {},
   "outputs": [
    {
     "data": {
      "text/html": [
       "<div>\n",
       "<style scoped>\n",
       "    .dataframe tbody tr th:only-of-type {\n",
       "        vertical-align: middle;\n",
       "    }\n",
       "\n",
       "    .dataframe tbody tr th {\n",
       "        vertical-align: top;\n",
       "    }\n",
       "\n",
       "    .dataframe thead th {\n",
       "        text-align: right;\n",
       "    }\n",
       "</style>\n",
       "<table border=\"1\" class=\"dataframe\">\n",
       "  <thead>\n",
       "    <tr style=\"text-align: right;\">\n",
       "      <th></th>\n",
       "      <th>UserName</th>\n",
       "      <th>Timestamp</th>\n",
       "      <th>Post</th>\n",
       "      <th>Reply</th>\n",
       "      <th>Retweet</th>\n",
       "      <th>Likes</th>\n",
       "    </tr>\n",
       "  </thead>\n",
       "  <tbody>\n",
       "    <tr>\n",
       "      <th>0</th>\n",
       "      <td>Roaring Sessions\\n@roaringsessions\\n·\\n3m</td>\n",
       "      <td>2021-10-25T21:02:50.000Z</td>\n",
       "      <td>Which SPAC will go parabolic next after what w...</td>\n",
       "      <td>NaN</td>\n",
       "      <td>NaN</td>\n",
       "      <td>2</td>\n",
       "    </tr>\n",
       "    <tr>\n",
       "      <th>1</th>\n",
       "      <td>ⒼⓄⓄⒹ ⒽⒺⒶⓇⓉ\\n@StockTradesUSA\\n·\\n4m</td>\n",
       "      <td>2021-10-25T21:02:04.000Z</td>\n",
       "      <td>Next compounding Machine $RDBX  \\n\\nTiny Publi...</td>\n",
       "      <td>NaN</td>\n",
       "      <td>NaN</td>\n",
       "      <td>1</td>\n",
       "    </tr>\n",
       "    <tr>\n",
       "      <th>2</th>\n",
       "      <td>kk4sw\\n@kk4sw\\n·\\n5m</td>\n",
       "      <td>2021-10-25T21:01:25.000Z</td>\n",
       "      <td>iceberg research tomorrow, probably $dwac #dwa...</td>\n",
       "      <td>NaN</td>\n",
       "      <td>NaN</td>\n",
       "      <td>NaN</td>\n",
       "    </tr>\n",
       "    <tr>\n",
       "      <th>3</th>\n",
       "      <td>FINAP$E\\n@FintwitSynapse\\n·\\n6m</td>\n",
       "      <td>2021-10-25T21:00:11.000Z</td>\n",
       "      <td>Top Trending Stocks on #fintwit: \\n1. $FB \\n2....</td>\n",
       "      <td>NaN</td>\n",
       "      <td>NaN</td>\n",
       "      <td>3</td>\n",
       "    </tr>\n",
       "    <tr>\n",
       "      <th>4</th>\n",
       "      <td>topstonks\\n@topstonks\\n·\\n43m</td>\n",
       "      <td>2021-10-25T20:23:28.000Z</td>\n",
       "      <td>$DWAC working it's way into the top 10 most me...</td>\n",
       "      <td>NaN</td>\n",
       "      <td>NaN</td>\n",
       "      <td>2</td>\n",
       "    </tr>\n",
       "  </tbody>\n",
       "</table>\n",
       "</div>"
      ],
      "text/plain": [
       "                                    UserName                 Timestamp  \\\n",
       "0  Roaring Sessions\\n@roaringsessions\\n·\\n3m  2021-10-25T21:02:50.000Z   \n",
       "1         ⒼⓄⓄⒹ ⒽⒺⒶⓇⓉ\\n@StockTradesUSA\\n·\\n4m  2021-10-25T21:02:04.000Z   \n",
       "2                       kk4sw\\n@kk4sw\\n·\\n5m  2021-10-25T21:01:25.000Z   \n",
       "3            FINAP$E\\n@FintwitSynapse\\n·\\n6m  2021-10-25T21:00:11.000Z   \n",
       "4              topstonks\\n@topstonks\\n·\\n43m  2021-10-25T20:23:28.000Z   \n",
       "\n",
       "                                                Post  Reply Retweet Likes  \n",
       "0  Which SPAC will go parabolic next after what w...    NaN     NaN     2  \n",
       "1  Next compounding Machine $RDBX  \\n\\nTiny Publi...    NaN     NaN     1  \n",
       "2  iceberg research tomorrow, probably $dwac #dwa...    NaN     NaN   NaN  \n",
       "3  Top Trending Stocks on #fintwit: \\n1. $FB \\n2....    NaN     NaN     3  \n",
       "4  $DWAC working it's way into the top 10 most me...    NaN     NaN     2  "
      ]
     },
     "execution_count": 5,
     "metadata": {},
     "output_type": "execute_result"
    }
   ],
   "source": [
    "data.head()"
   ]
  },
  {
   "cell_type": "code",
   "execution_count": 35,
   "metadata": {
    "scrolled": true
   },
   "outputs": [],
   "source": [
    "data = data.replace(np.nan, 0)"
   ]
  },
  {
   "cell_type": "code",
   "execution_count": 36,
   "metadata": {},
   "outputs": [],
   "source": [
    "df = pd.DataFrame(data)"
   ]
  },
  {
   "cell_type": "markdown",
   "metadata": {},
   "source": [
    "## "
   ]
  },
  {
   "cell_type": "code",
   "execution_count": 37,
   "metadata": {},
   "outputs": [
    {
     "data": {
      "text/html": [
       "<div>\n",
       "<style scoped>\n",
       "    .dataframe tbody tr th:only-of-type {\n",
       "        vertical-align: middle;\n",
       "    }\n",
       "\n",
       "    .dataframe tbody tr th {\n",
       "        vertical-align: top;\n",
       "    }\n",
       "\n",
       "    .dataframe thead th {\n",
       "        text-align: right;\n",
       "    }\n",
       "</style>\n",
       "<table border=\"1\" class=\"dataframe\">\n",
       "  <thead>\n",
       "    <tr style=\"text-align: right;\">\n",
       "      <th></th>\n",
       "      <th>UserName</th>\n",
       "      <th>Timestamp</th>\n",
       "      <th>Post</th>\n",
       "      <th>Reply</th>\n",
       "      <th>Retweet</th>\n",
       "      <th>Likes</th>\n",
       "    </tr>\n",
       "  </thead>\n",
       "  <tbody>\n",
       "    <tr>\n",
       "      <th>0</th>\n",
       "      <td>Roaring Sessions\\n@roaringsessions\\n·\\n3m</td>\n",
       "      <td>2021-10-25T21:02:50.000Z</td>\n",
       "      <td>Which SPAC will go parabolic next after what w...</td>\n",
       "      <td>0.0</td>\n",
       "      <td>0</td>\n",
       "      <td>2</td>\n",
       "    </tr>\n",
       "    <tr>\n",
       "      <th>1</th>\n",
       "      <td>ⒼⓄⓄⒹ ⒽⒺⒶⓇⓉ\\n@StockTradesUSA\\n·\\n4m</td>\n",
       "      <td>2021-10-25T21:02:04.000Z</td>\n",
       "      <td>Next compounding Machine $RDBX  \\n\\nTiny Publi...</td>\n",
       "      <td>0.0</td>\n",
       "      <td>0</td>\n",
       "      <td>1</td>\n",
       "    </tr>\n",
       "    <tr>\n",
       "      <th>2</th>\n",
       "      <td>kk4sw\\n@kk4sw\\n·\\n5m</td>\n",
       "      <td>2021-10-25T21:01:25.000Z</td>\n",
       "      <td>iceberg research tomorrow, probably $dwac #dwa...</td>\n",
       "      <td>0.0</td>\n",
       "      <td>0</td>\n",
       "      <td>0</td>\n",
       "    </tr>\n",
       "    <tr>\n",
       "      <th>3</th>\n",
       "      <td>FINAP$E\\n@FintwitSynapse\\n·\\n6m</td>\n",
       "      <td>2021-10-25T21:00:11.000Z</td>\n",
       "      <td>Top Trending Stocks on #fintwit: \\n1. $FB \\n2....</td>\n",
       "      <td>0.0</td>\n",
       "      <td>0</td>\n",
       "      <td>3</td>\n",
       "    </tr>\n",
       "    <tr>\n",
       "      <th>4</th>\n",
       "      <td>topstonks\\n@topstonks\\n·\\n43m</td>\n",
       "      <td>2021-10-25T20:23:28.000Z</td>\n",
       "      <td>$DWAC working it's way into the top 10 most me...</td>\n",
       "      <td>0.0</td>\n",
       "      <td>0</td>\n",
       "      <td>2</td>\n",
       "    </tr>\n",
       "    <tr>\n",
       "      <th>...</th>\n",
       "      <td>...</td>\n",
       "      <td>...</td>\n",
       "      <td>...</td>\n",
       "      <td>...</td>\n",
       "      <td>...</td>\n",
       "      <td>...</td>\n",
       "    </tr>\n",
       "    <tr>\n",
       "      <th>3060</th>\n",
       "      <td>peace\\n@rasta1lovee\\n·\\nOct 15</td>\n",
       "      <td>2021-10-15T19:34:26.000Z</td>\n",
       "      <td>https://reddit.com/r/AMPTokenTruth/comments/q8...</td>\n",
       "      <td>0.0</td>\n",
       "      <td>0</td>\n",
       "      <td>1</td>\n",
       "    </tr>\n",
       "    <tr>\n",
       "      <th>3061</th>\n",
       "      <td>peace\\n@rasta1lovee\\n·\\nOct 15</td>\n",
       "      <td>2021-10-15T19:29:22.000Z</td>\n",
       "      <td>https://reddit.com/r/AMPTokenTruth/comments/q8...</td>\n",
       "      <td>1.0</td>\n",
       "      <td>0</td>\n",
       "      <td>0</td>\n",
       "    </tr>\n",
       "    <tr>\n",
       "      <th>3062</th>\n",
       "      <td>Antonio\\n@AFtuit\\n·\\nOct 15</td>\n",
       "      <td>2021-10-15T19:27:00.000Z</td>\n",
       "      <td>My quality selection: \\n\\n$MKC $VRTX \\n\\nLike ...</td>\n",
       "      <td>0.0</td>\n",
       "      <td>0</td>\n",
       "      <td>0</td>\n",
       "    </tr>\n",
       "    <tr>\n",
       "      <th>3063</th>\n",
       "      <td>peace\\n@rasta1lovee\\n·\\nOct 15</td>\n",
       "      <td>2021-10-15T19:26:44.000Z</td>\n",
       "      <td>https://reddit.com/r/AMPTokenTruth/comments/q8...</td>\n",
       "      <td>0.0</td>\n",
       "      <td>0</td>\n",
       "      <td>1</td>\n",
       "    </tr>\n",
       "    <tr>\n",
       "      <th>3064</th>\n",
       "      <td>WallStreetBets Memes\\n@WSB_memes\\n·\\nOct 15</td>\n",
       "      <td>2021-10-15T19:25:30.000Z</td>\n",
       "      <td>TSLA goes Brrrrrr... Burry deletes account  vi...</td>\n",
       "      <td>0.0</td>\n",
       "      <td>0</td>\n",
       "      <td>2</td>\n",
       "    </tr>\n",
       "  </tbody>\n",
       "</table>\n",
       "<p>3065 rows × 6 columns</p>\n",
       "</div>"
      ],
      "text/plain": [
       "                                         UserName                 Timestamp  \\\n",
       "0       Roaring Sessions\\n@roaringsessions\\n·\\n3m  2021-10-25T21:02:50.000Z   \n",
       "1              ⒼⓄⓄⒹ ⒽⒺⒶⓇⓉ\\n@StockTradesUSA\\n·\\n4m  2021-10-25T21:02:04.000Z   \n",
       "2                            kk4sw\\n@kk4sw\\n·\\n5m  2021-10-25T21:01:25.000Z   \n",
       "3                 FINAP$E\\n@FintwitSynapse\\n·\\n6m  2021-10-25T21:00:11.000Z   \n",
       "4                   topstonks\\n@topstonks\\n·\\n43m  2021-10-25T20:23:28.000Z   \n",
       "...                                           ...                       ...   \n",
       "3060               peace\\n@rasta1lovee\\n·\\nOct 15  2021-10-15T19:34:26.000Z   \n",
       "3061               peace\\n@rasta1lovee\\n·\\nOct 15  2021-10-15T19:29:22.000Z   \n",
       "3062                  Antonio\\n@AFtuit\\n·\\nOct 15  2021-10-15T19:27:00.000Z   \n",
       "3063               peace\\n@rasta1lovee\\n·\\nOct 15  2021-10-15T19:26:44.000Z   \n",
       "3064  WallStreetBets Memes\\n@WSB_memes\\n·\\nOct 15  2021-10-15T19:25:30.000Z   \n",
       "\n",
       "                                                   Post  Reply Retweet Likes  \n",
       "0     Which SPAC will go parabolic next after what w...    0.0       0     2  \n",
       "1     Next compounding Machine $RDBX  \\n\\nTiny Publi...    0.0       0     1  \n",
       "2     iceberg research tomorrow, probably $dwac #dwa...    0.0       0     0  \n",
       "3     Top Trending Stocks on #fintwit: \\n1. $FB \\n2....    0.0       0     3  \n",
       "4     $DWAC working it's way into the top 10 most me...    0.0       0     2  \n",
       "...                                                 ...    ...     ...   ...  \n",
       "3060  https://reddit.com/r/AMPTokenTruth/comments/q8...    0.0       0     1  \n",
       "3061  https://reddit.com/r/AMPTokenTruth/comments/q8...    1.0       0     0  \n",
       "3062  My quality selection: \\n\\n$MKC $VRTX \\n\\nLike ...    0.0       0     0  \n",
       "3063  https://reddit.com/r/AMPTokenTruth/comments/q8...    0.0       0     1  \n",
       "3064  TSLA goes Brrrrrr... Burry deletes account  vi...    0.0       0     2  \n",
       "\n",
       "[3065 rows x 6 columns]"
      ]
     },
     "execution_count": 37,
     "metadata": {},
     "output_type": "execute_result"
    }
   ],
   "source": [
    "df"
   ]
  },
  {
   "cell_type": "code",
   "execution_count": 47,
   "metadata": {},
   "outputs": [],
   "source": [
    "df2 = df.loc[:,['Reply','Retweet','Likes']]"
   ]
  },
  {
   "cell_type": "code",
   "execution_count": 49,
   "metadata": {},
   "outputs": [
    {
     "data": {
      "text/plain": [
       "<seaborn.axisgrid.PairGrid at 0x7f883152e580>"
      ]
     },
     "execution_count": 49,
     "metadata": {},
     "output_type": "execute_result"
    },
    {
     "data": {
      "image/png": "[encoded data removed]",
      "text/plain": [
       "<Figure size 180x180 with 2 Axes>"
      ]
     },
     "metadata": {
      "needs_background": "light"
     },
     "output_type": "display_data"
    }
   ],
   "source": [
    "sns.pairplot(df2)"
   ]
  },
  {
   "cell_type": "code",
   "execution_count": 50,
   "metadata": {},
   "outputs": [
    {
     "ename": "NameError",
     "evalue": "name 'scatter_matrix' is not defined",
     "output_type": "error",
     "traceback": [
      "\u001b[0;31m---------------------------------------------------------------------------\u001b[0m",
      "\u001b[0;31mNameError\u001b[0m                                 Traceback (most recent call last)",
      "\u001b[0;32m<ipython-input-50-35071b43bbe9>\u001b[0m in \u001b[0;36m<module>\u001b[0;34m\u001b[0m\n\u001b[0;32m----> 1\u001b[0;31m \u001b[0mscatter_matrix\u001b[0m\u001b[0;34m(\u001b[0m\u001b[0mdf2\u001b[0m\u001b[0;34m,\u001b[0m \u001b[0mfigsize\u001b[0m\u001b[0;34m=\u001b[0m\u001b[0;34m(\u001b[0m\u001b[0;36m14\u001b[0m\u001b[0;34m,\u001b[0m\u001b[0;36m14\u001b[0m\u001b[0;34m)\u001b[0m\u001b[0;34m,\u001b[0m \u001b[0malpha\u001b[0m\u001b[0;34m=\u001b[0m\u001b[0;36m.9\u001b[0m\u001b[0;34m)\u001b[0m\u001b[0;34m\u001b[0m\u001b[0;34m\u001b[0m\u001b[0m\n\u001b[0m\u001b[1;32m      2\u001b[0m \u001b[0;34m\u001b[0m\u001b[0m\n\u001b[1;32m      3\u001b[0m \u001b[0mplt\u001b[0m\u001b[0;34m.\u001b[0m\u001b[0mshow\u001b[0m\u001b[0;34m(\u001b[0m\u001b[0;34m)\u001b[0m\u001b[0;34m\u001b[0m\u001b[0;34m\u001b[0m\u001b[0m\n",
      "\u001b[0;31mNameError\u001b[0m: name 'scatter_matrix' is not defined"
     ]
    }
   ],
   "source": [
    "scatter_matrix(df2, figsize=(14,14), alpha=.9)\n",
    "\n",
    "plt.show()"
   ]
  },
  {
   "cell_type": "code",
   "execution_count": null,
   "metadata": {},
   "outputs": [],
   "source": []
  }
 ],
 "metadata": {
  "kernelspec": {
   "display_name": "Python 3",
   "language": "python",
   "name": "python3"
  },
  "language_info": {
   "codemirror_mode": {
    "name": "ipython",
    "version": 3
   },
   "file_extension": ".py",
   "mimetype": "text/x-python",
   "name": "python",
   "nbconvert_exporter": "python",
   "pygments_lexer": "ipython3",
   "version": "3.8.5"
  }
 },
 "nbformat": 4,
 "nbformat_minor": 4
}
